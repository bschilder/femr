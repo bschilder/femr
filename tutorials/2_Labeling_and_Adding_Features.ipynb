{
 "cells": [
  {
   "attachments": {},
   "cell_type": "markdown",
   "metadata": {},
   "source": [
    "# Adding Labels and Features in FEMR\n",
    "\n",
    "In order to currently run models in FEMR (currently just CLMBR), you will need to first assign `Label`s of interest to each patient timeline (i.e. a Patient + corresponding list of events). \n",
    "\n",
    "Once we have a `PatientDatabase` and `Label`s, we can run CLMBR (in the next tutorial)."
   ]
  },
  {
   "attachments": {},
   "cell_type": "markdown",
   "metadata": {},
   "source": [
    "\n",
    "## Labels\n",
    "A `Label` represents a time/value of interest at which we'd like to use for training. When training, all event data before the Label's time are used to predict the corresponding value.\n",
    "\n",
    "Currently in FEMR, there are pre-existing `Labeler` classes which can create labels based on specific timelines. Since the `PatientDatabase` is a set of files on disk, the output of this step is also saved to disk for later use.\n",
    "\n",
    "## Features\n",
    "\n",
    "There are currently 3 types of features that can be constructed (using FEMR `Featurizer` classes):\n",
    "1. `AgeFeaturizer`: Adds calculated age at each Label.\n",
    "2. `CountFeaturizer`: Creates a column for each unique code with the count per patient.\n",
    "3. `NoteFeaturizer`: ...\n"
   ]
  },
  {
   "attachments": {},
   "cell_type": "markdown",
   "metadata": {},
   "source": [
    "### Using the PatientDatabase"
   ]
  },
  {
   "cell_type": "code",
   "execution_count": 1,
   "metadata": {},
   "outputs": [
    {
     "name": "stdout",
     "output_type": "stream",
     "text": [
      "<class 'femr.extension.datasets.PatientDatabase'>\n"
     ]
    }
   ],
   "source": [
    "from femr.datasets import PatientDatabase\n",
    "\n",
    "patient_db = PatientDatabase(\"./example_data/example_etl_output\")\n",
    "print(type(patient_db))"
   ]
  },
  {
   "attachments": {},
   "cell_type": "markdown",
   "metadata": {},
   "source": [
    "### Getting some Labels"
   ]
  },
  {
   "cell_type": "code",
   "execution_count": 11,
   "metadata": {},
   "outputs": [
    {
     "data": {
      "text/plain": [
       "[Label(time=datetime.datetime(1970, 1, 7, 0, 0), value=False),\n",
       " Label(time=datetime.datetime(1990, 1, 7, 0, 0), value=False),\n",
       " Label(time=datetime.datetime(2020, 7, 9, 0, 0), value=False),\n",
       " Label(time=datetime.datetime(2020, 8, 9, 0, 0), value=False)]"
      ]
     },
     "execution_count": 11,
     "metadata": {},
     "output_type": "execute_result"
    }
   ],
   "source": [
    "from femr.labelers import TimeHorizon\n",
    "from femr.labelers.omop import CodeLabeler\n",
    "from datetime import timedelta\n",
    "\n",
    "# TODO: Does this example make semantic sense?\n",
    "labeler = CodeLabeler(outcome_codes=[\"ICD10CM/E11.4\"], time_horizon=TimeHorizon(timedelta(0), timedelta(365)))\n",
    "\n",
    "labels = labeler.label(patient_db[3])\n",
    "labels"
   ]
  },
  {
   "attachments": {},
   "cell_type": "markdown",
   "metadata": {},
   "source": [
    "### Using Featurizers on the Patients"
   ]
  },
  {
   "cell_type": "code",
   "execution_count": 14,
   "metadata": {},
   "outputs": [
    {
     "ename": "ValueError",
     "evalue": "Cannot compute variance with only 0 observations.",
     "output_type": "error",
     "traceback": [
      "\u001b[0;31m---------------------------------------------------------------------------\u001b[0m",
      "\u001b[0;31mValueError\u001b[0m                                Traceback (most recent call last)",
      "Cell \u001b[0;32mIn[14], line 6\u001b[0m\n\u001b[1;32m      1\u001b[0m \u001b[39mfrom\u001b[39;00m \u001b[39mfemr\u001b[39;00m\u001b[39m.\u001b[39;00m\u001b[39mfeaturizers\u001b[39;00m\u001b[39m.\u001b[39;00m\u001b[39mfeaturizers\u001b[39;00m \u001b[39mimport\u001b[39;00m AgeFeaturizer\n\u001b[1;32m      4\u001b[0m age_featurizer \u001b[39m=\u001b[39m AgeFeaturizer()\n\u001b[0;32m----> 6\u001b[0m age_featurizer\u001b[39m.\u001b[39;49mfeaturize(patient_db[\u001b[39m3\u001b[39;49m], labels\u001b[39m=\u001b[39;49mlabels, ontology\u001b[39m=\u001b[39;49mpatient_db\u001b[39m.\u001b[39;49mget_ontology())\n",
      "File \u001b[0;32m~/GitHub/femr/src/femr/featurizers/featurizers.py:100\u001b[0m, in \u001b[0;36mAgeFeaturizer.featurize\u001b[0;34m(self, patient, labels, ontology)\u001b[0m\n\u001b[1;32m     97\u001b[0m     age_in_yrs: \u001b[39mfloat\u001b[39m \u001b[39m=\u001b[39m (label\u001b[39m.\u001b[39mtime \u001b[39m-\u001b[39m patient_birth_date)\u001b[39m.\u001b[39mdays \u001b[39m/\u001b[39m \u001b[39m365\u001b[39m\n\u001b[1;32m     98\u001b[0m     \u001b[39mif\u001b[39;00m \u001b[39mself\u001b[39m\u001b[39m.\u001b[39mis_normalize:\n\u001b[1;32m     99\u001b[0m         \u001b[39m# age = (age - mean(ages)) / std(ages)\u001b[39;00m\n\u001b[0;32m--> 100\u001b[0m         age_in_yrs \u001b[39m=\u001b[39m (age_in_yrs \u001b[39m-\u001b[39m \u001b[39mself\u001b[39m\u001b[39m.\u001b[39mage_statistics\u001b[39m.\u001b[39mmean()) \u001b[39m/\u001b[39m (\u001b[39mself\u001b[39;49m\u001b[39m.\u001b[39;49mage_statistics\u001b[39m.\u001b[39;49mstandard_deviation())\n\u001b[1;32m    101\u001b[0m     all_columns\u001b[39m.\u001b[39mappend([ColumnValue(\u001b[39m0\u001b[39m, age_in_yrs)])\n\u001b[1;32m    103\u001b[0m \u001b[39mreturn\u001b[39;00m all_columns\n",
      "File \u001b[0;32m~/GitHub/femr/src/femr/featurizers/__init__.py:80\u001b[0m, in \u001b[0;36mOnlineStatistics.standard_deviation\u001b[0;34m(self)\u001b[0m\n\u001b[1;32m     76\u001b[0m \u001b[39mdef\u001b[39;00m \u001b[39mstandard_deviation\u001b[39m(\u001b[39mself\u001b[39m) \u001b[39m-\u001b[39m\u001b[39m>\u001b[39m \u001b[39mfloat\u001b[39m:\n\u001b[1;32m     77\u001b[0m \u001b[39m    \u001b[39m\u001b[39m\"\"\"\u001b[39;00m\n\u001b[1;32m     78\u001b[0m \u001b[39m    Return the current standard devation.\u001b[39;00m\n\u001b[1;32m     79\u001b[0m \u001b[39m    \"\"\"\u001b[39;00m\n\u001b[0;32m---> 80\u001b[0m     \u001b[39mreturn\u001b[39;00m math\u001b[39m.\u001b[39msqrt(\u001b[39mself\u001b[39;49m\u001b[39m.\u001b[39;49mvariance())\n",
      "File \u001b[0;32m~/GitHub/femr/src/femr/featurizers/__init__.py:72\u001b[0m, in \u001b[0;36mOnlineStatistics.variance\u001b[0;34m(self)\u001b[0m\n\u001b[1;32m     68\u001b[0m \u001b[39m\u001b[39m\u001b[39m\"\"\"\u001b[39;00m\n\u001b[1;32m     69\u001b[0m \u001b[39mReturn the current sample variance.\u001b[39;00m\n\u001b[1;32m     70\u001b[0m \u001b[39m\"\"\"\u001b[39;00m\n\u001b[1;32m     71\u001b[0m \u001b[39mif\u001b[39;00m \u001b[39mself\u001b[39m\u001b[39m.\u001b[39mcurrent_count \u001b[39m<\u001b[39m \u001b[39m2\u001b[39m:\n\u001b[0;32m---> 72\u001b[0m     \u001b[39mraise\u001b[39;00m \u001b[39mValueError\u001b[39;00m(\u001b[39mf\u001b[39m\u001b[39m\"\u001b[39m\u001b[39mCannot compute variance with only \u001b[39m\u001b[39m{\u001b[39;00m\u001b[39mself\u001b[39m\u001b[39m.\u001b[39mcurrent_count\u001b[39m}\u001b[39;00m\u001b[39m observations.\u001b[39m\u001b[39m\"\u001b[39m)\n\u001b[1;32m     74\u001b[0m \u001b[39mreturn\u001b[39;00m \u001b[39mself\u001b[39m\u001b[39m.\u001b[39mcurrent_M2 \u001b[39m/\u001b[39m (\u001b[39mself\u001b[39m\u001b[39m.\u001b[39mcurrent_count \u001b[39m-\u001b[39m \u001b[39m1\u001b[39m)\n",
      "\u001b[0;31mValueError\u001b[0m: Cannot compute variance with only 0 observations."
     ]
    }
   ],
   "source": [
    "from femr.featurizers.featurizers import AgeFeaturizer\n",
    "\n",
    "\n",
    "age_featurizer = AgeFeaturizer()\n",
    "\n",
    "age_featurizer.featurize(patient_db[3], labels=labels, ontology=patient_db.get_ontology())"
   ]
  }
 ],
 "metadata": {
  "kernelspec": {
   "display_name": "FEMR_TEST_1",
   "language": "python",
   "name": "python3"
  },
  "language_info": {
   "codemirror_mode": {
    "name": "ipython",
    "version": 3
   },
   "file_extension": ".py",
   "mimetype": "text/x-python",
   "name": "python",
   "nbconvert_exporter": "python",
   "pygments_lexer": "ipython3",
   "version": "3.10.10"
  },
  "orig_nbformat": 4
 },
 "nbformat": 4,
 "nbformat_minor": 2
}
