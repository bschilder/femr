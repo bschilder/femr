{
 "cells": [
  {
   "attachments": {},
   "cell_type": "markdown",
   "metadata": {},
   "source": [
    "# Adding Labels and Features in FEMR\n",
    "\n",
    "In order to currently run models in FEMR (currently just CLMBR), you will need to first assign `Label`s of interest to each patient timeline (i.e. a Patient + corresponding list of events). \n",
    "\n",
    "Once we have a `PatientDatabase` and `Label`s, we can run CLMBR (in the next tutorial)."
   ]
  },
  {
   "attachments": {},
   "cell_type": "markdown",
   "metadata": {},
   "source": [
    "\n",
    "## Labels\n",
    "A `Label` represents a time/value of interest at which we'd like to use for training. When training, all event data before the Label's time are used to predict the corresponding value.\n",
    "\n",
    "Currently in FEMR, there are pre-existing `Labeler` classes which can create labels based on specific timelines. Since the `PatientDatabase` is a set of files on disk, the output of this step is also saved to disk for later use.\n",
    "\n",
    "## Features\n",
    "\n",
    "There are currently 2 types of features that can be constructed (using FEMR `Featurizer` classes):\n",
    "1. `AgeFeaturizer`: Adds calculated age at each Label.\n",
    "2. `CountFeaturizer`: Creates a column for each unique code with the count per patient.\n",
    "\n",
    "Currently, all `Featurizers` need to run `.preprocess` before running `.featurize`.\n"
   ]
  },
  {
   "attachments": {},
   "cell_type": "markdown",
   "metadata": {},
   "source": [
    "### Using the PatientDatabase"
   ]
  },
  {
   "cell_type": "code",
   "execution_count": 1,
   "metadata": {},
   "outputs": [
    {
     "name": "stdout",
     "output_type": "stream",
     "text": [
      "<class 'femr.extension.datasets.PatientDatabase'>\n"
     ]
    }
   ],
   "source": [
    "from femr.datasets import PatientDatabase\n",
    "\n",
    "patient_db = PatientDatabase(\"./example_data/example_etl_output\")\n",
    "print(type(patient_db))"
   ]
  },
  {
   "attachments": {},
   "cell_type": "markdown",
   "metadata": {},
   "source": [
    "### Getting some Labels"
   ]
  },
  {
   "cell_type": "code",
   "execution_count": 2,
   "metadata": {},
   "outputs": [
    {
     "data": {
      "text/plain": [
       "[Label(time=datetime.datetime(1970, 1, 7, 0, 0), value=False),\n",
       " Label(time=datetime.datetime(1990, 1, 7, 0, 0), value=False),\n",
       " Label(time=datetime.datetime(2020, 7, 9, 0, 0), value=False),\n",
       " Label(time=datetime.datetime(2020, 8, 9, 0, 0), value=False)]"
      ]
     },
     "execution_count": 2,
     "metadata": {},
     "output_type": "execute_result"
    }
   ],
   "source": [
    "from femr.labelers import TimeHorizon\n",
    "from femr.labelers.omop import CodeLabeler\n",
    "from datetime import timedelta\n",
    "\n",
    "# TODO: Does this example make semantic sense?\n",
    "labeler = CodeLabeler(outcome_codes=[\"ICD10CM/E11.4\"], time_horizon=TimeHorizon(timedelta(0), timedelta(365)))\n",
    "\n",
    "labels = labeler.label(patient_db[3])\n",
    "labels"
   ]
  },
  {
   "attachments": {},
   "cell_type": "markdown",
   "metadata": {},
   "source": [
    "### Using Featurizers on the Patients"
   ]
  },
  {
   "cell_type": "code",
   "execution_count": 12,
   "metadata": {},
   "outputs": [
    {
     "data": {
      "text/plain": [
       "[[ColumnValue(column=0, value=-1.2210699899428368)],\n",
       " [ColumnValue(column=0, value=-0.4143487928249548)],\n",
       " [ColumnValue(column=0, value=0.8159976626288884)],\n",
       " [ColumnValue(column=0, value=0.8194211201389027)]]"
      ]
     },
     "execution_count": 12,
     "metadata": {},
     "output_type": "execute_result"
    }
   ],
   "source": [
    "from femr.featurizers.featurizers import AgeFeaturizer\n",
    "\n",
    "age_featurizer = AgeFeaturizer()\n",
    "age_featurizer.preprocess(patient_db[3], labels=labels, ontology=patient_db.get_ontology())\n",
    "column_values = age_featurizer.featurize(patient_db[3], labels=labels, ontology=patient_db.get_ontology())\n",
    "column_values"
   ]
  },
  {
   "cell_type": "code",
   "execution_count": 9,
   "metadata": {},
   "outputs": [
    {
     "data": {
      "text/plain": [
       "[[ColumnValue(column=0, value=1)],\n",
       " [ColumnValue(column=0, value=1)],\n",
       " [ColumnValue(column=0, value=1)],\n",
       " [ColumnValue(column=0, value=1)]]"
      ]
     },
     "execution_count": 9,
     "metadata": {},
     "output_type": "execute_result"
    }
   ],
   "source": [
    "from femr.featurizers.featurizers import CountFeaturizer\n",
    "\n",
    "count_featurizer = CountFeaturizer()\n",
    "count_featurizer.preprocess(patient_db[3], labels=labels, ontology=patient_db.get_ontology())\n",
    "column_values = count_featurizer.featurize(patient_db[3], labels=labels, ontology=patient_db.get_ontology())\n",
    "column_values"
   ]
  }
 ],
 "metadata": {
  "kernelspec": {
   "display_name": "FEMR_TEST_1",
   "language": "python",
   "name": "python3"
  },
  "language_info": {
   "codemirror_mode": {
    "name": "ipython",
    "version": 3
   },
   "file_extension": ".py",
   "mimetype": "text/x-python",
   "name": "python",
   "nbconvert_exporter": "python",
   "pygments_lexer": "ipython3",
   "version": "3.10.10"
  },
  "orig_nbformat": 4
 },
 "nbformat": 4,
 "nbformat_minor": 2
}
