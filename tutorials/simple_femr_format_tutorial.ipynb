{
 "cells": [
  {
   "cell_type": "markdown",
   "id": "74effe08",
   "metadata": {},
   "source": [
    "## Objectives \n",
    "FEMR is primarily designed to work with OMOP datasources, but it is possible to provide a simpler input format that will work with some parts of the FEMR pipeline.\n",
    "\n",
    "This tutorial documents that simple schema and shows how to use it.\n",
    "\n",
    "The input schema is a folder of csv files, where each csv file has at minimum the following columns:\n",
    "\n",
    "patient_id, start, code, value\n",
    "\n",
    "Each row in a file corresponds to an event.\n",
    "\n",
    " - patient_id is some id for the patient that has the event patient_id must be a 64 bit unsigned integer\n",
    "\n",
    " - start is the start timestamp for that event, ideally when the event is initially recorded in the database. start must be an ISO 8601 timestamp string\n",
    "\n",
    " - code is a string identifying what the event is. It must internally consist of a vocab signifier and the code itself, split by a \"/\" character. For example ICD10CM/E11.4\n",
    "\n",
    " - value is a value associated with the event. It can either be a numeric value, an arbitrary string, or an empty string (indicating no value).\n",
    "\n",
    "You may also add arbitrary columns for any csv file. Those will be added to each event. The columns can vary between csv files. We recommend adding columns to note dosage, visit_ids, and lab units, source Clarity tables, etc, etc.\n",
    "\n",
    "The first row (in time) for each patient is considered their birth event.\n",
    "\n",
    "Ordering of rows for each patient, or patient rows being split across files doesn't matter. Everything will be resorted and joined as part of the ETL process.\n",
    "\n",
    "All different types of EMR data can be mapped to those four core columns. Here are the common tips for different types of fields:\n",
    "\n",
    "Demographics should generally be mapped as as demographics codes assigned to the birth date of the patient (with no value assigned).\n",
    "\n",
    "Labs should be assigned to when the lab result is available, with the value numeric is possible, but text valued otherwise.\n",
    "\n",
    "Procedures and diagnosis codes should generally be mapped to when the event happened, with no value attached.\n",
    "\n",
    "Other strange datatypes, such as flowsheets can be added as needed, with either string or numeric values as whatever is more natural."
   ]
  },
  {
   "cell_type": "code",
   "execution_count": null,
   "id": "4d1c310a",
   "metadata": {},
   "outputs": [],
   "source": [
    "import os\n",
    "\n",
    "cwd = os.getcwd()\n",
    "TARGET_DIR = os.path.join(cwd,\"trash/simple_femr\")\n",
    "#TARGET_DIR = \"/trash/simple_femr\"\n",
    "os.makedirs(TARGET_DIR)\n",
    "\n",
    "INPUT_DIR = os.path.join(TARGET_DIR, \"simple_input\")\n",
    "os.mkdir(INPUT_DIR)"
   ]
  },
  {
   "cell_type": "code",
   "execution_count": null,
   "id": "1c9f2e07",
   "metadata": {},
   "outputs": [],
   "source": [
    "# Write an example file (Manual)\n",
    "# In this example, we include the mandatory fields, as well as dosage, visit_id, lab_unit, and clarity_table\n",
    "\n",
    "# Add 3 columns and 9 rows\n",
    "\n",
    "with open(os.path.join(INPUT_DIR, \"example.csv\"), \"w\") as f:\n",
    "    f.write(\"patient_id,start,code,value,dosage,visit_ids,lab_units,clarity_source\\n\")\n",
    "    f.write(\"2,1994-01-03,Birth/Birth,,,1,,PATIENT\\n\")  # First event is always birth\n",
    "    f.write(\"2,1994-03-06,Drug/Atorvastatin,,50,3,mg,MED_ORDER\\n\")  # Example usage of dosage\n",
    "    f.write(\"2,1994-02-03,ICD10CM/E11.4,,,2,,DIAGNOSIS\\n\")  # Note how events can be out of order\n",
    "    f.write(\"2,1994-07-09,Vitals/Blood Pressure,150,,4,mm Hg,LAB_RESULT\\n\")  # Example use of a numeric value\n",
    "    \n",
    "    f.write(\"3,1990-01-07,Birth/Birth,,,1,,PATIENT\\n\")\n",
    "    f.write(\"3,1990-01-07,Gender/Female,,,1,,PATIENT\\n\") # demographics \n",
    "    f.write(\"3,1990-01-07,Race/White,,,1,,PATIENT\\n\")    # demographics\n",
    "    f.write(\"3,2000-03-09,Drug/Atorvastatin,,50,2,mg,MED_ORDER\\n\")  \n",
    "    f.write(\"3,2000-05-03,ICD10CM/E11.4,,,3,,DIAGNOSIS\\n\")  \n",
    "    f.write(\"3,2000-07-09,Vitals/Blood Pressure,160,,4,mm Hg,LAB_RESULT\\n\")  \n",
    "\n",
    "    f.write(\"5,1980-05-03,Birth/Birth,,,1,,PATIENT\\n\")  \n",
    "    f.write(\"5,2000-03-06,Drug/Atorvastatin,,50,2,mg,MED_ORDER\\n\")  \n",
    "    f.write(\"5,2000-05-03,ICD10CM/E11.4,,,4,,DIAGNOSIS\\n\")  \n",
    "    f.write(\"5,2000-09-09,Vitals/Blood Pressure,160,,5,mm Hg,LAB_RESULT\\n\") \n",
    "    f.write(\"5,2000-04-10,Vitals/HbA1c,7,,3,%,LAB_RESULT\\n\") # add HbA1c lab result\n",
    "    \n",
    "    f.write(\"7,1995-01-03,Birth/Birth,,,1,,PATIENT\\n\")  \n",
    "    f.write(\"7,2012-03-06,Drug/Atorvastatin,,50,2,mg,MED_ORDER\\n\")  \n",
    "    f.write(\"7,2012-05-03,ICD10CM/E11.4,,,3,,DIAGNOSIS\\n\")  \n",
    "    f.write(\"7,2012-06-05,ICD10CM/E10.1,,,4,,DIAGNOSIS\\n\")  # add hypertension dignosis \n",
    "    f.write(\"7,2012-07-09,Vitals/Blood Pressure,160,,5,mm Hg,LAB_RESULT\\n\")\n",
    "    \n",
    "    f.write(\"8,1970-01-03,Birth/Birth,,,1,,PATIENT\\n\")  \n",
    "    f.write(\"8,2010-03-06,Drug/Fentanyl Citrate,,100,2,mcg,MED_ORDER\\n\")  \n",
    "    f.write(\"8,2010-05-03,ICD10CM/E10.1,,,2,,DIAGNOSIS\\n\")  \n",
    "    f.write(\"8,2010-05-03,CPT/10060,,,2,,DIAGNOSIS\\n\") # add a CPT event  \n",
    "    f.write(\"8,2010-07-09,Vitals/Blood Pressure,160,,2,mm Hg,LAB_RESULT\\n\")\n",
    "    \n",
    "    f.write(\"11,1996-01-03,Birth/Birth,,,1,,PATIENT\\n\")  \n",
    "    f.write(\"11,2015-03-06,Drug/Heparin Lock Flush,,5,2,ml,MED_ORDER\\n\")  \n",
    "    f.write(\"11,2015-05-03,ICD10CM/E10.1,,,2,,DIAGNOSIS\\n\")  \n",
    "    f.write(\"11,2015-07-09,Vitals/Blood Pressure,160,,2,mm Hg,LAB_RESULT\\n\")\n",
    "    \n",
    "    f.write(\"13,1989-01-03,Birth/Birth,,,1,,PATIENT\\n\")  \n",
    "    f.write(\"13,2020-03-06,Drug/Multivitamins,,5,2,ml,MED_ORDER\\n\")  \n",
    "    f.write(\"13,2020-05-03,ICD10CM/E10.1,,,2,,DIAGNOSIS\\n\")  \n",
    "    f.write(\"13,2020-07-09,Vitals/Blood Pressure,160,,2,mm Hg,LAB_RESULT\\n\")\n",
    "    \n",
    "    f.write(\"17,1992-01-03,Birth/Birth,,,1,,PATIENT\\n\")  \n",
    "    f.write(\"17,2018-03-06,Drug/Dexamethasone Sod Phosphate,,4,2,mg,MED_ORDER\\n\")  \n",
    "    f.write(\"17,2018-05-03,ICD10CM/E10.1,,,2,,DIAGNOSIS\\n\")  \n",
    "    f.write(\"17,2018-07-09,Vitals/Blood Pressure,160,,2,mm Hg,LAB_RESULT\\n\")\n",
    "    \n",
    "    f.write(\"18,1988-01-03,Birth/Birth,,,1,,PATIENT\\n\")  \n",
    "    f.write(\"18,2019-03-06,Drug/Atorvastatin,,50,2,mg,MED_ORDER\\n\")  \n",
    "    f.write(\"18,2019-05-03,ICD10CM/E10.1,,,2,,DIAGNOSIS\\n\")  \n",
    "    f.write(\"18,2019-07-09,Vitals/Blood Pressure,160,,2,mm Hg,LAB_RESULT\\n\")\n",
    "    \n",
    "    f.write(\"20,1994-01-03,Birth/Birth,,,1,,PATIENT\\n\")  \n",
    "    f.write(\"20,2022-03-06,Drug/Atorvastatin,,50,2,mg,MED_ORDER\\n\")  \n",
    "    f.write(\"20,2022-05-03,ICD10CM/E10.1,,,2,,DIAGNOSIS\\n\")  \n",
    "    f.write(\"20,2022-07-09,Vitals/Blood Pressure,160,,2,mm Hg,LAB_RESULT\\n\")"
   ]
  },
  {
   "cell_type": "code",
   "execution_count": 1,
   "id": "0e370292",
   "metadata": {},
   "outputs": [],
   "source": [
    "import os\n",
    "cwd = os.getcwd()\n",
    "TARGET_DIR = os.path.join(cwd,\"trash/simple_femr\")\n",
    "INPUT_DIR = os.path.join(TARGET_DIR, \"simple_input\")\n",
    "LOG_DIR = os.path.join(TARGET_DIR, \"logs\")\n",
    "EXTRACT_DIR = os.path.join(TARGET_DIR, \"extract\")"
   ]
  },
  {
   "cell_type": "code",
   "execution_count": 36,
   "id": "ef876289",
   "metadata": {},
   "outputs": [],
   "source": [
    "# Automate the manual generation of patient data above \n",
    "# Generate a ton more randomly generated synthetic examples\n",
    "import random\n",
    "import datetime\n",
    "import string\n",
    "\n",
    "def add_random_patient(patient_id, f):\n",
    "    epoch = datetime.date(1990, 1, 1)\n",
    "    birth = epoch + datetime.timedelta(days=random.randint(100, 1000))\n",
    "    current_date = birth\n",
    "    \n",
    "    code_cat = [\"Birth\",\"Gender\", \"Race\",\"ICD10CM\",\"CPT\", \"Drug\", \"Vitals\"]\n",
    "    gender_values = [\"F\",\"M\"]\n",
    "    race_values = [\"White\",\"Non-White\"]\n",
    "    index = random.randint(0,1)\n",
    "    for code_type in code_cat:\n",
    "        if code_type == \"Birth\":\n",
    "            clarity = \"PATIENT\"\n",
    "            visit_id = 1\n",
    "            value = ''\n",
    "            dosage = ''\n",
    "            unit = ''\n",
    "            f.write(f\"{patient_id},{birth.isoformat()},{code_type}/{code_type},{value},{dosage},{visit_id},{unit},{clarity}\\n\")\n",
    "        elif code_type == \"Gender\":\n",
    "            clarity = \"PATIENT\"\n",
    "            visit_id = 1\n",
    "            value = gender_values[index]\n",
    "            dosage = ''\n",
    "            unit = ''\n",
    "            f.write(f\"{patient_id},{birth.isoformat()},{code_type}/{code_type},{value},{dosage},{visit_id},{unit},{clarity}\\n\")\n",
    "        elif code_type == \"Race\":\n",
    "            clarity = \"PATIENT\"\n",
    "            visit_id = 1\n",
    "            value = race_values[index]\n",
    "            dosage = ''\n",
    "            unit = ''\n",
    "            f.write(f\"{patient_id},{birth.isoformat()},{code_type}/{code_type},{value},{dosage},{visit_id},{unit},{clarity}\\n\") \n",
    "        else:\n",
    "            for code in range(random.randint(1, 10)):\n",
    "                code = ''.join(random.choices(string.ascii_uppercase + string.digits, k=8))\n",
    "                current_date = current_date +  datetime.timedelta(days=random.randint(0, 100))\n",
    "                visit_id = random.randint(0,20)\n",
    "                if code_type == \"ICD10CM\":\n",
    "                    clarity = \"DIAGNOSIS\"\n",
    "                    value = ''\n",
    "                    dosage = ''\n",
    "                    unit = ''\n",
    "                elif code_type == \"CPT\":\n",
    "                    clarity = \"PROCEDURES\"\n",
    "                    value = ''\n",
    "                    dosage = ''\n",
    "                    unit = ''\n",
    "                elif code_type == \"Drug\":\n",
    "                    clarity = \"MED_ORDER\"\n",
    "                    value = ''\n",
    "                    dosage = random.randint(10,50)\n",
    "                    unit = \"mg\"\n",
    "                elif code_type == \"Vitals\":\n",
    "                    clarity = \"LAB_RESULT\"\n",
    "                    value = random.randint(80,200)\n",
    "                    dosage = ''\n",
    "                    unit = \"mmHg\"\n",
    "                f.write(f\"{patient_id},{current_date.isoformat()},{code_type}/{code},{value},{dosage},{visit_id},{unit},{clarity}\\n\") \n"
   ]
  },
  {
   "cell_type": "code",
   "execution_count": 37,
   "id": "e1bbf7f4",
   "metadata": {},
   "outputs": [],
   "source": [
    "for file_no in range(1, 2):\n",
    "    with open(os.path.join(INPUT_DIR, f\"{file_no}.csv\"), \"w\") as f:    \n",
    "        # Use the simpler 4 column minimum format, with no optional columns\n",
    "        f.write(\"patient_id,start,code,value,dosage,visit_ids,lab_units,clarity_source\\n\")\n",
    "        for patient_id in range(file_no * 100, (file_no + 1) * 100):\n",
    "            add_random_patient(patient_id, f)"
   ]
  },
  {
   "cell_type": "code",
   "execution_count": 3,
   "id": "11a961b6",
   "metadata": {},
   "outputs": [
    {
     "name": "stderr",
     "output_type": "stream",
     "text": [
      "2023-04-17 15:50:10,078 [MainThread  ] [INFO ]  Extracting from OMOP with arguments Namespace(simple_source='/local-scratch/nigam/projects/yizhex/trash/simple_femr/simple_input', target_location='/local-scratch/nigam/projects/yizhex/trash/simple_femr/extract', temp_location='/local-scratch/nigam/projects/yizhex/trash/simple_femr/logs', num_threads=2)\n",
      "2023-04-17 15:50:10,108 [MainThread  ] [INFO ]  Already converted to events, skipping\n",
      "2023-04-17 15:50:10,108 [MainThread  ] [INFO ]  Already converted to patients, skipping\n",
      "2023-04-17 15:50:10,108 [MainThread  ] [INFO ]  Already converted to extract, skipping\n"
     ]
    },
    {
     "data": {
      "text/plain": [
       "0"
      ]
     },
     "execution_count": 3,
     "metadata": {},
     "output_type": "execute_result"
    }
   ],
   "source": [
    "\n",
    "# Convert the directory to an extract\n",
    "\n",
    "LOG_DIR = os.path.join(TARGET_DIR, \"logs\")\n",
    "EXTRACT_DIR = os.path.join(TARGET_DIR, \"extract\")\n",
    "\n",
    "import femr\n",
    "import femr.etl_pipelines.simple\n",
    "os.system(f\"etl_simple_femr {INPUT_DIR} {EXTRACT_DIR} {LOG_DIR} --num_threads 2\")\n"
   ]
  },
  {
   "cell_type": "code",
   "execution_count": 4,
   "id": "cca728c9",
   "metadata": {},
   "outputs": [
    {
     "name": "stdout",
     "output_type": "stream",
     "text": [
      "Num patients 1\n"
     ]
    }
   ],
   "source": [
    "# Open and look at the data.\n",
    "\n",
    "import femr.datasets\n",
    "\n",
    "database = femr.datasets.PatientDatabase(EXTRACT_DIR)\n",
    "\n",
    "# We have one patient\n",
    "print(\"Num patients\", len(database))\n"
   ]
  },
  {
   "cell_type": "code",
   "execution_count": 5,
   "id": "da3aac36",
   "metadata": {},
   "outputs": [
    {
     "name": "stdout",
     "output_type": "stream",
     "text": [
      "Num patients 1\n",
      "Patient(patient_id=0, events=(Event(start=1994-01-03 00:00:00, code=3, dosage=), Event(start=1994-02-03 00:00:00, code=1, dosage=), Event(start=1994-03-06 00:00:00, code=0, dosage=50mg), Event(start=1994-07-09 00:00:00, code=2, value=150.0, dosage=)))\n",
      "Oiringla id for patient 0 2\n",
      "What code 3 means Birth/Birth\n",
      "Event(start=1994-01-03 00:00:00, code=3, dosage=) \n",
      "Event(start=1994-02-03 00:00:00, code=1, dosage=) \n",
      "Event(start=1994-03-06 00:00:00, code=0, dosage=50mg) 50mg\n",
      "Event(start=1994-07-09 00:00:00, code=2, value=150.0, dosage=) \n"
     ]
    }
   ],
   "source": [
    "\n",
    "# Open and look at the data.\n",
    "\n",
    "LOG_DIR = os.path.join(TARGET_DIR, \"logs\")\n",
    "EXTRACT_DIR = os.path.join(TARGET_DIR, \"extract\")\n",
    "\n",
    "import femr.datasets\n",
    "\n",
    "database = femr.datasets.PatientDatabase(EXTRACT_DIR)\n",
    "\n",
    "# We have one patient\n",
    "print(\"Num patients\", len(database))\n",
    "\n",
    "# Print out that patient\n",
    "patient = database[0]\n",
    "print(patient)\n",
    "\n",
    "# Note that the patient ids get remapped, you can unmap with the database\n",
    "original_id = database.get_original_patient_id(0)\n",
    "print(\"Oiringla id for patient 0\", original_id)\n",
    "\n",
    "# Also note that concepts have been mapped to integers\n",
    "print(\"What code 3 means\", database.get_code_dictionary()[3])  # Returns what code=0 means in the database\n",
    "\n",
    "# You can pull things like dosage by looking at the event\n",
    "for event in patient.events:\n",
    "    print(event, event.dosage)\n"
   ]
  },
  {
   "cell_type": "code",
   "execution_count": null,
   "id": "a11d0782",
   "metadata": {},
   "outputs": [],
   "source": []
  }
 ],
 "metadata": {
  "kernelspec": {
   "display_name": "Python 3 (ipykernel)",
   "language": "python",
   "name": "python3"
  },
  "language_info": {
   "codemirror_mode": {
    "name": "ipython",
    "version": 3
   },
   "file_extension": ".py",
   "mimetype": "text/x-python",
   "name": "python",
   "nbconvert_exporter": "python",
   "pygments_lexer": "ipython3",
   "version": "3.10.10"
  }
 },
 "nbformat": 4,
 "nbformat_minor": 5
}
