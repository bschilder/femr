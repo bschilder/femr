{
 "cells": [
  {
   "cell_type": "markdown",
   "id": "4764ef2d",
   "metadata": {},
   "source": [
    "# Creating a dataset with a simple format \n",
    "In this tutorial, we will walk through how to generate a dataset using a simple input format that will work with some parts of the FEMR pipeline."
   ]
  },
  {
   "cell_type": "code",
   "execution_count": 1,
   "id": "56b79539",
   "metadata": {},
   "outputs": [],
   "source": [
    "import os\n",
    "import csv\n",
    "\n",
    "# Create directories to save the dataset and associated files \n",
    "TARGET_DIR = \"trash/simple_femr\"\n",
    "os.makedirs(TARGET_DIR)\n",
    "\n",
    "INPUT_DIR = os.path.join(TARGET_DIR, \"simple_input\")\n",
    "os.mkdir(INPUT_DIR)"
   ]
  },
  {
   "cell_type": "markdown",
   "id": "17c096e0",
   "metadata": {},
   "source": [
    "# 1. Basic input schema\n",
    "The input schema is a folder of csv files, where each csv file has <u>at minimum</u> the following columns:\n",
    "\n",
    ">patient_id, start, code, value\n",
    "\n",
    "where \n",
    " - `patient_id` is the ID for the patient who has the event. `patient_id` must be a 64 bit unsigned integer\n",
    "\n",
    " - `start` is the start timestamp for an event, ideally when the event is initially recorded in the database. `start` must be an ISO 8601 timestamp string\n",
    "\n",
    " - `code` is a string identifies what the event is. It must internally consist of a vocabulary signifier and the code itself, split by a \"/\" character. For example ICD10CM/E11.4\n",
    "\n",
    " - `value` is a value associated with the event. It can either be a numeric value, an arbitrary string, or an empty string (indicating no value).\n",
    "\n",
    "Each row in a file corresponds to an event.\n",
    "\n",
    "\n",
    "All different types of EMR data can be mapped to four core columns: \n",
    "\n",
    ">Demographics, Diagnosis/Procedures, Labs, Medications\n",
    "\n",
    "and we will demonstrate how to add each data type to a dataset in a sequence. \n",
    "\n",
    "\n",
    "\n",
    "# Exercise 1: Add demographic information\n",
    "Now, we create a dataset, \"minimum.csv\", manually that contains a single patient with three rows. \n",
    "\n",
    "We use patients' date of birth as the very first visit time in our data format, so the first event is always `Birth`\n",
    "\n",
    "Rows 2 and 3 include the demographic information, `Gender` and `Race`, respectively, of this patient with corresponding values. Demographics should generally be mapped as demographics codes assigned to the birth date of the patient (with no value assigned). For demographic rows, the vocabulary signifier and the code itself are the same."
   ]
  },
  {
   "cell_type": "code",
   "execution_count": 4,
   "id": "d1312f39",
   "metadata": {},
   "outputs": [
    {
     "name": "stdout",
     "output_type": "stream",
     "text": [
      "patient_id,start,code,value\n",
      "3,1990-01-07,Birth/Birth,\n",
      "3,1990-01-07,Gender/Gender,Female\n",
      "3,1990-01-07,Race/Race,White\n"
     ]
    }
   ],
   "source": [
    "with open(os.path.join(INPUT_DIR, \"minimum.csv\"), \"w\") as f:\n",
    "    f.write(\"patient_id,start,code,value\\n\")              \n",
    "    f.write(\"3,1990-01-07,Birth/Birth,\\n\")         # First event is always birth\n",
    "    f.write(\"3,1990-01-07,Gender/Gender,Female\\n\") # demographics \n",
    "    f.write(\"3,1990-01-07,Race/Race,White\\n\")      # demographics\n",
    "    \n",
    "with open(os.path.join(INPUT_DIR, \"minimum.csv\"), newline='') as csvfile:\n",
    "    spamreader = csv.reader(csvfile, delimiter=' ', quotechar='|')\n",
    "    for row in spamreader:\n",
    "        print(', '.join(row))"
   ]
  },
  {
   "cell_type": "markdown",
   "id": "33e2d7f1",
   "metadata": {},
   "source": [
    "# 2. Expanding your dataset\n",
    "You may also add arbitrary columns for any csv file. The additional columns will be added to each event. The columns can vary between csv files. \n",
    "\n",
    "\n",
    "# Exercise 2: Add diagnosis information\n",
    "We now add more events/rows that capture patients' diagnosis information, e.g., ICD 9/10 codes\n",
    "\n",
    "For diagnosis, the `code` column has two parts, the vocabulary signifier (e.g., ICD10CM) and the code itself (e.g., E11.4, E10.1, etc.) The `value` column should be left as empty. Procedures and diagnosis codes should generally be mapped to when the event happened.\n",
    "\n",
    "Note that different diagnoses may be given at different visits, so the corresponding `start` timestamps may be different."
   ]
  },
  {
   "cell_type": "code",
   "execution_count": 5,
   "id": "2ca08a3a",
   "metadata": {},
   "outputs": [
    {
     "name": "stdout",
     "output_type": "stream",
     "text": [
      "patient_id,start,code,value\n",
      "3,1970-01-07,Birth/Birth,\n",
      "3,1990-01-07,Gender/Gender,Female\n",
      "3,1990-01-07,Race/Race,White\n",
      "3,2022-05-03,ICD10CM/E11.4,\n",
      "3,2022-06-05,ICD10CM/E10.1,\n"
     ]
    }
   ],
   "source": [
    "with open(os.path.join(INPUT_DIR, \"diagnosis.csv\"), \"w\") as f:\n",
    "    f.write(\"patient_id,start,code,value\\n\")              \n",
    "    f.write(\"3,1970-01-07,Birth/Birth,\\n\")         \n",
    "    f.write(\"3,1990-01-07,Gender/Gender,Female\\n\") \n",
    "    f.write(\"3,1990-01-07,Race/Race,White\\n\")      \n",
    "    f.write(\"3,2022-05-03,ICD10CM/E11.4,\\n\")  # diabetes\n",
    "    f.write(\"3,2022-06-05,ICD10CM/E10.1,\\n\")  # hypertension \n",
    "    \n",
    "with open(os.path.join(INPUT_DIR, \"diagnosis.csv\"), newline='') as csvfile:\n",
    "    spamreader = csv.reader(csvfile, delimiter=' ', quotechar='|')\n",
    "    for row in spamreader:\n",
    "        print(', '.join(row))"
   ]
  },
  {
   "cell_type": "markdown",
   "id": "d067acd6",
   "metadata": {},
   "source": [
    "# Exercise 3: Add lab test information\n",
    "We now add more events/rows that capture patients' lab values, e.g., Vitals/Blood Pressure\n",
    "\n",
    "For vitals, the `code` column has two parts, the vocabulary signifier (e.g., Vitals) and the code itself (e.g., Blood Pressure, HbA1c, etc.) The `value` column should contain corresponding numeric values when possible, but text valued otherwise.\n",
    "\n",
    "We also recommend adding another column, `units`, to record the units of each test result.\n",
    "\n",
    "Note that different lab tests may be given at different visits, so the corresponding `start` timestamps may differ."
   ]
  },
  {
   "cell_type": "code",
   "execution_count": 6,
   "id": "f0951a9f",
   "metadata": {},
   "outputs": [
    {
     "name": "stdout",
     "output_type": "stream",
     "text": [
      "patient_id,start,code,value,units\n",
      "3,1970-01-07,Birth/Birth,,\n",
      "3,1990-01-07,Gender/Gender,Female,\n",
      "3,1990-01-07,Race/Race,White,\n",
      "3,2022-05-03,ICD10CM/E11.4,,\n",
      "3,2022-06-05,ICD10CM/E10.1,,\n",
      "3,2000-07-09,Vitals/Blood, Pressure,160,mmHg\n",
      "3,2000-08-09,Vitals/HbA1c,7,%\n"
     ]
    }
   ],
   "source": [
    "with open(os.path.join(INPUT_DIR, \"lab_tests.csv\"), \"w\") as f:\n",
    "    f.write(\"patient_id,start,code,value,units\\n\")              \n",
    "    f.write(\"3,1970-01-07,Birth/Birth,,\\n\")         \n",
    "    f.write(\"3,1990-01-07,Gender/Gender,Female,\\n\") \n",
    "    f.write(\"3,1990-01-07,Race/Race,White,\\n\")      \n",
    "    f.write(\"3,2022-05-03,ICD10CM/E11.4,,\\n\")  \n",
    "    f.write(\"3,2022-06-05,ICD10CM/E10.1,,\\n\") \n",
    "    f.write(\"3,2000-07-09,Vitals/Blood Pressure,160,mmHg\\n\") \n",
    "    f.write(\"3,2000-08-09,Vitals/HbA1c,7,%\\n\") \n",
    "    \n",
    "with open(os.path.join(INPUT_DIR, \"lab_tests.csv\"), newline='') as csvfile:\n",
    "    spamreader = csv.reader(csvfile, delimiter=' ', quotechar='|')\n",
    "    for row in spamreader:\n",
    "        print(', '.join(row))"
   ]
  },
  {
   "cell_type": "markdown",
   "id": "c647f26e",
   "metadata": {},
   "source": [
    "# Exercise 4: Add medication information\n",
    "We now add more events/rows that capture patients' medication intake info., e.g., Drug/Atorvastatin\n",
    "\n",
    "For medications, the `code` column has two parts, the vocabulary signifier (e.g., Drug) and the code itself (e.g., Atorvastatin, Heparin Lock Flush, Multivitamins, etc.) The `value` column should be empty.\n",
    "\n",
    "We add another column, `dosage`, to record the dose of the prescribed medication. For medications, the `units` column indicates the unit of the medication dose.\n",
    "\n",
    "Note that different lab tests may be given at different visits, so the corresponding `start` timestamps may differ."
   ]
  },
  {
   "cell_type": "code",
   "execution_count": 7,
   "id": "1eb322ce",
   "metadata": {},
   "outputs": [
    {
     "name": "stdout",
     "output_type": "stream",
     "text": [
      "patient_id,start,code,value,units,dosage\n",
      "3,1970-01-07,Birth/Birth,,,\n",
      "3,1990-01-07,Gender/Gender,Female,,\n",
      "3,1990-01-07,Race/Race,White,,\n",
      "3,2022-05-03,ICD10CM/E11.4,,,\n",
      "3,2022-06-05,ICD10CM/E10.1,,,\n",
      "3,2020-07-09,Vitals/Blood, Pressure,160,mmHg,\n",
      "3,2020-08-09,Vitals/HbA1c,7,,%\n",
      "3,2022-06-05,Drug/Atorvastatin,,mg,50\n",
      "3,2022-07-06,Drug/Multivitamins,,ml,5\n"
     ]
    }
   ],
   "source": [
    "with open(os.path.join(INPUT_DIR, \"drug.csv\"), \"w\") as f:\n",
    "    f.write(\"patient_id,start,code,value,units,dosage\\n\")              \n",
    "    f.write(\"3,1970-01-07,Birth/Birth,,,\\n\")         \n",
    "    f.write(\"3,1990-01-07,Gender/Gender,Female,,\\n\") \n",
    "    f.write(\"3,1990-01-07,Race/Race,White,,\\n\")      \n",
    "    f.write(\"3,2022-05-03,ICD10CM/E11.4,,,\\n\")  \n",
    "    f.write(\"3,2022-06-05,ICD10CM/E10.1,,,\\n\") \n",
    "    f.write(\"3,2020-07-09,Vitals/Blood Pressure,160,mmHg,\\n\") \n",
    "    f.write(\"3,2020-08-09,Vitals/HbA1c,7,,%\\n\") \n",
    "    f.write(\"3,2022-06-05,Drug/Atorvastatin,,mg,50\\n\") \n",
    "    f.write(\"3,2022-07-06,Drug/Multivitamins,,ml,5\\n\")\n",
    "    \n",
    "with open(os.path.join(INPUT_DIR, \"drug.csv\"), newline='') as csvfile:\n",
    "    spamreader = csv.reader(csvfile, delimiter=' ', quotechar='|')\n",
    "    for row in spamreader:\n",
    "        print(', '.join(row))"
   ]
  },
  {
   "cell_type": "markdown",
   "id": "c558edb7",
   "metadata": {},
   "source": [
    "# 3. Additional considerations\n",
    "When adding columns, the goal is to add as many columns as needed to maximum the clarity and completeness of the raw/original data. \n",
    "\n",
    "For simplicity, we only included one patient in the above datasets, but an arbitrary number of patients can be captured in the same file by adding more rows with different `patient_id`.\n",
    "\n",
    "\n",
    "# Exercise 5: Generate synthetic examples\n",
    "We now create a dataset with 100 synthetic patients' data"
   ]
  },
  {
   "cell_type": "code",
   "execution_count": 2,
   "id": "ef876289",
   "metadata": {},
   "outputs": [],
   "source": [
    "import random\n",
    "import datetime\n",
    "import string\n",
    "\n",
    "def add_random_patient(patient_id, f):\n",
    "    epoch = datetime.date(1990, 1, 1)\n",
    "    birth = epoch + datetime.timedelta(days=random.randint(100, 1000))\n",
    "    current_date = birth\n",
    "    \n",
    "    code_cat = [\"Birth\",\"Gender\", \"Race\",\"ICD10CM\",\"CPT\", \"Drug\", \"Vitals\"]\n",
    "    gender_values = [\"F\",\"M\"]\n",
    "    race_values = [\"White\",\"Non-White\"]\n",
    "    index = random.randint(0,1)\n",
    "    for code_type in code_cat:\n",
    "        if code_type == \"Birth\":\n",
    "            clarity = \"PATIENT\"\n",
    "            visit_id = 1\n",
    "            value = ''\n",
    "            dosage = ''\n",
    "            unit = ''\n",
    "            f.write(f\"{patient_id},{birth.isoformat()},{code_type}/{code_type},{value},{dosage},{visit_id},{unit},{clarity}\\n\")\n",
    "        elif code_type == \"Gender\":\n",
    "            clarity = \"PATIENT\"\n",
    "            visit_id = 1\n",
    "            value = gender_values[index]\n",
    "            dosage = ''\n",
    "            unit = ''\n",
    "            f.write(f\"{patient_id},{birth.isoformat()},{code_type}/{code_type},{value},{dosage},{visit_id},{unit},{clarity}\\n\")\n",
    "        elif code_type == \"Race\":\n",
    "            clarity = \"PATIENT\"\n",
    "            visit_id = 1\n",
    "            value = race_values[index]\n",
    "            dosage = ''\n",
    "            unit = ''\n",
    "            f.write(f\"{patient_id},{birth.isoformat()},{code_type}/{code_type},{value},{dosage},{visit_id},{unit},{clarity}\\n\") \n",
    "        else:\n",
    "            for code in range(random.randint(1, 10)):\n",
    "                code = ''.join(random.choices(string.ascii_uppercase + string.digits, k=8))\n",
    "                current_date = current_date +  datetime.timedelta(days=random.randint(0, 100))\n",
    "                visit_id = random.randint(0,20)\n",
    "                if code_type == \"ICD10CM\":\n",
    "                    clarity = \"DIAGNOSIS\"\n",
    "                    value = ''\n",
    "                    dosage = ''\n",
    "                    unit = ''\n",
    "                elif code_type == \"CPT\":\n",
    "                    clarity = \"PROCEDURES\"\n",
    "                    value = ''\n",
    "                    dosage = ''\n",
    "                    unit = ''\n",
    "                elif code_type == \"Drug\":\n",
    "                    clarity = \"MED_ORDER\"\n",
    "                    value = ''\n",
    "                    dosage = random.randint(10,50)\n",
    "                    unit = \"mg\"\n",
    "                elif code_type == \"Vitals\":\n",
    "                    clarity = \"LAB_RESULT\"\n",
    "                    value = random.randint(80,200)\n",
    "                    dosage = ''\n",
    "                    unit = \"mmHg\"\n",
    "                f.write(f\"{patient_id},{current_date.isoformat()},{code_type}/{code},{value},{dosage},{visit_id},{unit},{clarity}\\n\") \n"
   ]
  },
  {
   "cell_type": "code",
   "execution_count": 12,
   "id": "e1bbf7f4",
   "metadata": {},
   "outputs": [
    {
     "name": "stdout",
     "output_type": "stream",
     "text": [
      "patient_id,start,code,value,dosage,visit_ids,lab_units,clarity_source\n",
      "100,1990-09-16,Birth/Birth,,,1,,PATIENT\n",
      "100,1990-09-16,Gender/Gender,F,,1,,PATIENT\n",
      "100,1990-09-16,Race/Race,White,,1,,PATIENT\n",
      "100,1990-10-13,ICD10CM/ZX1MC1I6,,,0,,DIAGNOSIS\n",
      "100,1990-12-23,ICD10CM/QK2PLGMQ,,,7,,DIAGNOSIS\n",
      "100,1991-02-01,ICD10CM/A3NLU7OJ,,,1,,DIAGNOSIS\n",
      "100,1991-02-20,ICD10CM/Z03MWR4R,,,0,,DIAGNOSIS\n",
      "100,1991-03-27,ICD10CM/4YVOCBCD,,,10,,DIAGNOSIS\n",
      "100,1991-06-11,ICD10CM/HBSBG0I1,,,3,,DIAGNOSIS\n"
     ]
    }
   ],
   "source": [
    "for file_no in range(1, 2):\n",
    "    with open(os.path.join(INPUT_DIR, f\"{file_no}.csv\"), \"w\") as f:    \n",
    "        # Use the simpler 4 column minimum format, with no optional columns\n",
    "        f.write(\"patient_id,start,code,value,dosage,visit_ids,lab_units,clarity_source\\n\")\n",
    "        for patient_id in range(file_no * 100, (file_no + 1) * 100):\n",
    "            add_random_patient(patient_id, f)\n",
    "        \n",
    "        with open(os.path.join(INPUT_DIR, f\"{file_no}.csv\"), newline='') as csvfile:\n",
    "            spamreader = csv.reader(csvfile, delimiter=' ', quotechar='|')\n",
    "            for i, row in enumerate(spamreader):\n",
    "                print(', '.join(row))\n",
    "                if(i >= 9):\n",
    "                    break"
   ]
  },
  {
   "cell_type": "markdown",
   "id": "66bb61c9",
   "metadata": {},
   "source": [
    "# Additional notes\n",
    "Ordering of rows for each patient, or patient rows being split across files doesn't matter. Everything will be resorted and joined as part of the ETL process.\n",
    "\n",
    "Other atypical datatypes, such as flowsheets can be added as needed, with either string or numeric values as whatever is more natural.\n",
    "\n",
    "# 4. Convert the directory to an extract\n",
    "We now convert the dataset we created above to an extract using the function [etl_simple_femr](https://github.com/som-shahlab/femr/blob/main/src/femr/etl_pipelines/simple.py#L66) from the femr repo\n",
    "\n",
    "The output extract is a femr [PatientDatabase](https://github.com/som-shahlab/femr/blob/Miking98-patch-1/tutorials/0_How%20FEMR%20Works%20%2B%20Toy%20Example.ipynb) that can be directly used by the femr pipeline"
   ]
  },
  {
   "cell_type": "code",
   "execution_count": 6,
   "id": "11a961b6",
   "metadata": {},
   "outputs": [
    {
     "name": "stderr",
     "output_type": "stream",
     "text": [
      "2023-04-19 16:23:04,449 [MainThread  ] [INFO ]  Extracting from OMOP with arguments Namespace(simple_source='trash/simple_femr/simple_input', target_location='/local-scratch/nigam/projects/yizhex/trash/simple_femr/extract', temp_location='/local-scratch/nigam/projects/yizhex/trash/simple_femr/logs', num_threads=2)\n",
      "2023-04-19 16:23:04,450 [MainThread  ] [INFO ]  Converting to events\n",
      "2023-04-19 16:23:04,536 [MainThread  ] [INFO ]  Converting to patients\n",
      "2023-04-19 16:23:04,575 [MainThread  ] [INFO ]  Converting to extract\n"
     ]
    },
    {
     "name": "stdout",
     "output_type": "stream",
     "text": [
      "Done with main 2023-04-19T16:23:04.623173171+00:00\n",
      "Done with meta 2023-04-19T16:23:04.623279935+00:00\n",
      "Converting to extract 2023-04-19 16:23:04.575945\n"
     ]
    },
    {
     "data": {
      "text/plain": [
       "0"
      ]
     },
     "execution_count": 6,
     "metadata": {},
     "output_type": "execute_result"
    }
   ],
   "source": [
    "# Create directories for storing the extract and extract log\n",
    "LOG_DIR = os.path.join(TARGET_DIR, \"logs\")\n",
    "EXTRACT_DIR = os.path.join(TARGET_DIR, \"extract\")\n",
    "\n",
    "import femr\n",
    "import femr.etl_pipelines.simple\n",
    "os.system(f\"etl_simple_femr {INPUT_DIR} {EXTRACT_DIR} {LOG_DIR} --num_threads 2\")"
   ]
  },
  {
   "cell_type": "markdown",
   "id": "eb90d476",
   "metadata": {},
   "source": [
    "# 5. Open and view the data\n",
    "We now open and take a look at the femr extract we generated in the last step using the function [PatientDatabase](https://github.com/som-shahlab/femr/blob/main/src/femr/extension/datasets.pyi#L24) from the femr repo"
   ]
  },
  {
   "cell_type": "code",
   "execution_count": 7,
   "id": "da3aac36",
   "metadata": {},
   "outputs": [
    {
     "name": "stdout",
     "output_type": "stream",
     "text": [
      "Num patients 100\n",
      "Patient(patient_id=0, events=(Event(start=1990-11-04 00:00:00, code=1, value=Non-White, dosage=, visit_ids=1, lab_units=, clarity_source=PATIENT), Event(start=1990-11-04 00:00:00, code=0, dosage=, visit_ids=1, lab_units=, clarity_source=PATIENT), Event(start=1990-11-04 00:00:00, code=2, value=M, dosage=, visit_ids=1, lab_units=, clarity_source=PATIENT), Event(start=1990-12-26 00:00:00, code=202, dosage=, visit_ids=20, lab_units=, clarity_source=DIAGNOSIS), Event(start=1990-12-31 00:00:00, code=1130, dosage=, visit_ids=17, lab_units=, clarity_source=DIAGNOSIS), Event(start=1991-01-31 00:00:00, code=1643, dosage=, visit_ids=1, lab_units=, clarity_source=DIAGNOSIS), Event(start=1991-04-22 00:00:00, code=728, dosage=, visit_ids=13, lab_units=, clarity_source=DIAGNOSIS), Event(start=1991-05-11 00:00:00, code=710, dosage=, visit_ids=11, lab_units=, clarity_source=DIAGNOSIS), Event(start=1991-06-30 00:00:00, code=20, dosage=, visit_ids=20, lab_units=, clarity_source=DIAGNOSIS), Event(start=1991-09-30 00:00:00, code=1404, dosage=, visit_ids=7, lab_units=, clarity_source=DIAGNOSIS), Event(start=1991-12-22 00:00:00, code=625, dosage=, visit_ids=5, lab_units=, clarity_source=DIAGNOSIS), Event(start=1992-02-24 00:00:00, code=597, dosage=, visit_ids=3, lab_units=, clarity_source=DIAGNOSIS), Event(start=1992-03-19 00:00:00, code=635, dosage=, visit_ids=16, lab_units=, clarity_source=PROCEDURES), Event(start=1992-06-14 00:00:00, code=2195, dosage=, visit_ids=3, lab_units=, clarity_source=PROCEDURES), Event(start=1992-07-20 00:00:00, code=2126, dosage=, visit_ids=18, lab_units=, clarity_source=PROCEDURES), Event(start=1992-10-05 00:00:00, code=1205, dosage=, visit_ids=18, lab_units=, clarity_source=PROCEDURES), Event(start=1992-10-13 00:00:00, code=705, dosage=, visit_ids=17, lab_units=, clarity_source=PROCEDURES), Event(start=1992-12-27 00:00:00, code=2191, dosage=, visit_ids=10, lab_units=, clarity_source=PROCEDURES), Event(start=1993-01-19 00:00:00, code=2205, dosage=, visit_ids=10, lab_units=, clarity_source=PROCEDURES), Event(start=1993-03-01 00:00:00, code=197, dosage=, visit_ids=8, lab_units=, clarity_source=PROCEDURES), Event(start=1993-03-18 00:00:00, code=767, dosage=, visit_ids=14, lab_units=, clarity_source=PROCEDURES), Event(start=1993-04-07 00:00:00, code=1231, dosage=21, visit_ids=6, lab_units=mg, clarity_source=MED_ORDER), Event(start=1993-06-04 00:00:00, code=328, dosage=41, visit_ids=18, lab_units=mg, clarity_source=MED_ORDER), Event(start=1993-06-28 00:00:00, code=1622, value=168.0, dosage=, visit_ids=20, lab_units=mmHg, clarity_source=LAB_RESULT), Event(start=1993-09-13 00:00:00, code=379, value=98.0, dosage=, visit_ids=18, lab_units=mmHg, clarity_source=LAB_RESULT), Event(start=1993-10-09 00:00:00, code=1742, value=150.0, dosage=, visit_ids=14, lab_units=mmHg, clarity_source=LAB_RESULT), Event(start=1993-11-25 00:00:00, code=1553, value=188.0, dosage=, visit_ids=6, lab_units=mmHg, clarity_source=LAB_RESULT), Event(start=1994-02-27 00:00:00, code=297, value=171.0, dosage=, visit_ids=6, lab_units=mmHg, clarity_source=LAB_RESULT), Event(start=1994-04-21 00:00:00, code=1874, value=141.0, dosage=, visit_ids=2, lab_units=mmHg, clarity_source=LAB_RESULT), Event(start=1994-05-18 00:00:00, code=1962, value=188.0, dosage=, visit_ids=1, lab_units=mmHg, clarity_source=LAB_RESULT), Event(start=1994-06-27 00:00:00, code=416, value=168.0, dosage=, visit_ids=9, lab_units=mmHg, clarity_source=LAB_RESULT), Event(start=1994-06-30 00:00:00, code=1070, value=142.0, dosage=, visit_ids=19, lab_units=mmHg, clarity_source=LAB_RESULT)))\n",
      "Oiringla id for patient 0 101\n",
      "What code 3 means CPT/QB1ZKZNM\n",
      "Event(start=1990-11-04 00:00:00, code=1, value=Non-White, dosage=, visit_ids=1, lab_units=, clarity_source=PATIENT) \n",
      "Event(start=1990-11-04 00:00:00, code=0, dosage=, visit_ids=1, lab_units=, clarity_source=PATIENT) \n",
      "Event(start=1990-11-04 00:00:00, code=2, value=M, dosage=, visit_ids=1, lab_units=, clarity_source=PATIENT) \n",
      "Event(start=1990-12-26 00:00:00, code=202, dosage=, visit_ids=20, lab_units=, clarity_source=DIAGNOSIS) \n",
      "Event(start=1990-12-31 00:00:00, code=1130, dosage=, visit_ids=17, lab_units=, clarity_source=DIAGNOSIS) \n",
      "Event(start=1991-01-31 00:00:00, code=1643, dosage=, visit_ids=1, lab_units=, clarity_source=DIAGNOSIS) \n",
      "Event(start=1991-04-22 00:00:00, code=728, dosage=, visit_ids=13, lab_units=, clarity_source=DIAGNOSIS) \n",
      "Event(start=1991-05-11 00:00:00, code=710, dosage=, visit_ids=11, lab_units=, clarity_source=DIAGNOSIS) \n",
      "Event(start=1991-06-30 00:00:00, code=20, dosage=, visit_ids=20, lab_units=, clarity_source=DIAGNOSIS) \n",
      "Event(start=1991-09-30 00:00:00, code=1404, dosage=, visit_ids=7, lab_units=, clarity_source=DIAGNOSIS) \n",
      "Event(start=1991-12-22 00:00:00, code=625, dosage=, visit_ids=5, lab_units=, clarity_source=DIAGNOSIS) \n",
      "Event(start=1992-02-24 00:00:00, code=597, dosage=, visit_ids=3, lab_units=, clarity_source=DIAGNOSIS) \n",
      "Event(start=1992-03-19 00:00:00, code=635, dosage=, visit_ids=16, lab_units=, clarity_source=PROCEDURES) \n",
      "Event(start=1992-06-14 00:00:00, code=2195, dosage=, visit_ids=3, lab_units=, clarity_source=PROCEDURES) \n",
      "Event(start=1992-07-20 00:00:00, code=2126, dosage=, visit_ids=18, lab_units=, clarity_source=PROCEDURES) \n",
      "Event(start=1992-10-05 00:00:00, code=1205, dosage=, visit_ids=18, lab_units=, clarity_source=PROCEDURES) \n",
      "Event(start=1992-10-13 00:00:00, code=705, dosage=, visit_ids=17, lab_units=, clarity_source=PROCEDURES) \n",
      "Event(start=1992-12-27 00:00:00, code=2191, dosage=, visit_ids=10, lab_units=, clarity_source=PROCEDURES) \n",
      "Event(start=1993-01-19 00:00:00, code=2205, dosage=, visit_ids=10, lab_units=, clarity_source=PROCEDURES) \n",
      "Event(start=1993-03-01 00:00:00, code=197, dosage=, visit_ids=8, lab_units=, clarity_source=PROCEDURES) \n",
      "Event(start=1993-03-18 00:00:00, code=767, dosage=, visit_ids=14, lab_units=, clarity_source=PROCEDURES) \n",
      "Event(start=1993-04-07 00:00:00, code=1231, dosage=21, visit_ids=6, lab_units=mg, clarity_source=MED_ORDER) 21\n",
      "Event(start=1993-06-04 00:00:00, code=328, dosage=41, visit_ids=18, lab_units=mg, clarity_source=MED_ORDER) 41\n",
      "Event(start=1993-06-28 00:00:00, code=1622, value=168.0, dosage=, visit_ids=20, lab_units=mmHg, clarity_source=LAB_RESULT) \n",
      "Event(start=1993-09-13 00:00:00, code=379, value=98.0, dosage=, visit_ids=18, lab_units=mmHg, clarity_source=LAB_RESULT) \n",
      "Event(start=1993-10-09 00:00:00, code=1742, value=150.0, dosage=, visit_ids=14, lab_units=mmHg, clarity_source=LAB_RESULT) \n",
      "Event(start=1993-11-25 00:00:00, code=1553, value=188.0, dosage=, visit_ids=6, lab_units=mmHg, clarity_source=LAB_RESULT) \n",
      "Event(start=1994-02-27 00:00:00, code=297, value=171.0, dosage=, visit_ids=6, lab_units=mmHg, clarity_source=LAB_RESULT) \n",
      "Event(start=1994-04-21 00:00:00, code=1874, value=141.0, dosage=, visit_ids=2, lab_units=mmHg, clarity_source=LAB_RESULT) \n",
      "Event(start=1994-05-18 00:00:00, code=1962, value=188.0, dosage=, visit_ids=1, lab_units=mmHg, clarity_source=LAB_RESULT) \n",
      "Event(start=1994-06-27 00:00:00, code=416, value=168.0, dosage=, visit_ids=9, lab_units=mmHg, clarity_source=LAB_RESULT) \n",
      "Event(start=1994-06-30 00:00:00, code=1070, value=142.0, dosage=, visit_ids=19, lab_units=mmHg, clarity_source=LAB_RESULT) \n"
     ]
    }
   ],
   "source": [
    "import femr.datasets\n",
    "\n",
    "database = femr.datasets.PatientDatabase(EXTRACT_DIR)\n",
    "\n",
    "# Number of patients\n",
    "print(\"Num patients\", len(database))\n",
    "\n",
    "# Print out the first patient\n",
    "patient = database[0]\n",
    "print(patient)\n",
    "\n",
    "# Note that the patient ids get remapped, you can unmap with the database\n",
    "original_id = database.get_original_patient_id(0)\n",
    "print(\"Oiringla id for patient 0\", original_id)\n",
    "\n",
    "# Also note that concepts have been mapped to integers\n",
    "print(\"What code 3 means\", database.get_code_dictionary()[3])  # Returns what code=3 means in the database\n",
    "\n",
    "# You can pull things like dosage by looking at the event\n",
    "for event in patient.events:\n",
    "    print(event, event.dosage)\n"
   ]
  },
  {
   "cell_type": "code",
   "execution_count": null,
   "id": "e298dcab",
   "metadata": {},
   "outputs": [],
   "source": []
  }
 ],
 "metadata": {
  "kernelspec": {
   "display_name": "Python 3 (ipykernel)",
   "language": "python",
   "name": "python3"
  },
  "language_info": {
   "codemirror_mode": {
    "name": "ipython",
    "version": 3
   },
   "file_extension": ".py",
   "mimetype": "text/x-python",
   "name": "python",
   "nbconvert_exporter": "python",
   "pygments_lexer": "ipython3",
   "version": "3.10.10"
  }
 },
 "nbformat": 4,
 "nbformat_minor": 5
}
