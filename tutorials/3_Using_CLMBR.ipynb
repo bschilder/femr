{
 "cells": [
  {
   "attachments": {},
   "cell_type": "markdown",
   "metadata": {},
   "source": [
    "# Running CLMBR\n",
    "\n",
    "CLMBR is a model that can predict future patient events given past events. The tools to run this also depend on some CLI tools that come from `pip install femr`.\n",
    "\n",
    "The general approach is:\n",
    "1. Create a dictionary\n",
    "2. Create batches of patient data\n",
    "3. Train the model\n",
    "4. Compute representations\n",
    "\n",
    "The commands are as-follows:\n",
    "1. `clmbr_create_dictionary`\n",
    "    - `clmbr_create_survival_dictionary`\n",
    "3. `clmbr_create_batches`\n",
    "4. `clmbr_train_model`\n",
    "5. `clmbr_compute_representations`\n",
    "\n",
    "To use CLMBR, you'll need to install some extra packages:\n",
    "```bash\n",
    "# clmbr_create_dictionary\n",
    "pip install dm-haiku optax\n",
    "\n",
    "# clmbr_create_batches\n",
    "pip install jax\n",
    "pip install --upgrade \"jax[cpu]\"\n",
    "# If using CUDA on Linux\n",
    "pip install --upgrade \"jax[cuda12_pip]\" -f https://storage.googleapis.com/jax-releases/jax_cuda_releases.html\n",
    "\n",
    "```"
   ]
  },
  {
   "attachments": {},
   "cell_type": "markdown",
   "metadata": {},
   "source": [
    "## Ran --help successfully after installs - needs documentation\n",
    "clmbr_create_batches --data_path DATA_PATH --dictionary_path DICTIONARY_PATH\n",
    "\n",
    "---\n",
    "\n",
    "## Error with running below scripts - needs resolution\n",
    "\n",
    "clmbr_create_dictionary --help\n",
    "clmbr_train_model --help\n",
    "clmbr_compute_representations --help\n",
    "\n",
    "\n",
    "Traceback (most recent call last):\n",
    "  File \"/Users/ericpan/GitHub/femr/src/femr/jax.py\", line 25, in <module>\n",
    "    for name, value, platform in femr.extension.jax.get_kernels():\n",
    "AttributeError: module 'femr.extension.jax' has no attribute 'get_kernels'\n",
    "\n",
    "The above exception was the direct cause of the following exception:\n",
    "\n",
    "Traceback (most recent call last):\n",
    "  File \"/Users/ericpan/anaconda3/envs/FEMR_TEST_1/bin/clmbr_compute_representations\", line 5, in <module>\n",
    "    from femr.models.scripts import compute_representations\n",
    "  File \"/Users/ericpan/GitHub/femr/src/femr/models/scripts.py\", line 23, in <module>\n",
    "    import femr.models.transformer\n",
    "  File \"/Users/ericpan/GitHub/femr/src/femr/models/transformer.py\", line 11, in <module>\n",
    "    import femr.jax\n",
    "  File \"/Users/ericpan/GitHub/femr/src/femr/jax.py\", line 28, in <module>\n",
    "    raise RuntimeError(\n",
    "RuntimeError: Could not load Jax kernels, did you compile with CUDA installed? Run 'nvcc --version' to check."
   ]
  }
 ],
 "metadata": {
  "language_info": {
   "name": "python"
  },
  "orig_nbformat": 4
 },
 "nbformat": 4,
 "nbformat_minor": 2
}
