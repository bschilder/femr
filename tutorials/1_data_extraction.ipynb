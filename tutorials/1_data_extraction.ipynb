{
 "cells": [
  {
   "cell_type": "markdown",
   "id": "0f9ac961-152b-44c5-89f4-5348a59acb90",
   "metadata": {},
   "source": [
    "# Data Extraction for Piton"
   ]
  },
  {
   "cell_type": "markdown",
   "id": "83a792db-ec26-4f35-841f-b752db8dbe6c",
   "metadata": {},
   "source": [
    "The following project assumes taht you have access to the project `som-nero-nigam-starr` and the associated permissions..."
   ]
  },
  {
   "cell_type": "code",
   "execution_count": null,
   "id": "68338593-d3a0-4ff8-b00b-b74c82f163ed",
   "metadata": {},
   "outputs": [],
   "source": []
  }
 ],
 "metadata": {
  "kernelspec": {
   "display_name": "Python 3 (ipykernel)",
   "language": "python",
   "name": "python3"
  },
  "language_info": {
   "codemirror_mode": {
    "name": "ipython",
    "version": 3
   },
   "file_extension": ".py",
   "mimetype": "text/x-python",
   "name": "python",
   "nbconvert_exporter": "python",
   "pygments_lexer": "ipython3",
   "version": "3.10.6"
  }
 },
 "nbformat": 4,
 "nbformat_minor": 5
}
