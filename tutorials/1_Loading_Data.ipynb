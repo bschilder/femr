{
 "cells": [
  {
   "attachments": {},
   "cell_type": "markdown",
   "metadata": {},
   "source": [
    "# Loading Data into FEMR\n",
    "\n",
    "Currently to use FEMR, you need to load data using some command-line tools which you get from `pip install femr`. This is because FEMR uses a specific class called `PatientDatabase` which relies on re-organizing the loaded data into an indexed format on disk (this is to preemptively avoid memory issues if running on large datasets, e.g. >50gb / something that doesn't fit into RAM).\n",
    "\n",
    "This tutorial will go through how to get a `PatientDatabase` so you can use the rest of FEMR."
   ]
  },
  {
   "attachments": {},
   "cell_type": "markdown",
   "metadata": {},
   "source": [
    "### Pre-requisite: Organize data into the FEMR \"Simple\" Format\n",
    "\n",
    "The FEMR \"simple\" format is a CSV with at least 4 coulmns: `patient_id`, `start`, `code`, `value`\n",
    "\n",
    "All fields are required except for `value`.\n",
    "\n",
    " - `patient_id` must be a 64 bit unsigned integer\n",
    " - `start` is an ISO 8601 timestamp string, ideally when the event is initially recorded in the database\n",
    " - `code` is a string that must consist of two parts: 1) a vocabulary signfier and 2) the code itself, seperated by a \"/\" character. For example ICD10CM/E11.4 would indicate the ICD10 code E11.4.\n",
    " - `value` can either be a numeric value, string, or omitted\n",
    "\n",
    "A mock example is provided below:\n",
    "```csv\n",
    "patient_id,start,code,value\n",
    "3,1970-01-07,Birth/Birth,\n",
    "3,1990-01-07,Gender/Gender,Female\n",
    "3,1990-01-07,Race/Race,White\n",
    "3,2022-05-03,ICD10CM/E11.4,\n",
    "```\n",
    "\n",
    "You are free to use whatever method you'd like to obtain this format. Reach-out if you'd like assistance in scoping this out for your specific use-case!"
   ]
  },
  {
   "attachments": {},
   "cell_type": "markdown",
   "metadata": {},
   "source": [
    "### Running the FEMR ETL Script\n",
    "\n",
    "Once you have a file formatted above, install FEMR and then run the corresponding ETL script.\n",
    "\n",
    "It requires specifying an output path, which is later needed for loading the `PatientDatabase`"
   ]
  },
  {
   "cell_type": "code",
   "execution_count": 3,
   "metadata": {},
   "outputs": [
    {
     "name": "stdout",
     "output_type": "stream",
     "text": [
      "Requirement already satisfied: femr in /Users/ericpan/anaconda3/envs/FEMR_TEST_1/lib/python3.10/site-packages (0.1.8)\n",
      "Requirement already satisfied: scikit-learn>=0.24 in /Users/ericpan/anaconda3/envs/FEMR_TEST_1/lib/python3.10/site-packages (from femr) (1.2.2)\n",
      "Requirement already satisfied: scipy>=1.6 in /Users/ericpan/anaconda3/envs/FEMR_TEST_1/lib/python3.10/site-packages (from femr) (1.10.1)\n",
      "Requirement already satisfied: icecream==2.1.3 in /Users/ericpan/anaconda3/envs/FEMR_TEST_1/lib/python3.10/site-packages (from femr) (2.1.3)\n",
      "Requirement already satisfied: zstandard>=0.18 in /Users/ericpan/anaconda3/envs/FEMR_TEST_1/lib/python3.10/site-packages (from femr) (0.20.0)\n",
      "Requirement already satisfied: nptyping==2.4.1 in /Users/ericpan/anaconda3/envs/FEMR_TEST_1/lib/python3.10/site-packages (from femr) (2.4.1)\n",
      "Requirement already satisfied: msgpack>=1.0.5 in /Users/ericpan/anaconda3/envs/FEMR_TEST_1/lib/python3.10/site-packages (from femr) (1.0.5)\n",
      "Requirement already satisfied: tqdm>=4.60.0 in /Users/ericpan/anaconda3/envs/FEMR_TEST_1/lib/python3.10/site-packages (from femr) (4.65.0)\n",
      "Requirement already satisfied: numpy>=1.22 in /Users/ericpan/anaconda3/envs/FEMR_TEST_1/lib/python3.10/site-packages (from femr) (1.24.2)\n",
      "Requirement already satisfied: asttokens>=2.0.1 in /Users/ericpan/anaconda3/envs/FEMR_TEST_1/lib/python3.10/site-packages (from icecream==2.1.3->femr) (2.2.1)\n",
      "Requirement already satisfied: colorama>=0.3.9 in /Users/ericpan/anaconda3/envs/FEMR_TEST_1/lib/python3.10/site-packages (from icecream==2.1.3->femr) (0.4.6)\n",
      "Requirement already satisfied: executing>=0.3.1 in /Users/ericpan/anaconda3/envs/FEMR_TEST_1/lib/python3.10/site-packages (from icecream==2.1.3->femr) (1.2.0)\n",
      "Requirement already satisfied: pygments>=2.2.0 in /Users/ericpan/anaconda3/envs/FEMR_TEST_1/lib/python3.10/site-packages (from icecream==2.1.3->femr) (2.15.0)\n",
      "Requirement already satisfied: threadpoolctl>=2.0.0 in /Users/ericpan/anaconda3/envs/FEMR_TEST_1/lib/python3.10/site-packages (from scikit-learn>=0.24->femr) (3.1.0)\n",
      "Requirement already satisfied: joblib>=1.1.1 in /Users/ericpan/anaconda3/envs/FEMR_TEST_1/lib/python3.10/site-packages (from scikit-learn>=0.24->femr) (1.2.0)\n",
      "Requirement already satisfied: six in /Users/ericpan/anaconda3/envs/FEMR_TEST_1/lib/python3.10/site-packages (from asttokens>=2.0.1->icecream==2.1.3->femr) (1.16.0)\n",
      "2023-05-13 16:44:41,933 [MainThread  ] [INFO ]  Extracting from OMOP with arguments Namespace(simple_source='./example_data/example.csv', target_location='/Users/ericpan/GitHub/femr/tutorials/example_data/example_etl_output', temp_location='/Users/ericpan/GitHub/femr/tutorials/example_data/example_etl_temp_location', num_threads=1, athena_download=None)\n",
      "2023-05-13 16:44:41,933 [MainThread  ] [INFO ]  Converting to events\n",
      "2023-05-13 16:44:42,153 [MainThread  ] [INFO ]  Converting to patients\n",
      "2023-05-13 16:44:42,155 [MainThread  ] [INFO ]  Converting to extract\n",
      "Converting to extract 2023-05-13 16:44:42.155327\n",
      "Done with main 2023-05-13T16:44:42.158837-07:00\n",
      "Done with meta 2023-05-13T16:44:42.15948-07:00\n"
     ]
    }
   ],
   "source": [
    "!pip install femr\n",
    "!etl_simple_femr ./example_data/example.csv ./example_data/example_etl_output ./example_data/example_etl_temp_location"
   ]
  },
  {
   "attachments": {},
   "cell_type": "markdown",
   "metadata": {},
   "source": [
    "### Loading the `PatientDatabase` object\n",
    "\n",
    "Once you have the output folder from running the script, you can load the results into a `PatientDatabase` object in memory and use the rest of FEMR."
   ]
  },
  {
   "cell_type": "code",
   "execution_count": 10,
   "metadata": {},
   "outputs": [
    {
     "name": "stdout",
     "output_type": "stream",
     "text": [
      "<class 'femr.extension.datasets.PatientDatabase'>\n"
     ]
    }
   ],
   "source": [
    "from femr.datasets import PatientDatabase\n",
    "\n",
    "patient_db = PatientDatabase(\"./example_data/example_etl_output\")\n",
    "print(type(patient_db))"
   ]
  },
  {
   "attachments": {},
   "cell_type": "markdown",
   "metadata": {},
   "source": [
    "### Using the `PatientDatabase` Object\n",
    "\n",
    "We can pass objects from `PatientDatabase` to other parts of the FEMR pipeline.\n",
    "\n",
    "With this specific object, we can now use other parts of FEMR."
   ]
  },
  {
   "cell_type": "code",
   "execution_count": 26,
   "metadata": {},
   "outputs": [
    {
     "name": "stdout",
     "output_type": "stream",
     "text": [
      "Patient(patient_id=3, events=(Event(start=1970-01-07 00:00:00, code=Birth/Birth, value=None), Event(start=1990-01-07 00:00:00, code=Race/Race, value=White), Event(start=1990-01-07 00:00:00, code=Gender/Gender, value=Female), Event(start=2020-07-09 00:00:00, code=Vitals/Blood Pressure, value=160.0, units=mmHg), Event(start=2020-08-09 00:00:00, code=Vitals/HbA1c, value=7.0, dosage=%), Event(start=2022-05-03 00:00:00, code=ICD10CM/E11.4, value=None), Event(start=2022-06-05 00:00:00, code=Drug/Atorvastatin, value=None, units=mg, dosage=50), Event(start=2022-06-05 00:00:00, code=ICD10CM/E10.1, value=None), Event(start=2022-06-05 00:00:00, code=Note/ProgressNote, value=Patient Bob came to the clinic today), Event(start=2022-06-06 00:00:00, code=Note/ProgressNote, value=Complicated notes generally need escaping , \"\n",
      " example), Event(start=2022-07-06 00:00:00, code=Drug/Multivitamins, value=None, units=ml, dosage=5)))\n",
      "3\n",
      "Event(start=1970-01-07 00:00:00, code=Birth/Birth, value=None)\n",
      "Event(start=1990-01-07 00:00:00, code=Race/Race, value=White)\n",
      "Event(start=1990-01-07 00:00:00, code=Gender/Gender, value=Female)\n",
      "Event(start=2020-07-09 00:00:00, code=Vitals/Blood Pressure, value=160.0, units=mmHg)\n",
      "Event(start=2020-08-09 00:00:00, code=Vitals/HbA1c, value=7.0, dosage=%)\n",
      "Event(start=2022-05-03 00:00:00, code=ICD10CM/E11.4, value=None)\n",
      "Event(start=2022-06-05 00:00:00, code=Drug/Atorvastatin, value=None, units=mg, dosage=50)\n",
      "Event(start=2022-06-05 00:00:00, code=ICD10CM/E10.1, value=None)\n",
      "Event(start=2022-06-05 00:00:00, code=Note/ProgressNote, value=Patient Bob came to the clinic today)\n",
      "Event(start=2022-06-06 00:00:00, code=Note/ProgressNote, value=Complicated notes generally need escaping , \"\n",
      " example)\n",
      "Event(start=2022-07-06 00:00:00, code=Drug/Multivitamins, value=None, units=ml, dosage=5)\n"
     ]
    }
   ],
   "source": [
    "# Index by `patient_id` to get a `Patient` object\n",
    "print(patient_db[3])\n",
    "\n",
    "# Iterate over `patient_id`s\n",
    "for pid in patient_db:\n",
    "    print(pid)\n",
    "    # Iterate over events for each patient\n",
    "    for e in patient_db[pid].events:\n",
    "        print(e)\n",
    "\n"
   ]
  }
 ],
 "metadata": {
  "kernelspec": {
   "display_name": "FEMR_TEST_1",
   "language": "python",
   "name": "python3"
  },
  "language_info": {
   "codemirror_mode": {
    "name": "ipython",
    "version": 3
   },
   "file_extension": ".py",
   "mimetype": "text/x-python",
   "name": "python",
   "nbconvert_exporter": "python",
   "pygments_lexer": "ipython3",
   "version": "3.10.10"
  },
  "orig_nbformat": 4
 },
 "nbformat": 4,
 "nbformat_minor": 2
}
