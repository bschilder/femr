{
 "cells": [
  {
   "cell_type": "code",
   "execution_count": 40,
   "id": "1c43926a-b4ef-4362-a7df-aa698d05fd9e",
   "metadata": {},
   "outputs": [
    {
     "name": "stdout",
     "output_type": "stream",
     "text": [
      "The autoreload extension is already loaded. To reload it, use:\n",
      "  %reload_ext autoreload\n"
     ]
    }
   ],
   "source": [
    "%load_ext autoreload\n",
    "%autoreload 2"
   ]
  },
  {
   "cell_type": "code",
   "execution_count": 58,
   "id": "58cb0d5d-a9c0-4867-bdf7-8ae9c8147411",
   "metadata": {},
   "outputs": [],
   "source": [
    "import pickle\n",
    "import sklearn\n",
    "import piton.datasets\n",
    "from piton.featurizers import save_to_file, load_from_file\n",
    "import sklearn.linear_model\n",
    "import sklearn.metrics\n",
    "import numpy as np\n",
    "import os\n",
    "import xgboost as xgb\n",
    "import lightgbm as lgbm\n",
    "import pandas as pd"
   ]
  },
  {
   "cell_type": "code",
   "execution_count": null,
   "id": "bf5e1cd5-3c33-4606-89e8-0ee1801430bd",
   "metadata": {},
   "outputs": [],
   "source": []
  },
  {
   "cell_type": "code",
   "execution_count": 54,
   "id": "97eb0c7c-c397-4cb3-8598-5dc763cfc1aa",
   "metadata": {},
   "outputs": [],
   "source": [
    "features_path = \"/share/pi/nigam/rthapa84/data/hba1c_reps\"\n",
    "labels_path = \"/share/pi/nigam/rthapa84/data/HighHbA1c_labeled_patients_v3.pickle\"\n",
    "data_path = \"/share/pi/nigam/data/som-rit-phi-starr-prod.starr_omop_cdm5_deid_2022_09_05_extract2\"\n",
    "\n",
    "data = piton.datasets.PatientDatabase(data_path)"
   ]
  },
  {
   "cell_type": "markdown",
   "id": "993e821a-9e1e-47e9-a53f-582b67dfceae",
   "metadata": {},
   "source": [
    "#### CLMBR Model Representation and Performance"
   ]
  },
  {
   "cell_type": "code",
   "execution_count": 4,
   "id": "daa0b9e6-f9c6-4ed9-82d4-0b6c8f134ba5",
   "metadata": {},
   "outputs": [],
   "source": [
    "with open(features_path, \"rb\") as f:\n",
    "    features = pickle.load(f)\n",
    "\n",
    "with open(labels_path, \"rb\") as f:\n",
    "    labeled_patients = pickle.load(f)\n",
    "\n",
    "data_matrix, patient_ids, labeling_time = [\n",
    "    features[k] for k in (\"data_matrix\", \"patient_ids\", \"labeling_time\")\n",
    "]\n",
    "labels = []\n",
    "\n",
    "for pid, time in zip(patient_ids, labeling_time):\n",
    "    raw_labels = [\n",
    "        label.value for label in labeled_patients[pid] if label.time == time\n",
    "    ]\n",
    "    assert len(raw_labels) == 1\n",
    "    labels.append(raw_labels[0])\n",
    "\n",
    "labels = np.array(labels)"
   ]
  },
  {
   "cell_type": "code",
   "execution_count": 5,
   "id": "9bfebec8-351e-4834-ad6d-0147ef21b9f6",
   "metadata": {},
   "outputs": [],
   "source": [
    "hashes = np.array([data.compute_split(97, pid) for pid in patient_ids])\n",
    "train_pids = hashes < 70\n",
    "val_pids = (hashes >= 70) & (hashes < 85)"
   ]
  },
  {
   "cell_type": "code",
   "execution_count": 6,
   "id": "7173b6f4-b42a-4936-a343-7afefd39a2e0",
   "metadata": {},
   "outputs": [
    {
     "name": "stderr",
     "output_type": "stream",
     "text": [
      "/share/pi/nigam/rthapa84/miniconda3/envs/env_piton_1/lib/python3.10/site-packages/sklearn/linear_model/_logistic.py:444: ConvergenceWarning: lbfgs failed to converge (status=1):\n",
      "STOP: TOTAL NO. of ITERATIONS REACHED LIMIT.\n",
      "\n",
      "Increase the number of iterations (max_iter) or scale the data as shown in:\n",
      "    https://scikit-learn.org/stable/modules/preprocessing.html\n",
      "Please also refer to the documentation for alternative solver options:\n",
      "    https://scikit-learn.org/stable/modules/linear_model.html#logistic-regression\n",
      "  n_iter_i = _check_optimize_result(\n",
      "/share/pi/nigam/rthapa84/miniconda3/envs/env_piton_1/lib/python3.10/site-packages/sklearn/linear_model/_logistic.py:444: ConvergenceWarning: lbfgs failed to converge (status=1):\n",
      "STOP: TOTAL NO. of ITERATIONS REACHED LIMIT.\n",
      "\n",
      "Increase the number of iterations (max_iter) or scale the data as shown in:\n",
      "    https://scikit-learn.org/stable/modules/preprocessing.html\n",
      "Please also refer to the documentation for alternative solver options:\n",
      "    https://scikit-learn.org/stable/modules/linear_model.html#logistic-regression\n",
      "  n_iter_i = _check_optimize_result(\n",
      "/share/pi/nigam/rthapa84/miniconda3/envs/env_piton_1/lib/python3.10/site-packages/sklearn/linear_model/_logistic.py:444: ConvergenceWarning: lbfgs failed to converge (status=1):\n",
      "STOP: TOTAL NO. of ITERATIONS REACHED LIMIT.\n",
      "\n",
      "Increase the number of iterations (max_iter) or scale the data as shown in:\n",
      "    https://scikit-learn.org/stable/modules/preprocessing.html\n",
      "Please also refer to the documentation for alternative solver options:\n",
      "    https://scikit-learn.org/stable/modules/linear_model.html#logistic-regression\n",
      "  n_iter_i = _check_optimize_result(\n",
      "/share/pi/nigam/rthapa84/miniconda3/envs/env_piton_1/lib/python3.10/site-packages/sklearn/linear_model/_logistic.py:444: ConvergenceWarning: lbfgs failed to converge (status=1):\n",
      "STOP: TOTAL NO. of ITERATIONS REACHED LIMIT.\n",
      "\n",
      "Increase the number of iterations (max_iter) or scale the data as shown in:\n",
      "    https://scikit-learn.org/stable/modules/preprocessing.html\n",
      "Please also refer to the documentation for alternative solver options:\n",
      "    https://scikit-learn.org/stable/modules/linear_model.html#logistic-regression\n",
      "  n_iter_i = _check_optimize_result(\n",
      "/share/pi/nigam/rthapa84/miniconda3/envs/env_piton_1/lib/python3.10/site-packages/sklearn/linear_model/_logistic.py:444: ConvergenceWarning: lbfgs failed to converge (status=1):\n",
      "STOP: TOTAL NO. of ITERATIONS REACHED LIMIT.\n",
      "\n",
      "Increase the number of iterations (max_iter) or scale the data as shown in:\n",
      "    https://scikit-learn.org/stable/modules/preprocessing.html\n",
      "Please also refer to the documentation for alternative solver options:\n",
      "    https://scikit-learn.org/stable/modules/linear_model.html#logistic-regression\n",
      "  n_iter_i = _check_optimize_result(\n",
      "/share/pi/nigam/rthapa84/miniconda3/envs/env_piton_1/lib/python3.10/site-packages/sklearn/linear_model/_logistic.py:444: ConvergenceWarning: lbfgs failed to converge (status=1):\n",
      "STOP: TOTAL NO. of ITERATIONS REACHED LIMIT.\n",
      "\n",
      "Increase the number of iterations (max_iter) or scale the data as shown in:\n",
      "    https://scikit-learn.org/stable/modules/preprocessing.html\n",
      "Please also refer to the documentation for alternative solver options:\n",
      "    https://scikit-learn.org/stable/modules/linear_model.html#logistic-regression\n",
      "  n_iter_i = _check_optimize_result(\n"
     ]
    }
   ],
   "source": [
    "if True:\n",
    "    model = sklearn.linear_model.LogisticRegressionCV()\n",
    "    model.fit(data_matrix[train_pids, :], labels[train_pids])\n",
    "\n",
    "    with open(\"temp_model.pickle\", \"wb\") as f:\n",
    "        pickle.dump(model, f)\n",
    "else:\n",
    "    with open(\"temp_model.pickle\", \"rb\") as f:\n",
    "        model = pickle.load(f)"
   ]
  },
  {
   "cell_type": "code",
   "execution_count": 7,
   "id": "a4329b66-5d54-469d-83ff-422189658546",
   "metadata": {},
   "outputs": [
    {
     "name": "stdout",
     "output_type": "stream",
     "text": [
      "0.9359589499336779\n",
      "0.7517387202337262\n"
     ]
    }
   ],
   "source": [
    "train_preds = model.predict_log_proba(data_matrix[train_pids, :])[:, 1]\n",
    "print(sklearn.metrics.roc_auc_score(labels[train_pids], train_preds))\n",
    "print(sklearn.metrics.average_precision_score(labels[train_pids], train_preds))"
   ]
  },
  {
   "cell_type": "code",
   "execution_count": 8,
   "id": "6cfc996e-75f2-417a-b911-ce15d92af37a",
   "metadata": {},
   "outputs": [
    {
     "name": "stdout",
     "output_type": "stream",
     "text": [
      "0.9266718509509135\n",
      "0.7272804418642\n"
     ]
    }
   ],
   "source": [
    "val_preds = model.predict_log_proba(data_matrix[val_pids, :])[:, 1]\n",
    "print(sklearn.metrics.roc_auc_score(labels[val_pids], val_preds))\n",
    "print(sklearn.metrics.average_precision_score(labels[val_pids], val_preds))"
   ]
  },
  {
   "cell_type": "markdown",
   "id": "bc7e18fb-1f27-482c-8700-f9c08fcd948a",
   "metadata": {},
   "source": [
    "#### Performance with only Diabetes Text Embeddings"
   ]
  },
  {
   "cell_type": "code",
   "execution_count": 24,
   "id": "9048a8b0-e91a-49ed-ab8f-11433b89ed52",
   "metadata": {},
   "outputs": [
    {
     "data": {
      "text/plain": [
       "['9_embeddings.pickle',\n",
       " '2_embeddings.pickle',\n",
       " '5_embeddings.pickle',\n",
       " '3_embeddings.pickle',\n",
       " '6_embeddings.pickle',\n",
       " '4_embeddings.pickle',\n",
       " '8_embeddings.pickle',\n",
       " '7_embeddings.pickle',\n",
       " '1_embeddings.pickle',\n",
       " '0_embeddings.pickle']"
      ]
     },
     "execution_count": 24,
     "metadata": {},
     "output_type": "execute_result"
    }
   ],
   "source": [
    "path_to_diabetes_shards = \"/share/pi/nigam/rthapa84/data/diabetes_shards\"\n",
    "path_to_diabetes_metadata = \"/share/pi/nigam/rthapa84/data/v1_diabetes_meta_data.pickle\"\n",
    "\n",
    "os.listdir(path_to_diabetes_shards)"
   ]
  },
  {
   "cell_type": "code",
   "execution_count": 20,
   "id": "a833ab2c-7bd8-47e9-9a3f-0cc891f9a39d",
   "metadata": {},
   "outputs": [],
   "source": [
    "test_embedding = load_from_file(os.path.join(path_to_diabetes_shards, \"0_embeddings.pickle\"))"
   ]
  },
  {
   "cell_type": "code",
   "execution_count": 21,
   "id": "42933819-4cff-4a6c-a3a0-f195e1f266bb",
   "metadata": {},
   "outputs": [
    {
     "name": "stdout",
     "output_type": "stream",
     "text": [
      "(41846, 768)\n",
      "(41847, 768)\n",
      "(41846, 768)\n",
      "(41846, 768)\n",
      "(41846, 768)\n",
      "(41846, 768)\n",
      "(41846, 768)\n",
      "(41846, 768)\n",
      "(41848, 768)\n",
      "(41848, 768)\n"
     ]
    }
   ],
   "source": [
    "array_list = []\n",
    "\n",
    "for file_name in os.listdir(path_to_diabetes_shards):\n",
    "    test_embedding = load_from_file(os.path.join(path_to_diabetes_shards, file_name))\n",
    "    print(test_embedding.shape)\n",
    "    array_list.append(test_embedding)"
   ]
  },
  {
   "cell_type": "code",
   "execution_count": 22,
   "id": "3b1f5767-8b07-4c69-b9e6-819a8cf92d18",
   "metadata": {},
   "outputs": [
    {
     "data": {
      "text/plain": [
       "(418465, 768)"
      ]
     },
     "execution_count": 22,
     "metadata": {},
     "output_type": "execute_result"
    }
   ],
   "source": [
    "embeddings = np.concatenate(array_list)\n",
    "embeddings.shape"
   ]
  },
  {
   "cell_type": "code",
   "execution_count": 25,
   "id": "b3ba2982-ad24-42d4-9899-729afb77c354",
   "metadata": {},
   "outputs": [],
   "source": [
    "diabetes_meta_data = load_from_file(path_to_diabetes_metadata)"
   ]
  },
  {
   "cell_type": "code",
   "execution_count": 26,
   "id": "9ecad24f-bc55-4e66-8591-8579a887f2d8",
   "metadata": {},
   "outputs": [
    {
     "data": {
      "text/plain": [
       "(array([False, False, False, ..., False, False, False]),\n",
       " array([     10,      16,      29, ..., 2730362, 2730370, 2730378]),\n",
       " array([datetime.datetime(2019, 10, 10, 7, 49),\n",
       "        datetime.datetime(2021, 7, 3, 10, 23),\n",
       "        datetime.datetime(2017, 10, 13, 11, 11), ...,\n",
       "        datetime.datetime(2022, 9, 29, 23, 58),\n",
       "        datetime.datetime(2022, 9, 11, 8, 17),\n",
       "        datetime.datetime(2022, 8, 2, 16, 5)], dtype=object))"
      ]
     },
     "execution_count": 26,
     "metadata": {},
     "output_type": "execute_result"
    }
   ],
   "source": [
    "diabetes_meta_data"
   ]
  },
  {
   "cell_type": "code",
   "execution_count": 23,
   "id": "cde7754b-078c-4f94-8e6e-8c8f8aca95af",
   "metadata": {},
   "outputs": [
    {
     "data": {
      "text/plain": [
       "418465"
      ]
     },
     "execution_count": 23,
     "metadata": {},
     "output_type": "execute_result"
    }
   ],
   "source": [
    "len(labeled_patients)"
   ]
  },
  {
   "cell_type": "code",
   "execution_count": 29,
   "id": "07f5b35b-fdfd-4a34-83b6-f7352bbb360d",
   "metadata": {},
   "outputs": [],
   "source": [
    "diabetes_text_features = {\n",
    "    \"data_matrix\": embeddings, \n",
    "    \"labels\": diabetes_meta_data[0],\n",
    "    \"patient_ids\": diabetes_meta_data[1], \n",
    "    \"labeling_time\": diabetes_meta_data[2], \n",
    "}"
   ]
  },
  {
   "cell_type": "markdown",
   "id": "9339d530-a064-47d3-8dac-190cd00eafa3",
   "metadata": {},
   "source": [
    "#### Performance with just text data"
   ]
  },
  {
   "cell_type": "code",
   "execution_count": 31,
   "id": "4a1fa52a-18a6-49fb-afb5-6f5f7c19256f",
   "metadata": {},
   "outputs": [],
   "source": [
    "data_matrix, labels, patient_ids, labeling_time = [\n",
    "    diabetes_text_features[k] for k in (\"data_matrix\", \"labels\", \"patient_ids\", \"labeling_time\")\n",
    "]"
   ]
  },
  {
   "cell_type": "code",
   "execution_count": 32,
   "id": "a0ad346b-1c73-428f-8eda-f983df8fc395",
   "metadata": {},
   "outputs": [
    {
     "name": "stderr",
     "output_type": "stream",
     "text": [
      "/share/pi/nigam/rthapa84/miniconda3/envs/env_piton_1/lib/python3.10/site-packages/sklearn/linear_model/_logistic.py:444: ConvergenceWarning: lbfgs failed to converge (status=1):\n",
      "STOP: TOTAL NO. of ITERATIONS REACHED LIMIT.\n",
      "\n",
      "Increase the number of iterations (max_iter) or scale the data as shown in:\n",
      "    https://scikit-learn.org/stable/modules/preprocessing.html\n",
      "Please also refer to the documentation for alternative solver options:\n",
      "    https://scikit-learn.org/stable/modules/linear_model.html#logistic-regression\n",
      "  n_iter_i = _check_optimize_result(\n",
      "/share/pi/nigam/rthapa84/miniconda3/envs/env_piton_1/lib/python3.10/site-packages/sklearn/linear_model/_logistic.py:444: ConvergenceWarning: lbfgs failed to converge (status=1):\n",
      "STOP: TOTAL NO. of ITERATIONS REACHED LIMIT.\n",
      "\n",
      "Increase the number of iterations (max_iter) or scale the data as shown in:\n",
      "    https://scikit-learn.org/stable/modules/preprocessing.html\n",
      "Please also refer to the documentation for alternative solver options:\n",
      "    https://scikit-learn.org/stable/modules/linear_model.html#logistic-regression\n",
      "  n_iter_i = _check_optimize_result(\n",
      "/share/pi/nigam/rthapa84/miniconda3/envs/env_piton_1/lib/python3.10/site-packages/sklearn/linear_model/_logistic.py:444: ConvergenceWarning: lbfgs failed to converge (status=1):\n",
      "STOP: TOTAL NO. of ITERATIONS REACHED LIMIT.\n",
      "\n",
      "Increase the number of iterations (max_iter) or scale the data as shown in:\n",
      "    https://scikit-learn.org/stable/modules/preprocessing.html\n",
      "Please also refer to the documentation for alternative solver options:\n",
      "    https://scikit-learn.org/stable/modules/linear_model.html#logistic-regression\n",
      "  n_iter_i = _check_optimize_result(\n",
      "/share/pi/nigam/rthapa84/miniconda3/envs/env_piton_1/lib/python3.10/site-packages/sklearn/linear_model/_logistic.py:444: ConvergenceWarning: lbfgs failed to converge (status=1):\n",
      "STOP: TOTAL NO. of ITERATIONS REACHED LIMIT.\n",
      "\n",
      "Increase the number of iterations (max_iter) or scale the data as shown in:\n",
      "    https://scikit-learn.org/stable/modules/preprocessing.html\n",
      "Please also refer to the documentation for alternative solver options:\n",
      "    https://scikit-learn.org/stable/modules/linear_model.html#logistic-regression\n",
      "  n_iter_i = _check_optimize_result(\n",
      "/share/pi/nigam/rthapa84/miniconda3/envs/env_piton_1/lib/python3.10/site-packages/sklearn/linear_model/_logistic.py:444: ConvergenceWarning: lbfgs failed to converge (status=1):\n",
      "STOP: TOTAL NO. of ITERATIONS REACHED LIMIT.\n",
      "\n",
      "Increase the number of iterations (max_iter) or scale the data as shown in:\n",
      "    https://scikit-learn.org/stable/modules/preprocessing.html\n",
      "Please also refer to the documentation for alternative solver options:\n",
      "    https://scikit-learn.org/stable/modules/linear_model.html#logistic-regression\n",
      "  n_iter_i = _check_optimize_result(\n"
     ]
    },
    {
     "data": {
      "text/html": [
       "<style>#sk-container-id-1 {color: black;background-color: white;}#sk-container-id-1 pre{padding: 0;}#sk-container-id-1 div.sk-toggleable {background-color: white;}#sk-container-id-1 label.sk-toggleable__label {cursor: pointer;display: block;width: 100%;margin-bottom: 0;padding: 0.3em;box-sizing: border-box;text-align: center;}#sk-container-id-1 label.sk-toggleable__label-arrow:before {content: \"▸\";float: left;margin-right: 0.25em;color: #696969;}#sk-container-id-1 label.sk-toggleable__label-arrow:hover:before {color: black;}#sk-container-id-1 div.sk-estimator:hover label.sk-toggleable__label-arrow:before {color: black;}#sk-container-id-1 div.sk-toggleable__content {max-height: 0;max-width: 0;overflow: hidden;text-align: left;background-color: #f0f8ff;}#sk-container-id-1 div.sk-toggleable__content pre {margin: 0.2em;color: black;border-radius: 0.25em;background-color: #f0f8ff;}#sk-container-id-1 input.sk-toggleable__control:checked~div.sk-toggleable__content {max-height: 200px;max-width: 100%;overflow: auto;}#sk-container-id-1 input.sk-toggleable__control:checked~label.sk-toggleable__label-arrow:before {content: \"▾\";}#sk-container-id-1 div.sk-estimator input.sk-toggleable__control:checked~label.sk-toggleable__label {background-color: #d4ebff;}#sk-container-id-1 div.sk-label input.sk-toggleable__control:checked~label.sk-toggleable__label {background-color: #d4ebff;}#sk-container-id-1 input.sk-hidden--visually {border: 0;clip: rect(1px 1px 1px 1px);clip: rect(1px, 1px, 1px, 1px);height: 1px;margin: -1px;overflow: hidden;padding: 0;position: absolute;width: 1px;}#sk-container-id-1 div.sk-estimator {font-family: monospace;background-color: #f0f8ff;border: 1px dotted black;border-radius: 0.25em;box-sizing: border-box;margin-bottom: 0.5em;}#sk-container-id-1 div.sk-estimator:hover {background-color: #d4ebff;}#sk-container-id-1 div.sk-parallel-item::after {content: \"\";width: 100%;border-bottom: 1px solid gray;flex-grow: 1;}#sk-container-id-1 div.sk-label:hover label.sk-toggleable__label {background-color: #d4ebff;}#sk-container-id-1 div.sk-serial::before {content: \"\";position: absolute;border-left: 1px solid gray;box-sizing: border-box;top: 0;bottom: 0;left: 50%;z-index: 0;}#sk-container-id-1 div.sk-serial {display: flex;flex-direction: column;align-items: center;background-color: white;padding-right: 0.2em;padding-left: 0.2em;position: relative;}#sk-container-id-1 div.sk-item {position: relative;z-index: 1;}#sk-container-id-1 div.sk-parallel {display: flex;align-items: stretch;justify-content: center;background-color: white;position: relative;}#sk-container-id-1 div.sk-item::before, #sk-container-id-1 div.sk-parallel-item::before {content: \"\";position: absolute;border-left: 1px solid gray;box-sizing: border-box;top: 0;bottom: 0;left: 50%;z-index: -1;}#sk-container-id-1 div.sk-parallel-item {display: flex;flex-direction: column;z-index: 1;position: relative;background-color: white;}#sk-container-id-1 div.sk-parallel-item:first-child::after {align-self: flex-end;width: 50%;}#sk-container-id-1 div.sk-parallel-item:last-child::after {align-self: flex-start;width: 50%;}#sk-container-id-1 div.sk-parallel-item:only-child::after {width: 0;}#sk-container-id-1 div.sk-dashed-wrapped {border: 1px dashed gray;margin: 0 0.4em 0.5em 0.4em;box-sizing: border-box;padding-bottom: 0.4em;background-color: white;}#sk-container-id-1 div.sk-label label {font-family: monospace;font-weight: bold;display: inline-block;line-height: 1.2em;}#sk-container-id-1 div.sk-label-container {text-align: center;}#sk-container-id-1 div.sk-container {/* jupyter's `normalize.less` sets `[hidden] { display: none; }` but bootstrap.min.css set `[hidden] { display: none !important; }` so we also need the `!important` here to be able to override the default hidden behavior on the sphinx rendered scikit-learn.org. See: https://github.com/scikit-learn/scikit-learn/issues/21755 */display: inline-block !important;position: relative;}#sk-container-id-1 div.sk-text-repr-fallback {display: none;}</style><div id=\"sk-container-id-1\" class=\"sk-top-container\"><div class=\"sk-text-repr-fallback\"><pre>LogisticRegressionCV()</pre><b>In a Jupyter environment, please rerun this cell to show the HTML representation or trust the notebook. <br />On GitHub, the HTML representation is unable to render, please try loading this page with nbviewer.org.</b></div><div class=\"sk-container\" hidden><div class=\"sk-item\"><div class=\"sk-estimator sk-toggleable\"><input class=\"sk-toggleable__control sk-hidden--visually\" id=\"sk-estimator-id-1\" type=\"checkbox\" checked><label for=\"sk-estimator-id-1\" class=\"sk-toggleable__label sk-toggleable__label-arrow\">LogisticRegressionCV</label><div class=\"sk-toggleable__content\"><pre>LogisticRegressionCV()</pre></div></div></div></div></div>"
      ],
      "text/plain": [
       "LogisticRegressionCV()"
      ]
     },
     "execution_count": 32,
     "metadata": {},
     "output_type": "execute_result"
    }
   ],
   "source": [
    "# Logistic Regression\n",
    "model = sklearn.linear_model.LogisticRegressionCV()\n",
    "model.fit(data_matrix[train_pids, :], labels[train_pids])\n",
    "train_preds = model.predict_log_proba(data_matrix[train_pids, :])[:, 1]\n",
    "print(sklearn.metrics.roc_auc_score(labels[train_pids], train_preds))\n",
    "print(sklearn.metrics.average_precision_score(labels[train_pids], train_preds))\n",
    "\n",
    "val_preds = model.predict_log_proba(data_matrix[val_pids, :])[:, 1]\n",
    "print(sklearn.metrics.roc_auc_score(labels[val_pids], val_preds))\n",
    "print(sklearn.metrics.average_precision_score(labels[val_pids], val_preds))"
   ]
  },
  {
   "cell_type": "code",
   "execution_count": 36,
   "id": "9708be02-5f67-48f3-93fa-19695fb70b40",
   "metadata": {},
   "outputs": [
    {
     "name": "stdout",
     "output_type": "stream",
     "text": [
      "0.5204884862390979\n",
      "0.16398090342708407\n",
      "0.5010860047980064\n",
      "0.15019260792534728\n"
     ]
    }
   ],
   "source": [
    "train_preds = model.predict_log_proba(data_matrix[train_pids, :])[:, 1]\n",
    "print(sklearn.metrics.roc_auc_score(labels[train_pids], train_preds))\n",
    "print(sklearn.metrics.average_precision_score(labels[train_pids], train_preds))\n",
    "\n",
    "val_preds = model.predict_log_proba(data_matrix[val_pids, :])[:, 1]\n",
    "print(sklearn.metrics.roc_auc_score(labels[val_pids], val_preds))\n",
    "print(sklearn.metrics.average_precision_score(labels[val_pids], val_preds))"
   ]
  },
  {
   "cell_type": "code",
   "execution_count": 48,
   "id": "ff2d40d7-fb92-4890-b944-e5d8ee0e47d4",
   "metadata": {},
   "outputs": [
    {
     "name": "stdout",
     "output_type": "stream",
     "text": [
      "[18:29:56] WARNING: ../src/learner.cc:767: \n",
      "Parameters: { \"early_stopping\" } are not used.\n",
      "\n"
     ]
    },
    {
     "ename": "AttributeError",
     "evalue": "'XGBClassifier' object has no attribute 'predict_log_proba'",
     "output_type": "error",
     "traceback": [
      "\u001b[0;31m---------------------------------------------------------------------------\u001b[0m",
      "\u001b[0;31mAttributeError\u001b[0m                            Traceback (most recent call last)",
      "Cell \u001b[0;32mIn [48], line 4\u001b[0m\n\u001b[1;32m      2\u001b[0m model \u001b[38;5;241m=\u001b[39m xgb\u001b[38;5;241m.\u001b[39mXGBClassifier(early_stopping\u001b[38;5;241m=\u001b[39m\u001b[38;5;28;01mTrue\u001b[39;00m)\n\u001b[1;32m      3\u001b[0m model\u001b[38;5;241m.\u001b[39mfit(data_matrix[train_pids, :], labels[train_pids])\n\u001b[0;32m----> 4\u001b[0m train_preds \u001b[38;5;241m=\u001b[39m \u001b[43mmodel\u001b[49m\u001b[38;5;241;43m.\u001b[39;49m\u001b[43mpredict_log_proba\u001b[49m(data_matrix[train_pids, :])[:, \u001b[38;5;241m1\u001b[39m]\n\u001b[1;32m      5\u001b[0m \u001b[38;5;28mprint\u001b[39m(sklearn\u001b[38;5;241m.\u001b[39mmetrics\u001b[38;5;241m.\u001b[39mroc_auc_score(labels[train_pids], train_preds))\n\u001b[1;32m      6\u001b[0m \u001b[38;5;28mprint\u001b[39m(sklearn\u001b[38;5;241m.\u001b[39mmetrics\u001b[38;5;241m.\u001b[39maverage_precision_score(labels[train_pids], train_preds))\n",
      "\u001b[0;31mAttributeError\u001b[0m: 'XGBClassifier' object has no attribute 'predict_log_proba'"
     ]
    }
   ],
   "source": [
    "# XGB\n",
    "model = xgb.XGBClassifier(early_stopping=True)\n",
    "model.fit(data_matrix[train_pids, :], labels[train_pids])\n",
    "# train_preds = model.predict_log_proba(data_matrix[train_pids, :])[:, 1]\n",
    "# print(sklearn.metrics.roc_auc_score(labels[train_pids], train_preds))\n",
    "# print(sklearn.metrics.average_precision_score(labels[train_pids], train_preds))\n",
    "\n",
    "# val_preds = model.predict_log_proba(data_matrix[val_pids, :])[:, 1]\n",
    "# print(sklearn.metrics.roc_auc_score(labels[val_pids], val_preds))\n",
    "# print(sklearn.metrics.average_precision_score(labels[val_pids], val_preds))"
   ]
  },
  {
   "cell_type": "code",
   "execution_count": 49,
   "id": "dd1022ba-8d2e-4e39-a06b-876d9d4a472f",
   "metadata": {},
   "outputs": [
    {
     "name": "stdout",
     "output_type": "stream",
     "text": [
      "0.7666604156363233\n",
      "0.48267486924518466\n",
      "0.5046467417195637\n",
      "0.1525801592757522\n"
     ]
    }
   ],
   "source": [
    "train_preds = model.predict_proba(data_matrix[train_pids, :])[::,1]\n",
    "print(sklearn.metrics.roc_auc_score(labels[train_pids], train_preds))\n",
    "print(sklearn.metrics.average_precision_score(labels[train_pids], train_preds))\n",
    "\n",
    "val_preds = model.predict_proba(data_matrix[val_pids, :])[::,1]\n",
    "print(sklearn.metrics.roc_auc_score(labels[val_pids], val_preds))\n",
    "print(sklearn.metrics.average_precision_score(labels[val_pids], val_preds))"
   ]
  },
  {
   "cell_type": "code",
   "execution_count": 52,
   "id": "38b3a7a4-8cda-4070-b415-9c1d143fb08f",
   "metadata": {},
   "outputs": [
    {
     "name": "stdout",
     "output_type": "stream",
     "text": [
      "0.6977781231881377\n",
      "0.4033554251983399\n",
      "0.5015582326464695\n",
      "0.1507149500051403\n"
     ]
    }
   ],
   "source": [
    "# LGBM\n",
    "model = lgbm.LGBMClassifier()\n",
    "model.fit(data_matrix[train_pids, :], labels[train_pids])\n",
    "train_preds = model.predict_proba(data_matrix[train_pids, :])[::,1]\n",
    "print(sklearn.metrics.roc_auc_score(labels[train_pids], train_preds))\n",
    "print(sklearn.metrics.average_precision_score(labels[train_pids], train_preds))\n",
    "\n",
    "val_preds = model.predict_proba(data_matrix[val_pids, :])[::,1]\n",
    "print(sklearn.metrics.roc_auc_score(labels[val_pids], val_preds))\n",
    "print(sklearn.metrics.average_precision_score(labels[val_pids], val_preds))"
   ]
  },
  {
   "cell_type": "markdown",
   "id": "444f88d2-772c-43b3-9c73-204fdc6fba61",
   "metadata": {},
   "source": [
    "#### Now, let us concatenate clmbr embeddigs with Diabetes text embeddings"
   ]
  },
  {
   "cell_type": "code",
   "execution_count": 55,
   "id": "b0854793-17a6-45b1-b526-b233569abe5e",
   "metadata": {},
   "outputs": [
    {
     "data": {
      "text/plain": [
       "{'data_path': '/local-scratch/nigam/projects/ethanid/som-rit-phi-starr-prod.starr_omop_cdm5_deid_2022_09_05_extract2',\n",
       " 'model': 'hbai1c_clmbr',\n",
       " 'data_matrix': array([[ 1.251  ,  0.829  , -0.3005 , ..., -0.2654 , -1.0625 , -1.57   ],\n",
       "        [ 0.2666 , -0.46   ,  0.4758 , ..., -1.274  , -0.35   , -1.506  ],\n",
       "        [ 0.2174 ,  0.916  ,  1.002  , ..., -0.7876 , -2.365  ,  2.283  ],\n",
       "        ...,\n",
       "        [-0.11145, -0.127  ,  0.3909 , ..., -0.1497 , -0.952  , -1.449  ],\n",
       "        [ 0.4834 ,  0.4414 ,  0.8467 , ..., -1.583  , -1.766  , -1.697  ],\n",
       "        [ 0.1954 , -0.4365 , -0.1444 , ..., -0.385  ,  0.3882 ,  0.08673]],\n",
       "       dtype=float16),\n",
       " 'patient_ids': array([1534234, 1462978, 2403462, ..., 1733051, 2002114, 1688664],\n",
       "       dtype=uint32),\n",
       " 'labeling_time': array([datetime.datetime(2017, 7, 2, 10, 56),\n",
       "        datetime.datetime(2018, 9, 28, 9, 48),\n",
       "        datetime.datetime(2020, 12, 12, 13, 40), ...,\n",
       "        datetime.datetime(2011, 8, 6, 9, 14),\n",
       "        datetime.datetime(2022, 4, 24, 10, 13),\n",
       "        datetime.datetime(2019, 4, 23, 6, 15)], dtype=object)}"
      ]
     },
     "execution_count": 55,
     "metadata": {},
     "output_type": "execute_result"
    }
   ],
   "source": [
    "features"
   ]
  },
  {
   "cell_type": "code",
   "execution_count": 61,
   "id": "6731c288-0add-4d23-a587-e32e8c495e9b",
   "metadata": {},
   "outputs": [
    {
     "data": {
      "text/plain": [
       "(418465, 768)"
      ]
     },
     "execution_count": 61,
     "metadata": {},
     "output_type": "execute_result"
    }
   ],
   "source": [
    "features[\"data_matrix\"].shape"
   ]
  },
  {
   "cell_type": "code",
   "execution_count": 65,
   "id": "9e6fb83f-053f-4ece-b5be-55d716bfa294",
   "metadata": {},
   "outputs": [],
   "source": [
    "clmbr_df = pd.DataFrame(features[\"data_matrix\"])\n",
    "clmbr_df[\"patient_ids\"] = features[\"patient_ids\"]\n",
    "clmbr_df[\"labeling_time\"] = features[\"labeling_time\"]"
   ]
  },
  {
   "cell_type": "code",
   "execution_count": 66,
   "id": "d63a9060-6b7b-47dc-93bb-3cf317c9b5a7",
   "metadata": {},
   "outputs": [],
   "source": [
    "text_df = pd.DataFrame(diabetes_text_features[\"data_matrix\"])\n",
    "text_df[\"patient_ids\"] = diabetes_text_features[\"patient_ids\"]\n",
    "text_df[\"labeling_time\"] = diabetes_text_features[\"labeling_time\"]"
   ]
  },
  {
   "cell_type": "code",
   "execution_count": 67,
   "id": "15d26db2-4fd2-4097-8e8a-684d08cce074",
   "metadata": {},
   "outputs": [
    {
     "data": {
      "text/html": [
       "<div>\n",
       "<style scoped>\n",
       "    .dataframe tbody tr th:only-of-type {\n",
       "        vertical-align: middle;\n",
       "    }\n",
       "\n",
       "    .dataframe tbody tr th {\n",
       "        vertical-align: top;\n",
       "    }\n",
       "\n",
       "    .dataframe thead th {\n",
       "        text-align: right;\n",
       "    }\n",
       "</style>\n",
       "<table border=\"1\" class=\"dataframe\">\n",
       "  <thead>\n",
       "    <tr style=\"text-align: right;\">\n",
       "      <th></th>\n",
       "      <th>0</th>\n",
       "      <th>1</th>\n",
       "      <th>2</th>\n",
       "      <th>3</th>\n",
       "      <th>4</th>\n",
       "      <th>5</th>\n",
       "      <th>6</th>\n",
       "      <th>7</th>\n",
       "      <th>8</th>\n",
       "      <th>9</th>\n",
       "      <th>...</th>\n",
       "      <th>760</th>\n",
       "      <th>761</th>\n",
       "      <th>762</th>\n",
       "      <th>763</th>\n",
       "      <th>764</th>\n",
       "      <th>765</th>\n",
       "      <th>766</th>\n",
       "      <th>767</th>\n",
       "      <th>patient_ids</th>\n",
       "      <th>labeling_time</th>\n",
       "    </tr>\n",
       "  </thead>\n",
       "  <tbody>\n",
       "    <tr>\n",
       "      <th>0</th>\n",
       "      <td>-0.098187</td>\n",
       "      <td>0.135420</td>\n",
       "      <td>-0.048281</td>\n",
       "      <td>-0.072275</td>\n",
       "      <td>0.344851</td>\n",
       "      <td>-0.450779</td>\n",
       "      <td>0.169216</td>\n",
       "      <td>0.055684</td>\n",
       "      <td>0.235977</td>\n",
       "      <td>-0.035512</td>\n",
       "      <td>...</td>\n",
       "      <td>-0.401641</td>\n",
       "      <td>0.140419</td>\n",
       "      <td>-0.095032</td>\n",
       "      <td>0.020823</td>\n",
       "      <td>0.538744</td>\n",
       "      <td>-0.041634</td>\n",
       "      <td>0.138535</td>\n",
       "      <td>0.230650</td>\n",
       "      <td>10</td>\n",
       "      <td>2019-10-10 07:49:00</td>\n",
       "    </tr>\n",
       "    <tr>\n",
       "      <th>1</th>\n",
       "      <td>-0.280949</td>\n",
       "      <td>0.108300</td>\n",
       "      <td>-0.246979</td>\n",
       "      <td>-0.127010</td>\n",
       "      <td>0.195445</td>\n",
       "      <td>-0.255899</td>\n",
       "      <td>0.232926</td>\n",
       "      <td>0.257219</td>\n",
       "      <td>0.054682</td>\n",
       "      <td>-0.073611</td>\n",
       "      <td>...</td>\n",
       "      <td>-0.067651</td>\n",
       "      <td>-0.122727</td>\n",
       "      <td>0.008352</td>\n",
       "      <td>-0.013334</td>\n",
       "      <td>0.267678</td>\n",
       "      <td>-0.033346</td>\n",
       "      <td>-0.122832</td>\n",
       "      <td>-0.034070</td>\n",
       "      <td>16</td>\n",
       "      <td>2021-07-03 10:23:00</td>\n",
       "    </tr>\n",
       "    <tr>\n",
       "      <th>2</th>\n",
       "      <td>0.301556</td>\n",
       "      <td>-0.007186</td>\n",
       "      <td>0.012263</td>\n",
       "      <td>0.416464</td>\n",
       "      <td>0.176590</td>\n",
       "      <td>-0.286634</td>\n",
       "      <td>-0.290396</td>\n",
       "      <td>0.181623</td>\n",
       "      <td>0.011599</td>\n",
       "      <td>-0.211953</td>\n",
       "      <td>...</td>\n",
       "      <td>-0.331350</td>\n",
       "      <td>0.111225</td>\n",
       "      <td>-0.105274</td>\n",
       "      <td>0.122463</td>\n",
       "      <td>0.183359</td>\n",
       "      <td>-0.390962</td>\n",
       "      <td>-0.162274</td>\n",
       "      <td>-0.094727</td>\n",
       "      <td>29</td>\n",
       "      <td>2017-10-13 11:11:00</td>\n",
       "    </tr>\n",
       "    <tr>\n",
       "      <th>3</th>\n",
       "      <td>-0.060291</td>\n",
       "      <td>-0.020745</td>\n",
       "      <td>-0.003562</td>\n",
       "      <td>0.019252</td>\n",
       "      <td>0.870252</td>\n",
       "      <td>-0.073079</td>\n",
       "      <td>-0.014515</td>\n",
       "      <td>0.095009</td>\n",
       "      <td>0.137114</td>\n",
       "      <td>0.138180</td>\n",
       "      <td>...</td>\n",
       "      <td>-0.268811</td>\n",
       "      <td>-0.065248</td>\n",
       "      <td>-0.098902</td>\n",
       "      <td>0.116166</td>\n",
       "      <td>0.442825</td>\n",
       "      <td>0.024319</td>\n",
       "      <td>-0.034883</td>\n",
       "      <td>0.169472</td>\n",
       "      <td>65</td>\n",
       "      <td>2017-04-18 11:35:00</td>\n",
       "    </tr>\n",
       "    <tr>\n",
       "      <th>4</th>\n",
       "      <td>-0.069657</td>\n",
       "      <td>0.024101</td>\n",
       "      <td>0.003369</td>\n",
       "      <td>0.235734</td>\n",
       "      <td>0.589897</td>\n",
       "      <td>-0.232555</td>\n",
       "      <td>-0.099616</td>\n",
       "      <td>0.091591</td>\n",
       "      <td>0.014798</td>\n",
       "      <td>0.028854</td>\n",
       "      <td>...</td>\n",
       "      <td>-0.053344</td>\n",
       "      <td>-0.051040</td>\n",
       "      <td>-0.207480</td>\n",
       "      <td>0.002614</td>\n",
       "      <td>0.199728</td>\n",
       "      <td>-0.063617</td>\n",
       "      <td>-0.177353</td>\n",
       "      <td>0.275775</td>\n",
       "      <td>134</td>\n",
       "      <td>2022-01-14 07:43:00</td>\n",
       "    </tr>\n",
       "  </tbody>\n",
       "</table>\n",
       "<p>5 rows × 770 columns</p>\n",
       "</div>"
      ],
      "text/plain": [
       "          0         1         2         3         4         5         6  \\\n",
       "0 -0.098187  0.135420 -0.048281 -0.072275  0.344851 -0.450779  0.169216   \n",
       "1 -0.280949  0.108300 -0.246979 -0.127010  0.195445 -0.255899  0.232926   \n",
       "2  0.301556 -0.007186  0.012263  0.416464  0.176590 -0.286634 -0.290396   \n",
       "3 -0.060291 -0.020745 -0.003562  0.019252  0.870252 -0.073079 -0.014515   \n",
       "4 -0.069657  0.024101  0.003369  0.235734  0.589897 -0.232555 -0.099616   \n",
       "\n",
       "          7         8         9  ...       760       761       762       763  \\\n",
       "0  0.055684  0.235977 -0.035512  ... -0.401641  0.140419 -0.095032  0.020823   \n",
       "1  0.257219  0.054682 -0.073611  ... -0.067651 -0.122727  0.008352 -0.013334   \n",
       "2  0.181623  0.011599 -0.211953  ... -0.331350  0.111225 -0.105274  0.122463   \n",
       "3  0.095009  0.137114  0.138180  ... -0.268811 -0.065248 -0.098902  0.116166   \n",
       "4  0.091591  0.014798  0.028854  ... -0.053344 -0.051040 -0.207480  0.002614   \n",
       "\n",
       "        764       765       766       767  patient_ids       labeling_time  \n",
       "0  0.538744 -0.041634  0.138535  0.230650           10 2019-10-10 07:49:00  \n",
       "1  0.267678 -0.033346 -0.122832 -0.034070           16 2021-07-03 10:23:00  \n",
       "2  0.183359 -0.390962 -0.162274 -0.094727           29 2017-10-13 11:11:00  \n",
       "3  0.442825  0.024319 -0.034883  0.169472           65 2017-04-18 11:35:00  \n",
       "4  0.199728 -0.063617 -0.177353  0.275775          134 2022-01-14 07:43:00  \n",
       "\n",
       "[5 rows x 770 columns]"
      ]
     },
     "execution_count": 67,
     "metadata": {},
     "output_type": "execute_result"
    }
   ],
   "source": [
    "text_df.head()"
   ]
  },
  {
   "cell_type": "code",
   "execution_count": 68,
   "id": "5a8b9ceb-86c1-4f5c-bff3-fe7cc81cb6e4",
   "metadata": {},
   "outputs": [
    {
     "data": {
      "text/html": [
       "<div>\n",
       "<style scoped>\n",
       "    .dataframe tbody tr th:only-of-type {\n",
       "        vertical-align: middle;\n",
       "    }\n",
       "\n",
       "    .dataframe tbody tr th {\n",
       "        vertical-align: top;\n",
       "    }\n",
       "\n",
       "    .dataframe thead th {\n",
       "        text-align: right;\n",
       "    }\n",
       "</style>\n",
       "<table border=\"1\" class=\"dataframe\">\n",
       "  <thead>\n",
       "    <tr style=\"text-align: right;\">\n",
       "      <th></th>\n",
       "      <th>0</th>\n",
       "      <th>1</th>\n",
       "      <th>2</th>\n",
       "      <th>3</th>\n",
       "      <th>4</th>\n",
       "      <th>5</th>\n",
       "      <th>6</th>\n",
       "      <th>7</th>\n",
       "      <th>8</th>\n",
       "      <th>9</th>\n",
       "      <th>...</th>\n",
       "      <th>760</th>\n",
       "      <th>761</th>\n",
       "      <th>762</th>\n",
       "      <th>763</th>\n",
       "      <th>764</th>\n",
       "      <th>765</th>\n",
       "      <th>766</th>\n",
       "      <th>767</th>\n",
       "      <th>patient_ids</th>\n",
       "      <th>labeling_time</th>\n",
       "    </tr>\n",
       "  </thead>\n",
       "  <tbody>\n",
       "    <tr>\n",
       "      <th>0</th>\n",
       "      <td>1.250977</td>\n",
       "      <td>0.829102</td>\n",
       "      <td>-0.300537</td>\n",
       "      <td>0.155640</td>\n",
       "      <td>0.175537</td>\n",
       "      <td>-0.839844</td>\n",
       "      <td>0.873047</td>\n",
       "      <td>1.913086</td>\n",
       "      <td>0.476318</td>\n",
       "      <td>-0.191772</td>\n",
       "      <td>...</td>\n",
       "      <td>-0.148682</td>\n",
       "      <td>0.003235</td>\n",
       "      <td>-0.778809</td>\n",
       "      <td>-0.149536</td>\n",
       "      <td>0.249634</td>\n",
       "      <td>-0.265381</td>\n",
       "      <td>-1.062500</td>\n",
       "      <td>-1.570312</td>\n",
       "      <td>1534234</td>\n",
       "      <td>2017-07-02 10:56:00</td>\n",
       "    </tr>\n",
       "    <tr>\n",
       "      <th>1</th>\n",
       "      <td>0.266602</td>\n",
       "      <td>-0.459961</td>\n",
       "      <td>0.475830</td>\n",
       "      <td>-0.126587</td>\n",
       "      <td>1.222656</td>\n",
       "      <td>-0.919922</td>\n",
       "      <td>0.890625</td>\n",
       "      <td>0.039673</td>\n",
       "      <td>0.045685</td>\n",
       "      <td>0.147949</td>\n",
       "      <td>...</td>\n",
       "      <td>-0.179932</td>\n",
       "      <td>0.692871</td>\n",
       "      <td>0.360840</td>\n",
       "      <td>1.055664</td>\n",
       "      <td>0.292480</td>\n",
       "      <td>-1.274414</td>\n",
       "      <td>-0.350098</td>\n",
       "      <td>-1.505859</td>\n",
       "      <td>1462978</td>\n",
       "      <td>2018-09-28 09:48:00</td>\n",
       "    </tr>\n",
       "    <tr>\n",
       "      <th>2</th>\n",
       "      <td>0.217407</td>\n",
       "      <td>0.916016</td>\n",
       "      <td>1.001953</td>\n",
       "      <td>1.145508</td>\n",
       "      <td>0.429199</td>\n",
       "      <td>0.555664</td>\n",
       "      <td>0.055664</td>\n",
       "      <td>1.373047</td>\n",
       "      <td>-1.906250</td>\n",
       "      <td>-0.986328</td>\n",
       "      <td>...</td>\n",
       "      <td>-1.753906</td>\n",
       "      <td>-0.973145</td>\n",
       "      <td>-0.432617</td>\n",
       "      <td>-0.021729</td>\n",
       "      <td>-1.649414</td>\n",
       "      <td>-0.787598</td>\n",
       "      <td>-2.365234</td>\n",
       "      <td>2.283203</td>\n",
       "      <td>2403462</td>\n",
       "      <td>2020-12-12 13:40:00</td>\n",
       "    </tr>\n",
       "    <tr>\n",
       "      <th>3</th>\n",
       "      <td>0.140015</td>\n",
       "      <td>-0.418701</td>\n",
       "      <td>0.151245</td>\n",
       "      <td>0.817871</td>\n",
       "      <td>1.521484</td>\n",
       "      <td>-1.934570</td>\n",
       "      <td>1.008789</td>\n",
       "      <td>0.068359</td>\n",
       "      <td>-0.662109</td>\n",
       "      <td>-1.147461</td>\n",
       "      <td>...</td>\n",
       "      <td>-0.135742</td>\n",
       "      <td>0.421143</td>\n",
       "      <td>-0.308105</td>\n",
       "      <td>0.035583</td>\n",
       "      <td>-1.610352</td>\n",
       "      <td>0.424805</td>\n",
       "      <td>0.800293</td>\n",
       "      <td>-1.634766</td>\n",
       "      <td>1863650</td>\n",
       "      <td>2021-07-20 14:57:00</td>\n",
       "    </tr>\n",
       "    <tr>\n",
       "      <th>4</th>\n",
       "      <td>0.399902</td>\n",
       "      <td>0.732910</td>\n",
       "      <td>-0.119263</td>\n",
       "      <td>0.442871</td>\n",
       "      <td>0.771484</td>\n",
       "      <td>-1.844727</td>\n",
       "      <td>0.902344</td>\n",
       "      <td>1.985352</td>\n",
       "      <td>0.320801</td>\n",
       "      <td>-0.223267</td>\n",
       "      <td>...</td>\n",
       "      <td>-1.110352</td>\n",
       "      <td>-1.389648</td>\n",
       "      <td>0.857422</td>\n",
       "      <td>-0.589355</td>\n",
       "      <td>-2.078125</td>\n",
       "      <td>-1.000977</td>\n",
       "      <td>-0.614746</td>\n",
       "      <td>-0.558105</td>\n",
       "      <td>2426984</td>\n",
       "      <td>2021-06-18 10:20:00</td>\n",
       "    </tr>\n",
       "  </tbody>\n",
       "</table>\n",
       "<p>5 rows × 770 columns</p>\n",
       "</div>"
      ],
      "text/plain": [
       "          0         1         2         3         4         5         6  \\\n",
       "0  1.250977  0.829102 -0.300537  0.155640  0.175537 -0.839844  0.873047   \n",
       "1  0.266602 -0.459961  0.475830 -0.126587  1.222656 -0.919922  0.890625   \n",
       "2  0.217407  0.916016  1.001953  1.145508  0.429199  0.555664  0.055664   \n",
       "3  0.140015 -0.418701  0.151245  0.817871  1.521484 -1.934570  1.008789   \n",
       "4  0.399902  0.732910 -0.119263  0.442871  0.771484 -1.844727  0.902344   \n",
       "\n",
       "          7         8         9  ...       760       761       762       763  \\\n",
       "0  1.913086  0.476318 -0.191772  ... -0.148682  0.003235 -0.778809 -0.149536   \n",
       "1  0.039673  0.045685  0.147949  ... -0.179932  0.692871  0.360840  1.055664   \n",
       "2  1.373047 -1.906250 -0.986328  ... -1.753906 -0.973145 -0.432617 -0.021729   \n",
       "3  0.068359 -0.662109 -1.147461  ... -0.135742  0.421143 -0.308105  0.035583   \n",
       "4  1.985352  0.320801 -0.223267  ... -1.110352 -1.389648  0.857422 -0.589355   \n",
       "\n",
       "        764       765       766       767  patient_ids       labeling_time  \n",
       "0  0.249634 -0.265381 -1.062500 -1.570312      1534234 2017-07-02 10:56:00  \n",
       "1  0.292480 -1.274414 -0.350098 -1.505859      1462978 2018-09-28 09:48:00  \n",
       "2 -1.649414 -0.787598 -2.365234  2.283203      2403462 2020-12-12 13:40:00  \n",
       "3 -1.610352  0.424805  0.800293 -1.634766      1863650 2021-07-20 14:57:00  \n",
       "4 -2.078125 -1.000977 -0.614746 -0.558105      2426984 2021-06-18 10:20:00  \n",
       "\n",
       "[5 rows x 770 columns]"
      ]
     },
     "execution_count": 68,
     "metadata": {},
     "output_type": "execute_result"
    }
   ],
   "source": [
    "clmbr_df.head()"
   ]
  },
  {
   "cell_type": "code",
   "execution_count": 72,
   "id": "df6e2189-b324-42e0-8e13-4380d46ced55",
   "metadata": {},
   "outputs": [
    {
     "data": {
      "text/plain": [
       "((418465, 770), (418465, 770))"
      ]
     },
     "execution_count": 72,
     "metadata": {},
     "output_type": "execute_result"
    }
   ],
   "source": [
    "clmbr_df.shape, text_df.shape"
   ]
  },
  {
   "cell_type": "code",
   "execution_count": 69,
   "id": "8b4aee89-4a3e-42ab-a279-28f5ffc6aa6a",
   "metadata": {},
   "outputs": [],
   "source": [
    "combined_df = pd.merge(clmbr_df, text_df, on=['patient_ids','labeling_time'])"
   ]
  },
  {
   "cell_type": "code",
   "execution_count": 70,
   "id": "04042fe4-b351-4ade-9e1e-3765ca03f89a",
   "metadata": {},
   "outputs": [
    {
     "data": {
      "text/plain": [
       "(418465, 1538)"
      ]
     },
     "execution_count": 70,
     "metadata": {},
     "output_type": "execute_result"
    }
   ],
   "source": [
    "combined_df.shape"
   ]
  },
  {
   "cell_type": "code",
   "execution_count": 71,
   "id": "e5c33777-b15a-45f0-a7d5-24db67059b53",
   "metadata": {},
   "outputs": [
    {
     "data": {
      "text/html": [
       "<div>\n",
       "<style scoped>\n",
       "    .dataframe tbody tr th:only-of-type {\n",
       "        vertical-align: middle;\n",
       "    }\n",
       "\n",
       "    .dataframe tbody tr th {\n",
       "        vertical-align: top;\n",
       "    }\n",
       "\n",
       "    .dataframe thead th {\n",
       "        text-align: right;\n",
       "    }\n",
       "</style>\n",
       "<table border=\"1\" class=\"dataframe\">\n",
       "  <thead>\n",
       "    <tr style=\"text-align: right;\">\n",
       "      <th></th>\n",
       "      <th>0_x</th>\n",
       "      <th>1_x</th>\n",
       "      <th>2_x</th>\n",
       "      <th>3_x</th>\n",
       "      <th>4_x</th>\n",
       "      <th>5_x</th>\n",
       "      <th>6_x</th>\n",
       "      <th>7_x</th>\n",
       "      <th>8_x</th>\n",
       "      <th>9_x</th>\n",
       "      <th>...</th>\n",
       "      <th>758_y</th>\n",
       "      <th>759_y</th>\n",
       "      <th>760_y</th>\n",
       "      <th>761_y</th>\n",
       "      <th>762_y</th>\n",
       "      <th>763_y</th>\n",
       "      <th>764_y</th>\n",
       "      <th>765_y</th>\n",
       "      <th>766_y</th>\n",
       "      <th>767_y</th>\n",
       "    </tr>\n",
       "  </thead>\n",
       "  <tbody>\n",
       "    <tr>\n",
       "      <th>0</th>\n",
       "      <td>1.250977</td>\n",
       "      <td>0.829102</td>\n",
       "      <td>-0.300537</td>\n",
       "      <td>0.155640</td>\n",
       "      <td>0.175537</td>\n",
       "      <td>-0.839844</td>\n",
       "      <td>0.873047</td>\n",
       "      <td>1.913086</td>\n",
       "      <td>0.476318</td>\n",
       "      <td>-0.191772</td>\n",
       "      <td>...</td>\n",
       "      <td>0.088929</td>\n",
       "      <td>0.050944</td>\n",
       "      <td>-0.287264</td>\n",
       "      <td>0.052080</td>\n",
       "      <td>-0.100184</td>\n",
       "      <td>0.064651</td>\n",
       "      <td>0.358182</td>\n",
       "      <td>-0.323161</td>\n",
       "      <td>-0.048184</td>\n",
       "      <td>0.051253</td>\n",
       "    </tr>\n",
       "    <tr>\n",
       "      <th>1</th>\n",
       "      <td>0.266602</td>\n",
       "      <td>-0.459961</td>\n",
       "      <td>0.475830</td>\n",
       "      <td>-0.126587</td>\n",
       "      <td>1.222656</td>\n",
       "      <td>-0.919922</td>\n",
       "      <td>0.890625</td>\n",
       "      <td>0.039673</td>\n",
       "      <td>0.045685</td>\n",
       "      <td>0.147949</td>\n",
       "      <td>...</td>\n",
       "      <td>-0.016201</td>\n",
       "      <td>-0.006076</td>\n",
       "      <td>-0.154375</td>\n",
       "      <td>0.078132</td>\n",
       "      <td>-0.016915</td>\n",
       "      <td>0.023570</td>\n",
       "      <td>0.193341</td>\n",
       "      <td>-0.267965</td>\n",
       "      <td>-0.103342</td>\n",
       "      <td>0.187395</td>\n",
       "    </tr>\n",
       "    <tr>\n",
       "      <th>2</th>\n",
       "      <td>0.217407</td>\n",
       "      <td>0.916016</td>\n",
       "      <td>1.001953</td>\n",
       "      <td>1.145508</td>\n",
       "      <td>0.429199</td>\n",
       "      <td>0.555664</td>\n",
       "      <td>0.055664</td>\n",
       "      <td>1.373047</td>\n",
       "      <td>-1.906250</td>\n",
       "      <td>-0.986328</td>\n",
       "      <td>...</td>\n",
       "      <td>0.071850</td>\n",
       "      <td>-0.086112</td>\n",
       "      <td>-0.089172</td>\n",
       "      <td>0.054974</td>\n",
       "      <td>-0.129177</td>\n",
       "      <td>0.083780</td>\n",
       "      <td>0.159389</td>\n",
       "      <td>-0.333712</td>\n",
       "      <td>-0.045663</td>\n",
       "      <td>0.138630</td>\n",
       "    </tr>\n",
       "    <tr>\n",
       "      <th>3</th>\n",
       "      <td>0.140015</td>\n",
       "      <td>-0.418701</td>\n",
       "      <td>0.151245</td>\n",
       "      <td>0.817871</td>\n",
       "      <td>1.521484</td>\n",
       "      <td>-1.934570</td>\n",
       "      <td>1.008789</td>\n",
       "      <td>0.068359</td>\n",
       "      <td>-0.662109</td>\n",
       "      <td>-1.147461</td>\n",
       "      <td>...</td>\n",
       "      <td>0.083221</td>\n",
       "      <td>0.145158</td>\n",
       "      <td>-0.287627</td>\n",
       "      <td>-0.023387</td>\n",
       "      <td>0.030881</td>\n",
       "      <td>0.092805</td>\n",
       "      <td>0.461680</td>\n",
       "      <td>-0.265873</td>\n",
       "      <td>-0.185706</td>\n",
       "      <td>0.093875</td>\n",
       "    </tr>\n",
       "    <tr>\n",
       "      <th>4</th>\n",
       "      <td>0.399902</td>\n",
       "      <td>0.732910</td>\n",
       "      <td>-0.119263</td>\n",
       "      <td>0.442871</td>\n",
       "      <td>0.771484</td>\n",
       "      <td>-1.844727</td>\n",
       "      <td>0.902344</td>\n",
       "      <td>1.985352</td>\n",
       "      <td>0.320801</td>\n",
       "      <td>-0.223267</td>\n",
       "      <td>...</td>\n",
       "      <td>0.022662</td>\n",
       "      <td>-0.069294</td>\n",
       "      <td>-0.305145</td>\n",
       "      <td>-0.215065</td>\n",
       "      <td>-0.201919</td>\n",
       "      <td>0.239134</td>\n",
       "      <td>-0.226174</td>\n",
       "      <td>-0.307096</td>\n",
       "      <td>-0.183732</td>\n",
       "      <td>0.268839</td>\n",
       "    </tr>\n",
       "  </tbody>\n",
       "</table>\n",
       "<p>5 rows × 1538 columns</p>\n",
       "</div>"
      ],
      "text/plain": [
       "        0_x       1_x       2_x       3_x       4_x       5_x       6_x  \\\n",
       "0  1.250977  0.829102 -0.300537  0.155640  0.175537 -0.839844  0.873047   \n",
       "1  0.266602 -0.459961  0.475830 -0.126587  1.222656 -0.919922  0.890625   \n",
       "2  0.217407  0.916016  1.001953  1.145508  0.429199  0.555664  0.055664   \n",
       "3  0.140015 -0.418701  0.151245  0.817871  1.521484 -1.934570  1.008789   \n",
       "4  0.399902  0.732910 -0.119263  0.442871  0.771484 -1.844727  0.902344   \n",
       "\n",
       "        7_x       8_x       9_x  ...     758_y     759_y     760_y     761_y  \\\n",
       "0  1.913086  0.476318 -0.191772  ...  0.088929  0.050944 -0.287264  0.052080   \n",
       "1  0.039673  0.045685  0.147949  ... -0.016201 -0.006076 -0.154375  0.078132   \n",
       "2  1.373047 -1.906250 -0.986328  ...  0.071850 -0.086112 -0.089172  0.054974   \n",
       "3  0.068359 -0.662109 -1.147461  ...  0.083221  0.145158 -0.287627 -0.023387   \n",
       "4  1.985352  0.320801 -0.223267  ...  0.022662 -0.069294 -0.305145 -0.215065   \n",
       "\n",
       "      762_y     763_y     764_y     765_y     766_y     767_y  \n",
       "0 -0.100184  0.064651  0.358182 -0.323161 -0.048184  0.051253  \n",
       "1 -0.016915  0.023570  0.193341 -0.267965 -0.103342  0.187395  \n",
       "2 -0.129177  0.083780  0.159389 -0.333712 -0.045663  0.138630  \n",
       "3  0.030881  0.092805  0.461680 -0.265873 -0.185706  0.093875  \n",
       "4 -0.201919  0.239134 -0.226174 -0.307096 -0.183732  0.268839  \n",
       "\n",
       "[5 rows x 1538 columns]"
      ]
     },
     "execution_count": 71,
     "metadata": {},
     "output_type": "execute_result"
    }
   ],
   "source": [
    "combined_df.head()"
   ]
  },
  {
   "cell_type": "code",
   "execution_count": 91,
   "id": "d056e0d5-59ea-4632-857b-57fffd4d93d0",
   "metadata": {},
   "outputs": [],
   "source": [
    "combined_data_matirx = combined_df.drop(columns=['patient_ids','labeling_time']).to_numpy()\n",
    "patient_ids = combined_df[\"patient_ids\"].to_numpy()\n",
    "labeling_time = pd.to_datetime(combined_df[\"labeling_time\"]).to_numpy()"
   ]
  },
  {
   "cell_type": "code",
   "execution_count": 92,
   "id": "aed787b4-7635-4972-b9e5-fd03d4e1d97c",
   "metadata": {},
   "outputs": [
    {
     "data": {
      "text/plain": [
       "array(['2017-07-02T10:56:00.000000000', '2018-09-28T09:48:00.000000000',\n",
       "       '2020-12-12T13:40:00.000000000', ...,\n",
       "       '2011-08-06T09:14:00.000000000', '2022-04-24T10:13:00.000000000',\n",
       "       '2019-04-23T06:15:00.000000000'], dtype='datetime64[ns]')"
      ]
     },
     "execution_count": 92,
     "metadata": {},
     "output_type": "execute_result"
    }
   ],
   "source": [
    "labeling_time"
   ]
  },
  {
   "cell_type": "code",
   "execution_count": 79,
   "id": "50906d81-795c-4290-9d46-f36e93d1dc92",
   "metadata": {},
   "outputs": [],
   "source": [
    "combined_features = {\n",
    "    \"data_matrix\": combined_data_matirx, \n",
    "    \"patient_ids\": patient_ids, \n",
    "    \"labeling_time\": labeling_time\n",
    "}"
   ]
  },
  {
   "cell_type": "code",
   "execution_count": 93,
   "id": "8acc0dea-7ee5-4d56-807a-ce01f1c50fc1",
   "metadata": {},
   "outputs": [],
   "source": [
    "with open(labels_path, \"rb\") as f:\n",
    "    labeled_patients = pickle.load(f)\n",
    "    \n",
    "data_matrix, patient_ids, labeling_time = [\n",
    "    combined_features[k] for k in (\"data_matrix\", \"patient_ids\", \"labeling_time\")\n",
    "]\n",
    "labels = []\n",
    "\n",
    "for pid, time in zip(patient_ids, labeling_time):\n",
    "    raw_labels = [\n",
    "        label.value for label in labeled_patients[pid]\n",
    "    ]\n",
    "    assert len(raw_labels) == 1\n",
    "    labels.append(raw_labels[0])\n",
    "\n",
    "labels = np.array(labels)"
   ]
  },
  {
   "cell_type": "code",
   "execution_count": 94,
   "id": "43e8289b-975c-468b-a772-9a829118b202",
   "metadata": {},
   "outputs": [
    {
     "data": {
      "text/plain": [
       "418465"
      ]
     },
     "execution_count": 94,
     "metadata": {},
     "output_type": "execute_result"
    }
   ],
   "source": [
    "len(labels)"
   ]
  },
  {
   "cell_type": "code",
   "execution_count": 95,
   "id": "2b13778c-3c33-4a72-8ec8-eb85e34c04ea",
   "metadata": {},
   "outputs": [],
   "source": [
    "hashes = np.array([data.compute_split(97, pid) for pid in patient_ids])\n",
    "train_pids = hashes < 70\n",
    "val_pids = (hashes >= 70) & (hashes < 85)"
   ]
  },
  {
   "cell_type": "code",
   "execution_count": 96,
   "id": "a0b8bc89-99c7-46be-aceb-be1dfd1f5672",
   "metadata": {},
   "outputs": [
    {
     "name": "stderr",
     "output_type": "stream",
     "text": [
      "/share/pi/nigam/rthapa84/miniconda3/envs/env_piton_1/lib/python3.10/site-packages/sklearn/linear_model/_logistic.py:444: ConvergenceWarning: lbfgs failed to converge (status=1):\n",
      "STOP: TOTAL NO. of ITERATIONS REACHED LIMIT.\n",
      "\n",
      "Increase the number of iterations (max_iter) or scale the data as shown in:\n",
      "    https://scikit-learn.org/stable/modules/preprocessing.html\n",
      "Please also refer to the documentation for alternative solver options:\n",
      "    https://scikit-learn.org/stable/modules/linear_model.html#logistic-regression\n",
      "  n_iter_i = _check_optimize_result(\n",
      "/share/pi/nigam/rthapa84/miniconda3/envs/env_piton_1/lib/python3.10/site-packages/sklearn/linear_model/_logistic.py:444: ConvergenceWarning: lbfgs failed to converge (status=1):\n",
      "STOP: TOTAL NO. of ITERATIONS REACHED LIMIT.\n",
      "\n",
      "Increase the number of iterations (max_iter) or scale the data as shown in:\n",
      "    https://scikit-learn.org/stable/modules/preprocessing.html\n",
      "Please also refer to the documentation for alternative solver options:\n",
      "    https://scikit-learn.org/stable/modules/linear_model.html#logistic-regression\n",
      "  n_iter_i = _check_optimize_result(\n",
      "/share/pi/nigam/rthapa84/miniconda3/envs/env_piton_1/lib/python3.10/site-packages/sklearn/linear_model/_logistic.py:444: ConvergenceWarning: lbfgs failed to converge (status=1):\n",
      "STOP: TOTAL NO. of ITERATIONS REACHED LIMIT.\n",
      "\n",
      "Increase the number of iterations (max_iter) or scale the data as shown in:\n",
      "    https://scikit-learn.org/stable/modules/preprocessing.html\n",
      "Please also refer to the documentation for alternative solver options:\n",
      "    https://scikit-learn.org/stable/modules/linear_model.html#logistic-regression\n",
      "  n_iter_i = _check_optimize_result(\n",
      "/share/pi/nigam/rthapa84/miniconda3/envs/env_piton_1/lib/python3.10/site-packages/sklearn/linear_model/_logistic.py:444: ConvergenceWarning: lbfgs failed to converge (status=1):\n",
      "STOP: TOTAL NO. of ITERATIONS REACHED LIMIT.\n",
      "\n",
      "Increase the number of iterations (max_iter) or scale the data as shown in:\n",
      "    https://scikit-learn.org/stable/modules/preprocessing.html\n",
      "Please also refer to the documentation for alternative solver options:\n",
      "    https://scikit-learn.org/stable/modules/linear_model.html#logistic-regression\n",
      "  n_iter_i = _check_optimize_result(\n",
      "/share/pi/nigam/rthapa84/miniconda3/envs/env_piton_1/lib/python3.10/site-packages/sklearn/linear_model/_logistic.py:444: ConvergenceWarning: lbfgs failed to converge (status=1):\n",
      "STOP: TOTAL NO. of ITERATIONS REACHED LIMIT.\n",
      "\n",
      "Increase the number of iterations (max_iter) or scale the data as shown in:\n",
      "    https://scikit-learn.org/stable/modules/preprocessing.html\n",
      "Please also refer to the documentation for alternative solver options:\n",
      "    https://scikit-learn.org/stable/modules/linear_model.html#logistic-regression\n",
      "  n_iter_i = _check_optimize_result(\n",
      "/share/pi/nigam/rthapa84/miniconda3/envs/env_piton_1/lib/python3.10/site-packages/sklearn/linear_model/_logistic.py:444: ConvergenceWarning: lbfgs failed to converge (status=1):\n",
      "STOP: TOTAL NO. of ITERATIONS REACHED LIMIT.\n",
      "\n",
      "Increase the number of iterations (max_iter) or scale the data as shown in:\n",
      "    https://scikit-learn.org/stable/modules/preprocessing.html\n",
      "Please also refer to the documentation for alternative solver options:\n",
      "    https://scikit-learn.org/stable/modules/linear_model.html#logistic-regression\n",
      "  n_iter_i = _check_optimize_result(\n"
     ]
    },
    {
     "data": {
      "text/html": [
       "<style>#sk-container-id-2 {color: black;background-color: white;}#sk-container-id-2 pre{padding: 0;}#sk-container-id-2 div.sk-toggleable {background-color: white;}#sk-container-id-2 label.sk-toggleable__label {cursor: pointer;display: block;width: 100%;margin-bottom: 0;padding: 0.3em;box-sizing: border-box;text-align: center;}#sk-container-id-2 label.sk-toggleable__label-arrow:before {content: \"▸\";float: left;margin-right: 0.25em;color: #696969;}#sk-container-id-2 label.sk-toggleable__label-arrow:hover:before {color: black;}#sk-container-id-2 div.sk-estimator:hover label.sk-toggleable__label-arrow:before {color: black;}#sk-container-id-2 div.sk-toggleable__content {max-height: 0;max-width: 0;overflow: hidden;text-align: left;background-color: #f0f8ff;}#sk-container-id-2 div.sk-toggleable__content pre {margin: 0.2em;color: black;border-radius: 0.25em;background-color: #f0f8ff;}#sk-container-id-2 input.sk-toggleable__control:checked~div.sk-toggleable__content {max-height: 200px;max-width: 100%;overflow: auto;}#sk-container-id-2 input.sk-toggleable__control:checked~label.sk-toggleable__label-arrow:before {content: \"▾\";}#sk-container-id-2 div.sk-estimator input.sk-toggleable__control:checked~label.sk-toggleable__label {background-color: #d4ebff;}#sk-container-id-2 div.sk-label input.sk-toggleable__control:checked~label.sk-toggleable__label {background-color: #d4ebff;}#sk-container-id-2 input.sk-hidden--visually {border: 0;clip: rect(1px 1px 1px 1px);clip: rect(1px, 1px, 1px, 1px);height: 1px;margin: -1px;overflow: hidden;padding: 0;position: absolute;width: 1px;}#sk-container-id-2 div.sk-estimator {font-family: monospace;background-color: #f0f8ff;border: 1px dotted black;border-radius: 0.25em;box-sizing: border-box;margin-bottom: 0.5em;}#sk-container-id-2 div.sk-estimator:hover {background-color: #d4ebff;}#sk-container-id-2 div.sk-parallel-item::after {content: \"\";width: 100%;border-bottom: 1px solid gray;flex-grow: 1;}#sk-container-id-2 div.sk-label:hover label.sk-toggleable__label {background-color: #d4ebff;}#sk-container-id-2 div.sk-serial::before {content: \"\";position: absolute;border-left: 1px solid gray;box-sizing: border-box;top: 0;bottom: 0;left: 50%;z-index: 0;}#sk-container-id-2 div.sk-serial {display: flex;flex-direction: column;align-items: center;background-color: white;padding-right: 0.2em;padding-left: 0.2em;position: relative;}#sk-container-id-2 div.sk-item {position: relative;z-index: 1;}#sk-container-id-2 div.sk-parallel {display: flex;align-items: stretch;justify-content: center;background-color: white;position: relative;}#sk-container-id-2 div.sk-item::before, #sk-container-id-2 div.sk-parallel-item::before {content: \"\";position: absolute;border-left: 1px solid gray;box-sizing: border-box;top: 0;bottom: 0;left: 50%;z-index: -1;}#sk-container-id-2 div.sk-parallel-item {display: flex;flex-direction: column;z-index: 1;position: relative;background-color: white;}#sk-container-id-2 div.sk-parallel-item:first-child::after {align-self: flex-end;width: 50%;}#sk-container-id-2 div.sk-parallel-item:last-child::after {align-self: flex-start;width: 50%;}#sk-container-id-2 div.sk-parallel-item:only-child::after {width: 0;}#sk-container-id-2 div.sk-dashed-wrapped {border: 1px dashed gray;margin: 0 0.4em 0.5em 0.4em;box-sizing: border-box;padding-bottom: 0.4em;background-color: white;}#sk-container-id-2 div.sk-label label {font-family: monospace;font-weight: bold;display: inline-block;line-height: 1.2em;}#sk-container-id-2 div.sk-label-container {text-align: center;}#sk-container-id-2 div.sk-container {/* jupyter's `normalize.less` sets `[hidden] { display: none; }` but bootstrap.min.css set `[hidden] { display: none !important; }` so we also need the `!important` here to be able to override the default hidden behavior on the sphinx rendered scikit-learn.org. See: https://github.com/scikit-learn/scikit-learn/issues/21755 */display: inline-block !important;position: relative;}#sk-container-id-2 div.sk-text-repr-fallback {display: none;}</style><div id=\"sk-container-id-2\" class=\"sk-top-container\"><div class=\"sk-text-repr-fallback\"><pre>LogisticRegressionCV()</pre><b>In a Jupyter environment, please rerun this cell to show the HTML representation or trust the notebook. <br />On GitHub, the HTML representation is unable to render, please try loading this page with nbviewer.org.</b></div><div class=\"sk-container\" hidden><div class=\"sk-item\"><div class=\"sk-estimator sk-toggleable\"><input class=\"sk-toggleable__control sk-hidden--visually\" id=\"sk-estimator-id-2\" type=\"checkbox\" checked><label for=\"sk-estimator-id-2\" class=\"sk-toggleable__label sk-toggleable__label-arrow\">LogisticRegressionCV</label><div class=\"sk-toggleable__content\"><pre>LogisticRegressionCV()</pre></div></div></div></div></div>"
      ],
      "text/plain": [
       "LogisticRegressionCV()"
      ]
     },
     "execution_count": 96,
     "metadata": {},
     "output_type": "execute_result"
    }
   ],
   "source": [
    "# Logistic Regression\n",
    "model = sklearn.linear_model.LogisticRegressionCV()\n",
    "model.fit(data_matrix[train_pids, :], labels[train_pids])"
   ]
  },
  {
   "cell_type": "code",
   "execution_count": 97,
   "id": "0bf92e76-0d37-40ef-a17b-e8d26ac8a76f",
   "metadata": {},
   "outputs": [
    {
     "name": "stdout",
     "output_type": "stream",
     "text": [
      "0.9362383067354654\n",
      "0.7529105576620478\n",
      "0.9265394108918775\n",
      "0.7272681479319956\n"
     ]
    }
   ],
   "source": [
    "train_preds = model.predict_log_proba(data_matrix[train_pids, :])[:, 1]\n",
    "print(sklearn.metrics.roc_auc_score(labels[train_pids], train_preds))\n",
    "print(sklearn.metrics.average_precision_score(labels[train_pids], train_preds))\n",
    "\n",
    "val_preds = model.predict_log_proba(data_matrix[val_pids, :])[:, 1]\n",
    "print(sklearn.metrics.roc_auc_score(labels[val_pids], val_preds))\n",
    "print(sklearn.metrics.average_precision_score(labels[val_pids], val_preds))"
   ]
  },
  {
   "cell_type": "code",
   "execution_count": 98,
   "id": "7ff00512-8305-47dc-8baa-a91e7444cf59",
   "metadata": {},
   "outputs": [
    {
     "name": "stdout",
     "output_type": "stream",
     "text": [
      "[19:23:47] WARNING: ../src/learner.cc:767: \n",
      "Parameters: { \"early_stopping\" } are not used.\n",
      "\n",
      "0.9696063285396885\n",
      "0.8672684992517792\n",
      "0.9225599300260252\n",
      "0.7115358477865467\n"
     ]
    }
   ],
   "source": [
    "# XGB\n",
    "model = xgb.XGBClassifier(early_stopping=True)\n",
    "model.fit(data_matrix[train_pids, :], labels[train_pids])\n",
    "\n",
    "train_preds = model.predict_proba(data_matrix[train_pids, :])[::,1]\n",
    "print(sklearn.metrics.roc_auc_score(labels[train_pids], train_preds))\n",
    "print(sklearn.metrics.average_precision_score(labels[train_pids], train_preds))\n",
    "\n",
    "val_preds = model.predict_proba(data_matrix[val_pids, :])[::,1]\n",
    "print(sklearn.metrics.roc_auc_score(labels[val_pids], val_preds))\n",
    "print(sklearn.metrics.average_precision_score(labels[val_pids], val_preds))"
   ]
  },
  {
   "cell_type": "code",
   "execution_count": 99,
   "id": "b070d1f8-b7f9-459b-a69e-b264c999eb8a",
   "metadata": {},
   "outputs": [
    {
     "name": "stdout",
     "output_type": "stream",
     "text": [
      "0.9468478412352219\n",
      "0.7751813294412079\n",
      "0.9246340531673541\n",
      "0.7224326926429762\n"
     ]
    }
   ],
   "source": [
    "# LGBM\n",
    "model = lgbm.LGBMClassifier()\n",
    "model.fit(data_matrix[train_pids, :], labels[train_pids])\n",
    "train_preds = model.predict_proba(data_matrix[train_pids, :])[::,1]\n",
    "print(sklearn.metrics.roc_auc_score(labels[train_pids], train_preds))\n",
    "print(sklearn.metrics.average_precision_score(labels[train_pids], train_preds))\n",
    "\n",
    "val_preds = model.predict_proba(data_matrix[val_pids, :])[::,1]\n",
    "print(sklearn.metrics.roc_auc_score(labels[val_pids], val_preds))\n",
    "print(sklearn.metrics.average_precision_score(labels[val_pids], val_preds))"
   ]
  },
  {
   "cell_type": "markdown",
   "id": "cf30abb9-78f3-4f64-8415-e58aac503898",
   "metadata": {},
   "source": [
    "#### Performance with only Mortality Text Embeddings"
   ]
  },
  {
   "cell_type": "code",
   "execution_count": 121,
   "id": "2067c650-579c-48a2-8eef-92e405ea3576",
   "metadata": {},
   "outputs": [
    {
     "data": {
      "text/plain": [
       "['9_embeddings.pickle',\n",
       " '2_embeddings.pickle',\n",
       " '5_embeddings.pickle',\n",
       " '3_embeddings.pickle',\n",
       " '6_embeddings.pickle',\n",
       " '4_embeddings.pickle',\n",
       " '8_embeddings.pickle',\n",
       " '7_embeddings.pickle',\n",
       " '1_embeddings.pickle',\n",
       " '0_embeddings.pickle']"
      ]
     },
     "execution_count": 121,
     "metadata": {},
     "output_type": "execute_result"
    }
   ],
   "source": [
    "path_to_mortality_shards = \"/share/pi/nigam/rthapa84/data/mortality_shards\"\n",
    "path_to_mortality_metadata = \"/share/pi/nigam/rthapa84/data/v1_mortality_meta_data.pickle\"\n",
    "labels_path = \"/share/pi/nigam/rthapa84/data/mortality_labeled_patients_v1.pickle\"\n",
    "\n",
    "os.listdir(path_to_diabetes_shards)"
   ]
  },
  {
   "cell_type": "code",
   "execution_count": 122,
   "id": "a8dd62b0-2d2e-4ada-b6d3-a8f1521cc8ef",
   "metadata": {},
   "outputs": [
    {
     "name": "stdout",
     "output_type": "stream",
     "text": [
      "(23764, 768)\n",
      "(23766, 768)\n",
      "(23764, 768)\n",
      "(23766, 768)\n",
      "(23764, 768)\n",
      "(23766, 768)\n",
      "(23764, 768)\n",
      "(23764, 768)\n",
      "(23766, 768)\n",
      "(23766, 768)\n"
     ]
    }
   ],
   "source": [
    "array_list = []\n",
    "\n",
    "for file_name in os.listdir(path_to_mortality_shards):\n",
    "    test_embedding = load_from_file(os.path.join(path_to_mortality_shards, file_name))\n",
    "    print(test_embedding.shape)\n",
    "    array_list.append(test_embedding)"
   ]
  },
  {
   "cell_type": "code",
   "execution_count": 123,
   "id": "467240ab-b2a8-422a-b32d-4eb58cb75ad8",
   "metadata": {},
   "outputs": [
    {
     "data": {
      "text/plain": [
       "(237650, 768)"
      ]
     },
     "execution_count": 123,
     "metadata": {},
     "output_type": "execute_result"
    }
   ],
   "source": [
    "embeddings = np.concatenate(array_list)\n",
    "embeddings.shape"
   ]
  },
  {
   "cell_type": "code",
   "execution_count": 124,
   "id": "c9ac81f5-3963-4837-9716-fcca23e485c7",
   "metadata": {},
   "outputs": [],
   "source": [
    "mortality_meta_data = load_from_file(path_to_mortality_metadata)"
   ]
  },
  {
   "cell_type": "code",
   "execution_count": 125,
   "id": "0313ec40-5376-45b7-8871-37fee7be31d2",
   "metadata": {},
   "outputs": [],
   "source": [
    "mortality_text_features = {\n",
    "    \"data_matrix\": embeddings, \n",
    "    \"labels\": mortality_meta_data[0],\n",
    "    \"patient_ids\": mortality_meta_data[1], \n",
    "    \"labeling_time\": mortality_meta_data[2], \n",
    "}"
   ]
  },
  {
   "cell_type": "code",
   "execution_count": 126,
   "id": "98dbedd9-11c4-4cb6-8387-672aba140602",
   "metadata": {},
   "outputs": [],
   "source": [
    "data_matrix, labels, patient_ids, labeling_time = [\n",
    "    mortality_text_features[k] for k in (\"data_matrix\", \"labels\", \"patient_ids\", \"labeling_time\")\n",
    "]"
   ]
  },
  {
   "cell_type": "code",
   "execution_count": 127,
   "id": "7aef2690-f531-42a7-bac9-0dae349604d6",
   "metadata": {},
   "outputs": [],
   "source": [
    "hashes = np.array([data.compute_split(97, pid) for pid in patient_ids])\n",
    "train_pids = hashes < 70\n",
    "val_pids = (hashes >= 70) & (hashes < 85)"
   ]
  },
  {
   "cell_type": "code",
   "execution_count": 128,
   "id": "eee8f500-e20d-4117-93cf-3dfb101e48a6",
   "metadata": {},
   "outputs": [
    {
     "data": {
      "text/plain": [
       "(237650,)"
      ]
     },
     "execution_count": 128,
     "metadata": {},
     "output_type": "execute_result"
    }
   ],
   "source": [
    "val_pids.shape"
   ]
  },
  {
   "cell_type": "code",
   "execution_count": 129,
   "id": "62a6817d-ba41-4870-80ed-ac22fde312ea",
   "metadata": {},
   "outputs": [
    {
     "name": "stderr",
     "output_type": "stream",
     "text": [
      "/share/pi/nigam/rthapa84/miniconda3/envs/env_piton_1/lib/python3.10/site-packages/sklearn/linear_model/_logistic.py:444: ConvergenceWarning: lbfgs failed to converge (status=1):\n",
      "STOP: TOTAL NO. of ITERATIONS REACHED LIMIT.\n",
      "\n",
      "Increase the number of iterations (max_iter) or scale the data as shown in:\n",
      "    https://scikit-learn.org/stable/modules/preprocessing.html\n",
      "Please also refer to the documentation for alternative solver options:\n",
      "    https://scikit-learn.org/stable/modules/linear_model.html#logistic-regression\n",
      "  n_iter_i = _check_optimize_result(\n",
      "/share/pi/nigam/rthapa84/miniconda3/envs/env_piton_1/lib/python3.10/site-packages/sklearn/linear_model/_logistic.py:444: ConvergenceWarning: lbfgs failed to converge (status=1):\n",
      "STOP: TOTAL NO. of ITERATIONS REACHED LIMIT.\n",
      "\n",
      "Increase the number of iterations (max_iter) or scale the data as shown in:\n",
      "    https://scikit-learn.org/stable/modules/preprocessing.html\n",
      "Please also refer to the documentation for alternative solver options:\n",
      "    https://scikit-learn.org/stable/modules/linear_model.html#logistic-regression\n",
      "  n_iter_i = _check_optimize_result(\n",
      "/share/pi/nigam/rthapa84/miniconda3/envs/env_piton_1/lib/python3.10/site-packages/sklearn/linear_model/_logistic.py:444: ConvergenceWarning: lbfgs failed to converge (status=1):\n",
      "STOP: TOTAL NO. of ITERATIONS REACHED LIMIT.\n",
      "\n",
      "Increase the number of iterations (max_iter) or scale the data as shown in:\n",
      "    https://scikit-learn.org/stable/modules/preprocessing.html\n",
      "Please also refer to the documentation for alternative solver options:\n",
      "    https://scikit-learn.org/stable/modules/linear_model.html#logistic-regression\n",
      "  n_iter_i = _check_optimize_result(\n",
      "/share/pi/nigam/rthapa84/miniconda3/envs/env_piton_1/lib/python3.10/site-packages/sklearn/linear_model/_logistic.py:444: ConvergenceWarning: lbfgs failed to converge (status=1):\n",
      "STOP: TOTAL NO. of ITERATIONS REACHED LIMIT.\n",
      "\n",
      "Increase the number of iterations (max_iter) or scale the data as shown in:\n",
      "    https://scikit-learn.org/stable/modules/preprocessing.html\n",
      "Please also refer to the documentation for alternative solver options:\n",
      "    https://scikit-learn.org/stable/modules/linear_model.html#logistic-regression\n",
      "  n_iter_i = _check_optimize_result(\n",
      "/share/pi/nigam/rthapa84/miniconda3/envs/env_piton_1/lib/python3.10/site-packages/sklearn/linear_model/_logistic.py:444: ConvergenceWarning: lbfgs failed to converge (status=1):\n",
      "STOP: TOTAL NO. of ITERATIONS REACHED LIMIT.\n",
      "\n",
      "Increase the number of iterations (max_iter) or scale the data as shown in:\n",
      "    https://scikit-learn.org/stable/modules/preprocessing.html\n",
      "Please also refer to the documentation for alternative solver options:\n",
      "    https://scikit-learn.org/stable/modules/linear_model.html#logistic-regression\n",
      "  n_iter_i = _check_optimize_result(\n"
     ]
    },
    {
     "data": {
      "text/html": [
       "<style>#sk-container-id-3 {color: black;background-color: white;}#sk-container-id-3 pre{padding: 0;}#sk-container-id-3 div.sk-toggleable {background-color: white;}#sk-container-id-3 label.sk-toggleable__label {cursor: pointer;display: block;width: 100%;margin-bottom: 0;padding: 0.3em;box-sizing: border-box;text-align: center;}#sk-container-id-3 label.sk-toggleable__label-arrow:before {content: \"▸\";float: left;margin-right: 0.25em;color: #696969;}#sk-container-id-3 label.sk-toggleable__label-arrow:hover:before {color: black;}#sk-container-id-3 div.sk-estimator:hover label.sk-toggleable__label-arrow:before {color: black;}#sk-container-id-3 div.sk-toggleable__content {max-height: 0;max-width: 0;overflow: hidden;text-align: left;background-color: #f0f8ff;}#sk-container-id-3 div.sk-toggleable__content pre {margin: 0.2em;color: black;border-radius: 0.25em;background-color: #f0f8ff;}#sk-container-id-3 input.sk-toggleable__control:checked~div.sk-toggleable__content {max-height: 200px;max-width: 100%;overflow: auto;}#sk-container-id-3 input.sk-toggleable__control:checked~label.sk-toggleable__label-arrow:before {content: \"▾\";}#sk-container-id-3 div.sk-estimator input.sk-toggleable__control:checked~label.sk-toggleable__label {background-color: #d4ebff;}#sk-container-id-3 div.sk-label input.sk-toggleable__control:checked~label.sk-toggleable__label {background-color: #d4ebff;}#sk-container-id-3 input.sk-hidden--visually {border: 0;clip: rect(1px 1px 1px 1px);clip: rect(1px, 1px, 1px, 1px);height: 1px;margin: -1px;overflow: hidden;padding: 0;position: absolute;width: 1px;}#sk-container-id-3 div.sk-estimator {font-family: monospace;background-color: #f0f8ff;border: 1px dotted black;border-radius: 0.25em;box-sizing: border-box;margin-bottom: 0.5em;}#sk-container-id-3 div.sk-estimator:hover {background-color: #d4ebff;}#sk-container-id-3 div.sk-parallel-item::after {content: \"\";width: 100%;border-bottom: 1px solid gray;flex-grow: 1;}#sk-container-id-3 div.sk-label:hover label.sk-toggleable__label {background-color: #d4ebff;}#sk-container-id-3 div.sk-serial::before {content: \"\";position: absolute;border-left: 1px solid gray;box-sizing: border-box;top: 0;bottom: 0;left: 50%;z-index: 0;}#sk-container-id-3 div.sk-serial {display: flex;flex-direction: column;align-items: center;background-color: white;padding-right: 0.2em;padding-left: 0.2em;position: relative;}#sk-container-id-3 div.sk-item {position: relative;z-index: 1;}#sk-container-id-3 div.sk-parallel {display: flex;align-items: stretch;justify-content: center;background-color: white;position: relative;}#sk-container-id-3 div.sk-item::before, #sk-container-id-3 div.sk-parallel-item::before {content: \"\";position: absolute;border-left: 1px solid gray;box-sizing: border-box;top: 0;bottom: 0;left: 50%;z-index: -1;}#sk-container-id-3 div.sk-parallel-item {display: flex;flex-direction: column;z-index: 1;position: relative;background-color: white;}#sk-container-id-3 div.sk-parallel-item:first-child::after {align-self: flex-end;width: 50%;}#sk-container-id-3 div.sk-parallel-item:last-child::after {align-self: flex-start;width: 50%;}#sk-container-id-3 div.sk-parallel-item:only-child::after {width: 0;}#sk-container-id-3 div.sk-dashed-wrapped {border: 1px dashed gray;margin: 0 0.4em 0.5em 0.4em;box-sizing: border-box;padding-bottom: 0.4em;background-color: white;}#sk-container-id-3 div.sk-label label {font-family: monospace;font-weight: bold;display: inline-block;line-height: 1.2em;}#sk-container-id-3 div.sk-label-container {text-align: center;}#sk-container-id-3 div.sk-container {/* jupyter's `normalize.less` sets `[hidden] { display: none; }` but bootstrap.min.css set `[hidden] { display: none !important; }` so we also need the `!important` here to be able to override the default hidden behavior on the sphinx rendered scikit-learn.org. See: https://github.com/scikit-learn/scikit-learn/issues/21755 */display: inline-block !important;position: relative;}#sk-container-id-3 div.sk-text-repr-fallback {display: none;}</style><div id=\"sk-container-id-3\" class=\"sk-top-container\"><div class=\"sk-text-repr-fallback\"><pre>LogisticRegressionCV()</pre><b>In a Jupyter environment, please rerun this cell to show the HTML representation or trust the notebook. <br />On GitHub, the HTML representation is unable to render, please try loading this page with nbviewer.org.</b></div><div class=\"sk-container\" hidden><div class=\"sk-item\"><div class=\"sk-estimator sk-toggleable\"><input class=\"sk-toggleable__control sk-hidden--visually\" id=\"sk-estimator-id-3\" type=\"checkbox\" checked><label for=\"sk-estimator-id-3\" class=\"sk-toggleable__label sk-toggleable__label-arrow\">LogisticRegressionCV</label><div class=\"sk-toggleable__content\"><pre>LogisticRegressionCV()</pre></div></div></div></div></div>"
      ],
      "text/plain": [
       "LogisticRegressionCV()"
      ]
     },
     "execution_count": 129,
     "metadata": {},
     "output_type": "execute_result"
    }
   ],
   "source": [
    "# Logistic Regression\n",
    "model = sklearn.linear_model.LogisticRegressionCV()\n",
    "model.fit(data_matrix[train_pids, :], labels[train_pids])"
   ]
  },
  {
   "cell_type": "code",
   "execution_count": 130,
   "id": "a00810e6-146a-424b-95c6-c3749a1cdbcb",
   "metadata": {},
   "outputs": [
    {
     "name": "stdout",
     "output_type": "stream",
     "text": [
      "0.5397209503841645\n",
      "0.05499512580133011\n",
      "0.5073423567540761\n",
      "0.05113908474695157\n"
     ]
    }
   ],
   "source": [
    "train_preds = model.predict_log_proba(data_matrix[train_pids, :])[:, 1]\n",
    "print(sklearn.metrics.roc_auc_score(labels[train_pids], train_preds))\n",
    "print(sklearn.metrics.average_precision_score(labels[train_pids], train_preds))\n",
    "\n",
    "val_preds = model.predict_log_proba(data_matrix[val_pids, :])[:, 1]\n",
    "print(sklearn.metrics.roc_auc_score(labels[val_pids], val_preds))\n",
    "print(sklearn.metrics.average_precision_score(labels[val_pids], val_preds))"
   ]
  },
  {
   "cell_type": "code",
   "execution_count": 131,
   "id": "8509b631-bd89-4949-9083-90ce6e2a779d",
   "metadata": {},
   "outputs": [
    {
     "name": "stdout",
     "output_type": "stream",
     "text": [
      "[20:08:32] WARNING: ../src/learner.cc:767: \n",
      "Parameters: { \"early_stopping\" } are not used.\n",
      "\n",
      "0.9500227304892654\n",
      "0.7330945743486263\n",
      "0.5052701661560737\n",
      "0.05175069875845791\n"
     ]
    }
   ],
   "source": [
    "# XGB\n",
    "model = xgb.XGBClassifier(early_stopping=True)\n",
    "model.fit(data_matrix[train_pids, :], labels[train_pids])\n",
    "train_preds = model.predict_proba(data_matrix[train_pids, :])[::,1]\n",
    "print(sklearn.metrics.roc_auc_score(labels[train_pids], train_preds))\n",
    "print(sklearn.metrics.average_precision_score(labels[train_pids], train_preds))\n",
    "\n",
    "val_preds = model.predict_proba(data_matrix[val_pids, :])[::,1]\n",
    "print(sklearn.metrics.roc_auc_score(labels[val_pids], val_preds))\n",
    "print(sklearn.metrics.average_precision_score(labels[val_pids], val_preds))"
   ]
  },
  {
   "cell_type": "code",
   "execution_count": 132,
   "id": "bd75e34b-6685-427d-9ce7-b0f0d095fc4e",
   "metadata": {},
   "outputs": [
    {
     "name": "stdout",
     "output_type": "stream",
     "text": [
      "0.8717973313961981\n",
      "0.5504784667762804\n",
      "0.49728926582434063\n",
      "0.05004677820577496\n"
     ]
    }
   ],
   "source": [
    "# LGBM\n",
    "model = lgbm.LGBMClassifier()\n",
    "model.fit(data_matrix[train_pids, :], labels[train_pids])\n",
    "train_preds = model.predict_proba(data_matrix[train_pids, :])[::,1]\n",
    "print(sklearn.metrics.roc_auc_score(labels[train_pids], train_preds))\n",
    "print(sklearn.metrics.average_precision_score(labels[train_pids], train_preds))\n",
    "\n",
    "val_preds = model.predict_proba(data_matrix[val_pids, :])[::,1]\n",
    "print(sklearn.metrics.roc_auc_score(labels[val_pids], val_preds))\n",
    "print(sklearn.metrics.average_precision_score(labels[val_pids], val_preds))"
   ]
  },
  {
   "cell_type": "markdown",
   "id": "2566e6fb-7418-4fd5-814a-3fd33170e8c0",
   "metadata": {},
   "source": [
    "#### Let us combined CLMBR representation with Mortality text data"
   ]
  },
  {
   "cell_type": "code",
   "execution_count": 133,
   "id": "e7ba7d07-b590-43e2-bb9f-b32313dda63b",
   "metadata": {},
   "outputs": [],
   "source": [
    "features_path = \"/share/pi/nigam/rthapa84/data/mortality_clmbr_tuned\"\n",
    "labels_path = \"/share/pi/nigam/rthapa84/data/mortality_labeled_patients_v1.pickle\"\n",
    "\n",
    "with open(features_path, \"rb\") as f:\n",
    "    features = pickle.load(f)\n",
    "    \n",
    "with open(labels_path, \"rb\") as f:\n",
    "    labeled_patients = pickle.load(f)"
   ]
  },
  {
   "cell_type": "code",
   "execution_count": 134,
   "id": "71b1b71f-8a05-440e-b841-7392ac0a2336",
   "metadata": {},
   "outputs": [],
   "source": [
    "clmbr_df = pd.DataFrame(features[\"data_matrix\"])\n",
    "clmbr_df[\"patient_ids\"] = features[\"patient_ids\"]\n",
    "clmbr_df[\"labeling_time\"] = features[\"labeling_time\"]"
   ]
  },
  {
   "cell_type": "code",
   "execution_count": 135,
   "id": "89261716-59a4-4e33-bf83-5c027311c7cd",
   "metadata": {},
   "outputs": [],
   "source": [
    "text_df = pd.DataFrame(mortality_text_features[\"data_matrix\"])\n",
    "text_df[\"patient_ids\"] = mortality_text_features[\"patient_ids\"]\n",
    "text_df[\"labeling_time\"] = mortality_text_features[\"labeling_time\"]"
   ]
  },
  {
   "cell_type": "code",
   "execution_count": 136,
   "id": "de4de271-5e47-40f0-8cf8-75431ada4c9a",
   "metadata": {},
   "outputs": [],
   "source": [
    "combined_df = pd.merge(clmbr_df, text_df, on=['patient_ids','labeling_time'])"
   ]
  },
  {
   "cell_type": "code",
   "execution_count": 137,
   "id": "0e3dc615-3a34-4f1e-ada4-0bfb30cd34e0",
   "metadata": {},
   "outputs": [],
   "source": [
    "combined_data_matirx = combined_df.drop(columns=['patient_ids','labeling_time']).to_numpy()\n",
    "patient_ids = combined_df[\"patient_ids\"].to_numpy()\n",
    "labeling_time = pd.to_datetime(combined_df[\"labeling_time\"]).to_numpy()"
   ]
  },
  {
   "cell_type": "code",
   "execution_count": 138,
   "id": "cc373eb3-ca20-4606-bf71-c226fd38213f",
   "metadata": {},
   "outputs": [],
   "source": [
    "combined_features = {\n",
    "    \"data_matrix\": combined_data_matirx, \n",
    "    \"patient_ids\": patient_ids, \n",
    "    \"labeling_time\": labeling_time\n",
    "}"
   ]
  },
  {
   "cell_type": "code",
   "execution_count": 139,
   "id": "cd63cda5-b60e-4810-af03-3cd1e7a29b7d",
   "metadata": {},
   "outputs": [],
   "source": [
    "with open(labels_path, \"rb\") as f:\n",
    "    labeled_patients = pickle.load(f)\n",
    "    \n",
    "data_matrix, patient_ids, labeling_time = [\n",
    "    combined_features[k] for k in (\"data_matrix\", \"patient_ids\", \"labeling_time\")\n",
    "]\n",
    "labels = []\n",
    "\n",
    "for pid, time in zip(patient_ids, labeling_time):\n",
    "    raw_labels = [\n",
    "        label.value for label in labeled_patients[pid]\n",
    "    ]\n",
    "    assert len(raw_labels) == 1\n",
    "    labels.append(raw_labels[0])\n",
    "\n",
    "labels = np.array(labels)"
   ]
  },
  {
   "cell_type": "code",
   "execution_count": 140,
   "id": "988e12c2-99c4-473f-813e-9d12ad5b2072",
   "metadata": {},
   "outputs": [],
   "source": [
    "hashes = np.array([data.compute_split(97, pid) for pid in patient_ids])\n",
    "train_pids = hashes < 70\n",
    "val_pids = (hashes >= 70) & (hashes < 85)"
   ]
  },
  {
   "cell_type": "code",
   "execution_count": 141,
   "id": "46d6a7f2-7070-43ec-a1cf-7f59b4970068",
   "metadata": {},
   "outputs": [
    {
     "name": "stderr",
     "output_type": "stream",
     "text": [
      "/share/pi/nigam/rthapa84/miniconda3/envs/env_piton_1/lib/python3.10/site-packages/sklearn/linear_model/_logistic.py:444: ConvergenceWarning: lbfgs failed to converge (status=1):\n",
      "STOP: TOTAL NO. of ITERATIONS REACHED LIMIT.\n",
      "\n",
      "Increase the number of iterations (max_iter) or scale the data as shown in:\n",
      "    https://scikit-learn.org/stable/modules/preprocessing.html\n",
      "Please also refer to the documentation for alternative solver options:\n",
      "    https://scikit-learn.org/stable/modules/linear_model.html#logistic-regression\n",
      "  n_iter_i = _check_optimize_result(\n",
      "/share/pi/nigam/rthapa84/miniconda3/envs/env_piton_1/lib/python3.10/site-packages/sklearn/linear_model/_logistic.py:444: ConvergenceWarning: lbfgs failed to converge (status=1):\n",
      "STOP: TOTAL NO. of ITERATIONS REACHED LIMIT.\n",
      "\n",
      "Increase the number of iterations (max_iter) or scale the data as shown in:\n",
      "    https://scikit-learn.org/stable/modules/preprocessing.html\n",
      "Please also refer to the documentation for alternative solver options:\n",
      "    https://scikit-learn.org/stable/modules/linear_model.html#logistic-regression\n",
      "  n_iter_i = _check_optimize_result(\n",
      "/share/pi/nigam/rthapa84/miniconda3/envs/env_piton_1/lib/python3.10/site-packages/sklearn/linear_model/_logistic.py:444: ConvergenceWarning: lbfgs failed to converge (status=1):\n",
      "STOP: TOTAL NO. of ITERATIONS REACHED LIMIT.\n",
      "\n",
      "Increase the number of iterations (max_iter) or scale the data as shown in:\n",
      "    https://scikit-learn.org/stable/modules/preprocessing.html\n",
      "Please also refer to the documentation for alternative solver options:\n",
      "    https://scikit-learn.org/stable/modules/linear_model.html#logistic-regression\n",
      "  n_iter_i = _check_optimize_result(\n",
      "/share/pi/nigam/rthapa84/miniconda3/envs/env_piton_1/lib/python3.10/site-packages/sklearn/linear_model/_logistic.py:444: ConvergenceWarning: lbfgs failed to converge (status=1):\n",
      "STOP: TOTAL NO. of ITERATIONS REACHED LIMIT.\n",
      "\n",
      "Increase the number of iterations (max_iter) or scale the data as shown in:\n",
      "    https://scikit-learn.org/stable/modules/preprocessing.html\n",
      "Please also refer to the documentation for alternative solver options:\n",
      "    https://scikit-learn.org/stable/modules/linear_model.html#logistic-regression\n",
      "  n_iter_i = _check_optimize_result(\n",
      "/share/pi/nigam/rthapa84/miniconda3/envs/env_piton_1/lib/python3.10/site-packages/sklearn/linear_model/_logistic.py:444: ConvergenceWarning: lbfgs failed to converge (status=1):\n",
      "STOP: TOTAL NO. of ITERATIONS REACHED LIMIT.\n",
      "\n",
      "Increase the number of iterations (max_iter) or scale the data as shown in:\n",
      "    https://scikit-learn.org/stable/modules/preprocessing.html\n",
      "Please also refer to the documentation for alternative solver options:\n",
      "    https://scikit-learn.org/stable/modules/linear_model.html#logistic-regression\n",
      "  n_iter_i = _check_optimize_result(\n",
      "/share/pi/nigam/rthapa84/miniconda3/envs/env_piton_1/lib/python3.10/site-packages/sklearn/linear_model/_logistic.py:444: ConvergenceWarning: lbfgs failed to converge (status=1):\n",
      "STOP: TOTAL NO. of ITERATIONS REACHED LIMIT.\n",
      "\n",
      "Increase the number of iterations (max_iter) or scale the data as shown in:\n",
      "    https://scikit-learn.org/stable/modules/preprocessing.html\n",
      "Please also refer to the documentation for alternative solver options:\n",
      "    https://scikit-learn.org/stable/modules/linear_model.html#logistic-regression\n",
      "  n_iter_i = _check_optimize_result(\n"
     ]
    },
    {
     "data": {
      "text/html": [
       "<style>#sk-container-id-4 {color: black;background-color: white;}#sk-container-id-4 pre{padding: 0;}#sk-container-id-4 div.sk-toggleable {background-color: white;}#sk-container-id-4 label.sk-toggleable__label {cursor: pointer;display: block;width: 100%;margin-bottom: 0;padding: 0.3em;box-sizing: border-box;text-align: center;}#sk-container-id-4 label.sk-toggleable__label-arrow:before {content: \"▸\";float: left;margin-right: 0.25em;color: #696969;}#sk-container-id-4 label.sk-toggleable__label-arrow:hover:before {color: black;}#sk-container-id-4 div.sk-estimator:hover label.sk-toggleable__label-arrow:before {color: black;}#sk-container-id-4 div.sk-toggleable__content {max-height: 0;max-width: 0;overflow: hidden;text-align: left;background-color: #f0f8ff;}#sk-container-id-4 div.sk-toggleable__content pre {margin: 0.2em;color: black;border-radius: 0.25em;background-color: #f0f8ff;}#sk-container-id-4 input.sk-toggleable__control:checked~div.sk-toggleable__content {max-height: 200px;max-width: 100%;overflow: auto;}#sk-container-id-4 input.sk-toggleable__control:checked~label.sk-toggleable__label-arrow:before {content: \"▾\";}#sk-container-id-4 div.sk-estimator input.sk-toggleable__control:checked~label.sk-toggleable__label {background-color: #d4ebff;}#sk-container-id-4 div.sk-label input.sk-toggleable__control:checked~label.sk-toggleable__label {background-color: #d4ebff;}#sk-container-id-4 input.sk-hidden--visually {border: 0;clip: rect(1px 1px 1px 1px);clip: rect(1px, 1px, 1px, 1px);height: 1px;margin: -1px;overflow: hidden;padding: 0;position: absolute;width: 1px;}#sk-container-id-4 div.sk-estimator {font-family: monospace;background-color: #f0f8ff;border: 1px dotted black;border-radius: 0.25em;box-sizing: border-box;margin-bottom: 0.5em;}#sk-container-id-4 div.sk-estimator:hover {background-color: #d4ebff;}#sk-container-id-4 div.sk-parallel-item::after {content: \"\";width: 100%;border-bottom: 1px solid gray;flex-grow: 1;}#sk-container-id-4 div.sk-label:hover label.sk-toggleable__label {background-color: #d4ebff;}#sk-container-id-4 div.sk-serial::before {content: \"\";position: absolute;border-left: 1px solid gray;box-sizing: border-box;top: 0;bottom: 0;left: 50%;z-index: 0;}#sk-container-id-4 div.sk-serial {display: flex;flex-direction: column;align-items: center;background-color: white;padding-right: 0.2em;padding-left: 0.2em;position: relative;}#sk-container-id-4 div.sk-item {position: relative;z-index: 1;}#sk-container-id-4 div.sk-parallel {display: flex;align-items: stretch;justify-content: center;background-color: white;position: relative;}#sk-container-id-4 div.sk-item::before, #sk-container-id-4 div.sk-parallel-item::before {content: \"\";position: absolute;border-left: 1px solid gray;box-sizing: border-box;top: 0;bottom: 0;left: 50%;z-index: -1;}#sk-container-id-4 div.sk-parallel-item {display: flex;flex-direction: column;z-index: 1;position: relative;background-color: white;}#sk-container-id-4 div.sk-parallel-item:first-child::after {align-self: flex-end;width: 50%;}#sk-container-id-4 div.sk-parallel-item:last-child::after {align-self: flex-start;width: 50%;}#sk-container-id-4 div.sk-parallel-item:only-child::after {width: 0;}#sk-container-id-4 div.sk-dashed-wrapped {border: 1px dashed gray;margin: 0 0.4em 0.5em 0.4em;box-sizing: border-box;padding-bottom: 0.4em;background-color: white;}#sk-container-id-4 div.sk-label label {font-family: monospace;font-weight: bold;display: inline-block;line-height: 1.2em;}#sk-container-id-4 div.sk-label-container {text-align: center;}#sk-container-id-4 div.sk-container {/* jupyter's `normalize.less` sets `[hidden] { display: none; }` but bootstrap.min.css set `[hidden] { display: none !important; }` so we also need the `!important` here to be able to override the default hidden behavior on the sphinx rendered scikit-learn.org. See: https://github.com/scikit-learn/scikit-learn/issues/21755 */display: inline-block !important;position: relative;}#sk-container-id-4 div.sk-text-repr-fallback {display: none;}</style><div id=\"sk-container-id-4\" class=\"sk-top-container\"><div class=\"sk-text-repr-fallback\"><pre>LogisticRegressionCV()</pre><b>In a Jupyter environment, please rerun this cell to show the HTML representation or trust the notebook. <br />On GitHub, the HTML representation is unable to render, please try loading this page with nbviewer.org.</b></div><div class=\"sk-container\" hidden><div class=\"sk-item\"><div class=\"sk-estimator sk-toggleable\"><input class=\"sk-toggleable__control sk-hidden--visually\" id=\"sk-estimator-id-4\" type=\"checkbox\" checked><label for=\"sk-estimator-id-4\" class=\"sk-toggleable__label sk-toggleable__label-arrow\">LogisticRegressionCV</label><div class=\"sk-toggleable__content\"><pre>LogisticRegressionCV()</pre></div></div></div></div></div>"
      ],
      "text/plain": [
       "LogisticRegressionCV()"
      ]
     },
     "execution_count": 141,
     "metadata": {},
     "output_type": "execute_result"
    }
   ],
   "source": [
    "# Logistic Regression\n",
    "model = sklearn.linear_model.LogisticRegressionCV()\n",
    "model.fit(data_matrix[train_pids, :], labels[train_pids])"
   ]
  },
  {
   "cell_type": "code",
   "execution_count": 142,
   "id": "65154b26-f124-402a-9454-8af588ee6117",
   "metadata": {},
   "outputs": [
    {
     "name": "stdout",
     "output_type": "stream",
     "text": [
      "0.9755669037398461\n",
      "0.7819516977453588\n",
      "0.9633667970780531\n",
      "0.6986775598628536\n"
     ]
    }
   ],
   "source": [
    "train_preds = model.predict_log_proba(data_matrix[train_pids, :])[:, 1]\n",
    "print(sklearn.metrics.roc_auc_score(labels[train_pids], train_preds))\n",
    "print(sklearn.metrics.average_precision_score(labels[train_pids], train_preds))\n",
    "\n",
    "val_preds = model.predict_log_proba(data_matrix[val_pids, :])[:, 1]\n",
    "print(sklearn.metrics.roc_auc_score(labels[val_pids], val_preds))\n",
    "print(sklearn.metrics.average_precision_score(labels[val_pids], val_preds))"
   ]
  },
  {
   "cell_type": "code",
   "execution_count": 143,
   "id": "39a6a346-8eb6-48d5-9166-88ce80196f97",
   "metadata": {},
   "outputs": [
    {
     "name": "stdout",
     "output_type": "stream",
     "text": [
      "0.9998435059777518\n",
      "0.9973982803664642\n",
      "0.9584292265989477\n",
      "0.6750637874085395\n"
     ]
    }
   ],
   "source": [
    "# XGB\n",
    "model = xgb.XGBClassifier()\n",
    "model.fit(data_matrix[train_pids, :], labels[train_pids])\n",
    "\n",
    "train_preds = model.predict_proba(data_matrix[train_pids, :])[::,1]\n",
    "print(sklearn.metrics.roc_auc_score(labels[train_pids], train_preds))\n",
    "print(sklearn.metrics.average_precision_score(labels[train_pids], train_preds))\n",
    "\n",
    "val_preds = model.predict_proba(data_matrix[val_pids, :])[::,1]\n",
    "print(sklearn.metrics.roc_auc_score(labels[val_pids], val_preds))\n",
    "print(sklearn.metrics.average_precision_score(labels[val_pids], val_preds))"
   ]
  },
  {
   "cell_type": "code",
   "execution_count": 144,
   "id": "3fb70ff2-da17-4b8f-946a-09b5f3c1a3f8",
   "metadata": {},
   "outputs": [
    {
     "name": "stdout",
     "output_type": "stream",
     "text": [
      "0.993542915482733\n",
      "0.8941384576570273\n",
      "0.9604157146717941\n",
      "0.6712694986918075\n"
     ]
    }
   ],
   "source": [
    "# LGBM\n",
    "model = lgbm.LGBMClassifier()\n",
    "model.fit(data_matrix[train_pids, :], labels[train_pids])\n",
    "train_preds = model.predict_proba(data_matrix[train_pids, :])[::,1]\n",
    "print(sklearn.metrics.roc_auc_score(labels[train_pids], train_preds))\n",
    "print(sklearn.metrics.average_precision_score(labels[train_pids], train_preds))\n",
    "\n",
    "val_preds = model.predict_proba(data_matrix[val_pids, :])[::,1]\n",
    "print(sklearn.metrics.roc_auc_score(labels[val_pids], val_preds))\n",
    "print(sklearn.metrics.average_precision_score(labels[val_pids], val_preds))"
   ]
  },
  {
   "cell_type": "code",
   "execution_count": null,
   "id": "eebf265f-e3ab-474b-8a24-cb6a18ce7abc",
   "metadata": {},
   "outputs": [],
   "source": []
  }
 ],
 "metadata": {
  "kernelspec": {
   "display_name": "Python 3 (ipykernel)",
   "language": "python",
   "name": "python3"
  },
  "language_info": {
   "codemirror_mode": {
    "name": "ipython",
    "version": 3
   },
   "file_extension": ".py",
   "mimetype": "text/x-python",
   "name": "python",
   "nbconvert_exporter": "python",
   "pygments_lexer": "ipython3",
   "version": "3.10.6"
  }
 },
 "nbformat": 4,
 "nbformat_minor": 5
}
