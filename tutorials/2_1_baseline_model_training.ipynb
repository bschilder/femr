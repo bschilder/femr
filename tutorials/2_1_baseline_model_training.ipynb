{
 "cells": [
  {
   "cell_type": "code",
   "execution_count": 1,
   "id": "3ff0e6ff-af85-4aac-86a2-36810a2d8438",
   "metadata": {},
   "outputs": [],
   "source": [
    "%load_ext autoreload\n",
    "%autoreload 2"
   ]
  },
  {
   "cell_type": "code",
   "execution_count": 80,
   "id": "d1253f50-3b39-404b-8ffc-1ae6b792aea7",
   "metadata": {},
   "outputs": [],
   "source": [
    "import datetime\n",
    "import os\n",
    "from typing import List, Tuple\n",
    "import pickle\n",
    "\n",
    "import numpy as np\n",
    "from sklearn import metrics\n",
    "\n",
    "import piton\n",
    "import piton.datasets\n",
    "\n",
    "from sklearn.linear_model import LogisticRegression\n",
    "from sklearn.model_selection import train_test_split\n",
    "from sklearn.metrics import f1_score\n",
    "from sklearn.metrics import average_precision_score, precision_recall_curve\n",
    "from sklearn.metrics import auc, plot_precision_recall_curve\n",
    "from tqdm import tqdm\n",
    "import xgboost as xgb\n",
    "import lightgbm as lgbm\n",
    "from typing import Set"
   ]
  },
  {
   "cell_type": "code",
   "execution_count": 49,
   "id": "b8b7e930-d71f-4cd8-b228-8804b4014b0e",
   "metadata": {},
   "outputs": [],
   "source": [
    "PATH_TO_PITON_DB = '/share/pi/nigam/data/som-rit-phi-starr-prod.starr_omop_cdm5_deid_2022_09_05_extract2'\n",
    "PATH_TO_SAVE_MATRIX = \"/share/pi/nigam/rthapa84/data\"\n",
    "LABELED_PATIENTS = \"mortality_labeled_patients_v1.pickle\"\n",
    "FEATURIZED_DATA = \"mortality_featurized_patients_v1.pickle\"\n",
    "SEED = 97"
   ]
  },
  {
   "cell_type": "code",
   "execution_count": 50,
   "id": "d556021c-a934-456e-b6eb-954a239dece5",
   "metadata": {},
   "outputs": [
    {
     "name": "stdout",
     "output_type": "stream",
     "text": [
      "Data loaded\n"
     ]
    }
   ],
   "source": [
    "# Patient database\n",
    "database = piton.datasets.PatientDatabase(PATH_TO_PITON_DB)\n",
    "\n",
    "with open(os.path.join(PATH_TO_SAVE_MATRIX, FEATURIZED_DATA), 'rb') as f:\n",
    "    featurized_data = pickle.load(f)\n",
    "\n",
    "print(\"Data loaded\")"
   ]
  },
  {
   "cell_type": "code",
   "execution_count": 78,
   "id": "acfad31b-e878-4a50-a36a-d575eabe66c7",
   "metadata": {},
   "outputs": [],
   "source": [
    "# for code in database.get_code_dictionary():\n",
    "#     code = bytes(code).decode(\"utf-8\")\n",
    "    \n",
    "#     if \"ICD10PCS/E08\" in code:\n",
    "#         print(code)"
   ]
  },
  {
   "cell_type": "code",
   "execution_count": 81,
   "id": "9e6fa878-74a6-4c07-9ca8-554fdab32547",
   "metadata": {},
   "outputs": [],
   "source": [
    "database = piton.datasets.PatientDatabase(PATH_TO_PITON_DB)\n",
    "ontology = database.get_ontology()\n",
    "diabetes_codes: Set[Tuple[str, int]] = set()\n",
    "DIABETES_CODE = \"SNOMED/44054006\"\n",
    "\n",
    "for code, code_str in enumerate(ontology.get_dictionary()):\n",
    "    code_str = bytes(code_str).decode(\"utf-8\")\n",
    "    if code_str == DIABETES_CODE:\n",
    "        diabetes_codes.add((code_str, code))"
   ]
  },
  {
   "cell_type": "code",
   "execution_count": 126,
   "id": "1c11560d-2937-4026-b6bf-2ae72f91ca1b",
   "metadata": {},
   "outputs": [
    {
     "name": "stdout",
     "output_type": "stream",
     "text": [
      "None\n",
      "None\n",
      "None\n",
      "None\n",
      "None\n",
      "None\n",
      "None\n",
      "None\n"
     ]
    }
   ],
   "source": [
    "for patient in database:\n",
    "    for event in patient.events:\n",
    "        if type(event.value) != memoryview:\n",
    "            print(event.value)\n",
    "        # else:\n",
    "        #     print(event.value)\n",
    "        # print(type(event.value))\n",
    "    break"
   ]
  },
  {
   "cell_type": "code",
   "execution_count": 117,
   "id": "4c7ce6cd-54cb-4176-bc57-bbe1236dab86",
   "metadata": {},
   "outputs": [
    {
     "data": {
      "text/plain": [
       "(Event(start=1994-05-08 00:00:00, code=289),\n",
       " Event(start=1994-05-08 23:59:00, code=452),\n",
       " Event(start=1994-05-08 23:59:00, code=1380),\n",
       " Event(start=2017-03-26 13:43:00, code=1970),\n",
       " Event(start=2017-03-26 23:59:00, code=14),\n",
       " Event(start=2017-03-26 23:59:00, code=2979),\n",
       " Event(start=2017-03-26 23:59:00, code=9432),\n",
       " Event(start=2017-03-26 23:59:00, code=2028),\n",
       " Event(start=2017-04-04 11:57:00, code=1970),\n",
       " Event(start=2017-04-04 23:59:00, code=14),\n",
       " Event(start=2017-04-04 23:59:00, code=32),\n",
       " Event(start=2017-04-04 23:59:00, code=148),\n",
       " Event(start=2017-04-04 23:59:00, code=2979),\n",
       " Event(start=2017-04-04 23:59:00, code=9432),\n",
       " Event(start=2017-04-04 23:59:00, code=2028),\n",
       " Event(start=2017-04-08 23:59:00, code=32),\n",
       " Event(start=2017-04-08 23:59:00, code=7000),\n",
       " Event(start=2017-04-08 23:59:00, code=8088),\n",
       " Event(start=2017-04-08 23:59:00, code=11057),\n",
       " Event(start=2017-04-08 23:59:00, code=3770),\n",
       " Event(start=2017-04-08 23:59:00, code=4554),\n",
       " Event(start=2017-04-08 23:59:00, code=14838),\n",
       " Event(start=2017-04-08 23:59:00, code=148),\n",
       " Event(start=2017-04-08 23:59:00, code=2979),\n",
       " Event(start=2017-04-08 23:59:00, code=9432),\n",
       " Event(start=2017-04-08 23:59:00, code=2028),\n",
       " Event(start=2017-04-09 08:59:00, code=1970),\n",
       " Event(start=2017-04-09 10:09:00, code=11, value=''),\n",
       " Event(start=2017-04-09 23:59:00, code=14),\n",
       " Event(start=2017-04-09 23:59:00, code=14446),\n",
       " Event(start=2017-04-09 23:59:00, code=2979),\n",
       " Event(start=2017-04-09 23:59:00, code=9432),\n",
       " Event(start=2017-04-09 23:59:00, code=2028),\n",
       " Event(start=2017-04-22 13:51:00, code=11, value=''),\n",
       " Event(start=2017-04-22 23:59:00, code=32),\n",
       " Event(start=2017-04-22 23:59:00, code=14446),\n",
       " Event(start=2017-04-22 23:59:00, code=4634),\n",
       " Event(start=2017-04-22 23:59:00, code=3624),\n",
       " Event(start=2017-04-22 23:59:00, code=4554),\n",
       " Event(start=2017-04-22 23:59:00, code=6056),\n",
       " Event(start=2017-04-22 23:59:00, code=1642),\n",
       " Event(start=2017-04-22 23:59:00, code=2979),\n",
       " Event(start=2017-04-22 23:59:00, code=14084),\n",
       " Event(start=2017-04-22 23:59:00, code=9432),\n",
       " Event(start=2017-04-22 23:59:00, code=2028),\n",
       " Event(start=2018-11-11 08:11:00, code=1970),\n",
       " Event(start=2018-11-11 23:59:00, code=14),\n",
       " Event(start=2018-11-11 23:59:00, code=15618),\n",
       " Event(start=2018-11-25 09:22:00, code=2979),\n",
       " Event(start=2018-11-25 09:22:00, code=9432),\n",
       " Event(start=2018-11-25 23:59:00, code=32),\n",
       " Event(start=2018-11-25 23:59:00, code=14446),\n",
       " Event(start=2018-11-25 23:59:00, code=5887),\n",
       " Event(start=2018-11-25 23:59:00, code=3770),\n",
       " Event(start=2018-11-25 23:59:00, code=4554),\n",
       " Event(start=2018-11-25 23:59:00, code=13271),\n",
       " Event(start=2018-11-25 23:59:00, code=15618),\n",
       " Event(start=2018-11-25 23:59:00, code=2028),\n",
       " Event(start=2018-11-26 16:27:00, code=11, value=''))"
      ]
     },
     "execution_count": 117,
     "metadata": {},
     "output_type": "execute_result"
    }
   ],
   "source": [
    "database[3].events"
   ]
  },
  {
   "cell_type": "code",
   "execution_count": 87,
   "id": "37365a8d-ffcf-4b4c-98ab-2455f73695de",
   "metadata": {},
   "outputs": [
    {
     "data": {
      "text/plain": [
       "1233"
      ]
     },
     "execution_count": 87,
     "metadata": {},
     "output_type": "execute_result"
    }
   ],
   "source": [
    "list(diabetes_codes)[0][1]"
   ]
  },
  {
   "cell_type": "code",
   "execution_count": 95,
   "id": "62c1c671-6858-4e2d-903e-097b898b43fc",
   "metadata": {},
   "outputs": [
    {
     "name": "stdout",
     "output_type": "stream",
     "text": [
      "680\n",
      "24716\n",
      "41731\n",
      "46277\n",
      "72965\n",
      "105903\n"
     ]
    }
   ],
   "source": [
    "for item in ontology.get_children(1233):\n",
    "    print(item)"
   ]
  },
  {
   "cell_type": "code",
   "execution_count": 105,
   "id": "ea886369-bdb6-4f00-ac6f-ad3b32241090",
   "metadata": {},
   "outputs": [
    {
     "data": {
      "text/plain": [
       "408"
      ]
     },
     "execution_count": 105,
     "metadata": {},
     "output_type": "execute_result"
    }
   ],
   "source": [
    "ontology.get_dictionary().index(\"LOINC/4548-4\")"
   ]
  },
  {
   "cell_type": "code",
   "execution_count": 101,
   "id": "e171e6db-55ed-441e-8eeb-b5550493fbe5",
   "metadata": {},
   "outputs": [
    {
     "data": {
      "text/plain": [
       "408"
      ]
     },
     "execution_count": 101,
     "metadata": {},
     "output_type": "execute_result"
    }
   ],
   "source": [
    "database.get_code_dictionary().index(\"LOINC/4548-4\")"
   ]
  },
  {
   "cell_type": "code",
   "execution_count": 103,
   "id": "3552f88c-a630-4d49-bb60-c4081bc3757b",
   "metadata": {},
   "outputs": [],
   "source": [
    "for item in ontology.get_children(408):\n",
    "    print(item)"
   ]
  },
  {
   "cell_type": "code",
   "execution_count": 106,
   "id": "d39f5be1-8bf6-437a-b383-c41ef8301e38",
   "metadata": {},
   "outputs": [
    {
     "name": "stdout",
     "output_type": "stream",
     "text": [
      "408\n",
      "101890\n",
      "102046\n",
      "102047\n",
      "152118\n",
      "152190\n"
     ]
    }
   ],
   "source": [
    "for item in ontology.get_all_parents(408):\n",
    "    print(item)"
   ]
  },
  {
   "cell_type": "code",
   "execution_count": 102,
   "id": "4c9253cf-a53e-4199-98a9-29fa8e94ad5e",
   "metadata": {},
   "outputs": [
    {
     "data": {
      "text/plain": [
       "1643698"
      ]
     },
     "execution_count": 102,
     "metadata": {},
     "output_type": "execute_result"
    }
   ],
   "source": [
    "database.get_code_count(408)"
   ]
  },
  {
   "cell_type": "code",
   "execution_count": 108,
   "id": "66b77cb6-2e95-4b6c-9e11-1318bcf4b51c",
   "metadata": {},
   "outputs": [
    {
     "data": {
      "text/plain": [
       "'LOINC/LG51070-7'"
      ]
     },
     "execution_count": 108,
     "metadata": {},
     "output_type": "execute_result"
    }
   ],
   "source": [
    "bytes(database.get_code_dictionary()[102046]).decode(\"utf-8\")"
   ]
  },
  {
   "cell_type": "code",
   "execution_count": 82,
   "id": "f5a42ece-9efa-4393-b3d7-83a93b1818c3",
   "metadata": {},
   "outputs": [
    {
     "data": {
      "text/plain": [
       "{('SNOMED/44054006', 1233)}"
      ]
     },
     "execution_count": 82,
     "metadata": {},
     "output_type": "execute_result"
    }
   ],
   "source": [
    "diabetes_codes"
   ]
  },
  {
   "cell_type": "code",
   "execution_count": 51,
   "id": "e4bdc82b-5c3a-43a5-bd0e-7604de4721dd",
   "metadata": {},
   "outputs": [],
   "source": [
    "# with open(os.path.join(PATH_TO_SAVE_MATRIX, LABELED_PATIENTS), 'rb') as f:\n",
    "#     labeled_patients = pickle.load(f)\n",
    "\n",
    "# print(len(labeled_patients))"
   ]
  },
  {
   "cell_type": "code",
   "execution_count": 52,
   "id": "d93742c1-43bc-4296-950a-a445c34139a8",
   "metadata": {},
   "outputs": [],
   "source": [
    "feature_matrix, labels, patient_ids = featurized_data[0], featurized_data[1], featurized_data[2]"
   ]
  },
  {
   "cell_type": "code",
   "execution_count": 53,
   "id": "b82ff5ba-ec91-4283-98fe-16fb085e156b",
   "metadata": {},
   "outputs": [
    {
     "data": {
      "text/plain": [
       "(728350,)"
      ]
     },
     "execution_count": 53,
     "metadata": {},
     "output_type": "execute_result"
    }
   ],
   "source": [
    "labels.shape"
   ]
  },
  {
   "cell_type": "code",
   "execution_count": 54,
   "id": "daac8215-4a7a-4fb3-b5f7-fc64576fb97d",
   "metadata": {},
   "outputs": [
    {
     "data": {
      "text/plain": [
       "(728350, 84869)"
      ]
     },
     "execution_count": 54,
     "metadata": {},
     "output_type": "execute_result"
    }
   ],
   "source": [
    "feature_matrix.shape"
   ]
  },
  {
   "cell_type": "code",
   "execution_count": 55,
   "id": "4130abd8-2216-447a-8ef6-42796e829bd2",
   "metadata": {},
   "outputs": [
    {
     "data": {
      "text/plain": [
       "0.12612892153497632"
      ]
     },
     "execution_count": 55,
     "metadata": {},
     "output_type": "execute_result"
    }
   ],
   "source": [
    "labels.sum()/len(labels)"
   ]
  },
  {
   "cell_type": "code",
   "execution_count": 56,
   "id": "d4f52119-5bcf-480a-8f11-bf532dbf63bf",
   "metadata": {},
   "outputs": [
    {
     "data": {
      "text/plain": [
       "(728350, 84869)"
      ]
     },
     "execution_count": 56,
     "metadata": {},
     "output_type": "execute_result"
    }
   ],
   "source": [
    "feature_matrix.shape"
   ]
  },
  {
   "cell_type": "code",
   "execution_count": 57,
   "id": "35ba9958-92ca-40b5-a4d8-0d847c00e503",
   "metadata": {},
   "outputs": [],
   "source": [
    "hashed_pids = np.array([database.compute_split(SEED, pid) for pid in patient_ids])"
   ]
  },
  {
   "cell_type": "code",
   "execution_count": 58,
   "id": "82239428-9020-402a-96f8-add03cb8b143",
   "metadata": {},
   "outputs": [],
   "source": [
    "train_pids_idx = np.where((hashed_pids < 70))[0]\n",
    "dev_pids_idx = np.where(((hashed_pids >= 70) & (hashed_pids < 85)))[0]"
   ]
  },
  {
   "cell_type": "code",
   "execution_count": 59,
   "id": "5d8d055f-ac44-452a-88bd-b45f7b1618b0",
   "metadata": {},
   "outputs": [
    {
     "data": {
      "text/plain": [
       "((511110,), (108492,))"
      ]
     },
     "execution_count": 59,
     "metadata": {},
     "output_type": "execute_result"
    }
   ],
   "source": [
    "train_pids_idx.shape, dev_pids_idx.shape"
   ]
  },
  {
   "cell_type": "code",
   "execution_count": 60,
   "id": "c5567c1a-a0ff-4bf7-aa94-cef4367fd5fe",
   "metadata": {},
   "outputs": [],
   "source": [
    "X_train = feature_matrix[train_pids_idx]\n",
    "y_train = labels[train_pids_idx]\n",
    "X_test = feature_matrix[dev_pids_idx]\n",
    "y_test = labels[dev_pids_idx]"
   ]
  },
  {
   "cell_type": "code",
   "execution_count": 61,
   "id": "38caab0e-2dd9-4ff5-a570-2ccc8467a57e",
   "metadata": {},
   "outputs": [
    {
     "name": "stdout",
     "output_type": "stream",
     "text": [
      "Training Size: (511110, 84869)\n",
      "Testing Size: (108492, 84869)\n"
     ]
    }
   ],
   "source": [
    "print(\"Training Size:\", X_train.shape)\n",
    "print(\"Testing Size:\", X_test.shape)"
   ]
  },
  {
   "cell_type": "code",
   "execution_count": 62,
   "id": "88d1816f-ba2c-4e12-8236-942504147442",
   "metadata": {},
   "outputs": [
    {
     "name": "stdout",
     "output_type": "stream",
     "text": [
      "Prevalence on total dataset: 0.1261\n",
      "Prevalence on training dataset: 0.1263\n",
      "Prevalence on testing dataset: 0.1273\n"
     ]
    }
   ],
   "source": [
    "print(\"Prevalence on total dataset:\", round(sum(labels)/len(labels), 4))\n",
    "print(\"Prevalence on training dataset:\", round(sum(y_train)/len(y_train), 4))\n",
    "print(\"Prevalence on testing dataset:\", round(sum(y_test)/len(y_test), 4))"
   ]
  },
  {
   "cell_type": "code",
   "execution_count": 63,
   "id": "1d7d861b-beb9-4fa4-9a26-d83b15a6e349",
   "metadata": {},
   "outputs": [
    {
     "name": "stderr",
     "output_type": "stream",
     "text": [
      "/home/rthapa84/.conda/envs/PITON_ENV/lib/python3.10/site-packages/sklearn/linear_model/_logistic.py:444: ConvergenceWarning: lbfgs failed to converge (status=1):\n",
      "STOP: TOTAL NO. of ITERATIONS REACHED LIMIT.\n",
      "\n",
      "Increase the number of iterations (max_iter) or scale the data as shown in:\n",
      "    https://scikit-learn.org/stable/modules/preprocessing.html\n",
      "Please also refer to the documentation for alternative solver options:\n",
      "    https://scikit-learn.org/stable/modules/linear_model.html#logistic-regression\n",
      "  n_iter_i = _check_optimize_result(\n"
     ]
    },
    {
     "name": "stdout",
     "output_type": "stream",
     "text": [
      "0.7692621642098408 0.5005856835622114\n"
     ]
    }
   ],
   "source": [
    "# Logistic Regresion\n",
    "model = LogisticRegression().fit(X_train, y_train)\n",
    "y_pred_proba = model.predict_proba(X_test)[::,1]\n",
    "auroc = metrics.roc_auc_score(y_test, y_pred_proba)\n",
    "precision, recall, thresholds = precision_recall_curve(y_test, y_pred_proba)\n",
    "auc_precision_recall = auc(recall, precision)\n",
    "print(auroc, auc_precision_recall)"
   ]
  },
  {
   "cell_type": "code",
   "execution_count": 64,
   "id": "bde1ce2f-9acd-4872-b615-164005a043de",
   "metadata": {},
   "outputs": [
    {
     "name": "stdout",
     "output_type": "stream",
     "text": [
      "0.9146576911645753 0.6700984332975418\n"
     ]
    }
   ],
   "source": [
    "model = xgb.XGBClassifier()\n",
    "model.fit(X_train, y_train)\n",
    "y_pred_proba = model.predict_proba(X_test)[::,1]\n",
    "auroc = metrics.roc_auc_score(y_test, y_pred_proba)\n",
    "precision, recall, thresholds = precision_recall_curve(y_test, y_pred_proba)\n",
    "auc_precision_recall = auc(recall, precision)\n",
    "print(auroc, auc_precision_recall)"
   ]
  },
  {
   "cell_type": "code",
   "execution_count": 65,
   "id": "f63c2260-dd0f-4980-8b7a-1911ea07cedd",
   "metadata": {},
   "outputs": [
    {
     "name": "stdout",
     "output_type": "stream",
     "text": [
      "0.9241498525167235 0.6974471333309197\n"
     ]
    }
   ],
   "source": [
    "model = lgbm.LGBMClassifier()\n",
    "model.fit(X_train, y_train)\n",
    "y_pred_proba = model.predict_proba(X_test)[::,1]\n",
    "auroc = metrics.roc_auc_score(y_test, y_pred_proba)\n",
    "precision, recall, thresholds = precision_recall_curve(y_test, y_pred_proba)\n",
    "auc_precision_recall = auc(recall, precision)\n",
    "print(auroc, auc_precision_recall)"
   ]
  },
  {
   "cell_type": "markdown",
   "id": "f4b1a3bb-e324-4ec8-9dc9-f11a01b710fd",
   "metadata": {},
   "source": [
    "On Training Set"
   ]
  },
  {
   "cell_type": "code",
   "execution_count": 66,
   "id": "af7cd29b-f842-48ad-8377-aa9c4749ea1b",
   "metadata": {},
   "outputs": [
    {
     "name": "stderr",
     "output_type": "stream",
     "text": [
      "/home/rthapa84/.conda/envs/PITON_ENV/lib/python3.10/site-packages/sklearn/linear_model/_logistic.py:444: ConvergenceWarning: lbfgs failed to converge (status=1):\n",
      "STOP: TOTAL NO. of ITERATIONS REACHED LIMIT.\n",
      "\n",
      "Increase the number of iterations (max_iter) or scale the data as shown in:\n",
      "    https://scikit-learn.org/stable/modules/preprocessing.html\n",
      "Please also refer to the documentation for alternative solver options:\n",
      "    https://scikit-learn.org/stable/modules/linear_model.html#logistic-regression\n",
      "  n_iter_i = _check_optimize_result(\n"
     ]
    },
    {
     "name": "stdout",
     "output_type": "stream",
     "text": [
      "0.8422722542474823 0.6371506462510677\n"
     ]
    }
   ],
   "source": [
    "# Logistic Regresion\n",
    "model = LogisticRegression().fit(X_train, y_train)\n",
    "y_pred_proba = model.predict_proba(X_train)[::,1]\n",
    "auroc = metrics.roc_auc_score(y_train, y_pred_proba)\n",
    "precision, recall, thresholds = precision_recall_curve(y_train, y_pred_proba)\n",
    "auc_precision_recall = auc(recall, precision)\n",
    "print(auroc, auc_precision_recall)"
   ]
  },
  {
   "cell_type": "code",
   "execution_count": 67,
   "id": "4907f2b3-552f-4fbb-bfff-9a90f039fbd4",
   "metadata": {},
   "outputs": [
    {
     "name": "stdout",
     "output_type": "stream",
     "text": [
      "0.9830657658257993 0.9387466993513065\n"
     ]
    }
   ],
   "source": [
    "model = xgb.XGBClassifier()\n",
    "model.fit(X_train, y_train)\n",
    "y_pred_proba = model.predict_proba(X_train)[::,1]\n",
    "auroc = metrics.roc_auc_score(y_train, y_pred_proba)\n",
    "precision, recall, thresholds = precision_recall_curve(y_train, y_pred_proba)\n",
    "auc_precision_recall = auc(recall, precision)\n",
    "print(auroc, auc_precision_recall)"
   ]
  },
  {
   "cell_type": "code",
   "execution_count": 68,
   "id": "a6457959-a56d-4ffa-b408-ea22f5a72416",
   "metadata": {},
   "outputs": [
    {
     "name": "stdout",
     "output_type": "stream",
     "text": [
      "0.9693857946319062 0.8839694913511226\n"
     ]
    }
   ],
   "source": [
    "model = lgbm.LGBMClassifier()\n",
    "model.fit(X_train, y_train)\n",
    "y_pred_proba = model.predict_proba(X_train)[::,1]\n",
    "auroc = metrics.roc_auc_score(y_train, y_pred_proba)\n",
    "precision, recall, thresholds = precision_recall_curve(y_train, y_pred_proba)\n",
    "auc_precision_recall = auc(recall, precision)\n",
    "print(auroc, auc_precision_recall)"
   ]
  },
  {
   "cell_type": "code",
   "execution_count": null,
   "id": "7a869135-3614-497f-aa09-2e3dd0d08584",
   "metadata": {},
   "outputs": [],
   "source": []
  }
 ],
 "metadata": {
  "kernelspec": {
   "display_name": "Python 3 (ipykernel)",
   "language": "python",
   "name": "python3"
  },
  "language_info": {
   "codemirror_mode": {
    "name": "ipython",
    "version": 3
   },
   "file_extension": ".py",
   "mimetype": "text/x-python",
   "name": "python",
   "nbconvert_exporter": "python",
   "pygments_lexer": "ipython3",
   "version": "3.10.6"
  }
 },
 "nbformat": 4,
 "nbformat_minor": 5
}
