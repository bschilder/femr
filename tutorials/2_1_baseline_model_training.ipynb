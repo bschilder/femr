{
 "cells": [
  {
   "cell_type": "code",
   "execution_count": 1,
   "id": "3ff0e6ff-af85-4aac-86a2-36810a2d8438",
   "metadata": {},
   "outputs": [],
   "source": [
    "%load_ext autoreload\n",
    "%autoreload 2"
   ]
  },
  {
   "cell_type": "code",
   "execution_count": 33,
   "id": "d1253f50-3b39-404b-8ffc-1ae6b792aea7",
   "metadata": {},
   "outputs": [],
   "source": [
    "import datetime\n",
    "import os\n",
    "from typing import List, Tuple\n",
    "import pickle\n",
    "\n",
    "import numpy as np\n",
    "from sklearn import metrics\n",
    "\n",
    "import piton\n",
    "import piton.datasets\n",
    "\n",
    "from sklearn.linear_model import LogisticRegression\n",
    "from sklearn.model_selection import train_test_split\n",
    "from sklearn.metrics import f1_score\n",
    "from sklearn.metrics import average_precision_score, precision_recall_curve\n",
    "from sklearn.metrics import auc, plot_precision_recall_curve\n",
    "from tqdm import tqdm\n",
    "import xgboost as xgb\n",
    "import lightgbm as lgbm"
   ]
  },
  {
   "cell_type": "code",
   "execution_count": 7,
   "id": "b8b7e930-d71f-4cd8-b228-8804b4014b0e",
   "metadata": {},
   "outputs": [],
   "source": [
    "PATH_TO_PITON_DB = '/share/pi/nigam/data/som-rit-phi-starr-prod.starr_omop_cdm5_deid_2022_09_05_extract2'\n",
    "PATH_TO_SAVE_MATRIX = \"/share/pi/nigam/rthapa84/data\"\n",
    "LABELED_PATIENTS = \"diabetes_labeled_patients_v5.pickle\"\n",
    "FEATURIZED_DATA = \"diabetes_featurized_patients_v5.pickle\"\n",
    "SEED = 97"
   ]
  },
  {
   "cell_type": "code",
   "execution_count": 8,
   "id": "d556021c-a934-456e-b6eb-954a239dece5",
   "metadata": {},
   "outputs": [
    {
     "name": "stdout",
     "output_type": "stream",
     "text": [
      "Data loaded\n"
     ]
    }
   ],
   "source": [
    "# Patient database\n",
    "database = piton.datasets.PatientDatabase(PATH_TO_PITON_DB)\n",
    "\n",
    "with open(os.path.join(PATH_TO_SAVE_MATRIX, FEATURIZED_DATA), 'rb') as f:\n",
    "    featurized_data = pickle.load(f)\n",
    "\n",
    "print(\"Data loaded\")"
   ]
  },
  {
   "cell_type": "code",
   "execution_count": 45,
   "id": "e4bdc82b-5c3a-43a5-bd0e-7604de4721dd",
   "metadata": {},
   "outputs": [
    {
     "name": "stdout",
     "output_type": "stream",
     "text": [
      "236818\n"
     ]
    }
   ],
   "source": [
    "with open(os.path.join(PATH_TO_SAVE_MATRIX, LABELED_PATIENTS), 'rb') as f:\n",
    "    labeled_patients = pickle.load(f)\n",
    "\n",
    "print(len(labeled_patients))"
   ]
  },
  {
   "cell_type": "code",
   "execution_count": 47,
   "id": "0ce255db-d072-4fe8-8c01-6fe700a36b0f",
   "metadata": {},
   "outputs": [
    {
     "data": {
      "text/plain": [
       "KeysView(<piton.labelers.core.LabeledPatients object at 0x7fd3437271f0>)"
      ]
     },
     "execution_count": 47,
     "metadata": {},
     "output_type": "execute_result"
    }
   ],
   "source": []
  },
  {
   "cell_type": "code",
   "execution_count": 9,
   "id": "d93742c1-43bc-4296-950a-a445c34139a8",
   "metadata": {},
   "outputs": [],
   "source": [
    "feature_matrix, labels, patient_ids = featurized_data[0], featurized_data[1], featurized_data[2]"
   ]
  },
  {
   "cell_type": "code",
   "execution_count": 43,
   "id": "b82ff5ba-ec91-4283-98fe-16fb085e156b",
   "metadata": {},
   "outputs": [
    {
     "data": {
      "text/plain": [
       "(713145,)"
      ]
     },
     "execution_count": 43,
     "metadata": {},
     "output_type": "execute_result"
    }
   ],
   "source": [
    "labels.shape"
   ]
  },
  {
   "cell_type": "code",
   "execution_count": 44,
   "id": "daac8215-4a7a-4fb3-b5f7-fc64576fb97d",
   "metadata": {},
   "outputs": [
    {
     "data": {
      "text/plain": [
       "(713145, 84741)"
      ]
     },
     "execution_count": 44,
     "metadata": {},
     "output_type": "execute_result"
    }
   ],
   "source": [
    "feature_matrix.shape"
   ]
  },
  {
   "cell_type": "code",
   "execution_count": 38,
   "id": "4130abd8-2216-447a-8ef6-42796e829bd2",
   "metadata": {},
   "outputs": [
    {
     "data": {
      "text/plain": [
       "0.1714756466076324"
      ]
     },
     "execution_count": 38,
     "metadata": {},
     "output_type": "execute_result"
    }
   ],
   "source": [
    "labels.sum()/len(labels)"
   ]
  },
  {
   "cell_type": "code",
   "execution_count": 10,
   "id": "d4f52119-5bcf-480a-8f11-bf532dbf63bf",
   "metadata": {},
   "outputs": [
    {
     "data": {
      "text/plain": [
       "(713145, 84741)"
      ]
     },
     "execution_count": 10,
     "metadata": {},
     "output_type": "execute_result"
    }
   ],
   "source": [
    "feature_matrix.shape"
   ]
  },
  {
   "cell_type": "code",
   "execution_count": 14,
   "id": "35ba9958-92ca-40b5-a4d8-0d847c00e503",
   "metadata": {},
   "outputs": [],
   "source": [
    "hashed_pids = np.array([database.compute_split(SEED, pid) for pid in patient_ids])"
   ]
  },
  {
   "cell_type": "code",
   "execution_count": 19,
   "id": "82239428-9020-402a-96f8-add03cb8b143",
   "metadata": {},
   "outputs": [],
   "source": [
    "train_pids_idx = np.where((hashed_pids < 70))[0]\n",
    "dev_pids_idx = np.where(((hashed_pids >= 70) & (hashed_pids < 85)))[0]"
   ]
  },
  {
   "cell_type": "code",
   "execution_count": 21,
   "id": "5d8d055f-ac44-452a-88bd-b45f7b1618b0",
   "metadata": {},
   "outputs": [
    {
     "data": {
      "text/plain": [
       "((499916,), (105924,))"
      ]
     },
     "execution_count": 21,
     "metadata": {},
     "output_type": "execute_result"
    }
   ],
   "source": [
    "train_pids_idx.shape, dev_pids_idx.shape"
   ]
  },
  {
   "cell_type": "code",
   "execution_count": 24,
   "id": "c5567c1a-a0ff-4bf7-aa94-cef4367fd5fe",
   "metadata": {},
   "outputs": [],
   "source": [
    "X_train = feature_matrix[train_pids_idx]\n",
    "y_train = labels[train_pids_idx]\n",
    "X_test = feature_matrix[dev_pids_idx]\n",
    "y_test = labels[dev_pids_idx]"
   ]
  },
  {
   "cell_type": "code",
   "execution_count": 39,
   "id": "38caab0e-2dd9-4ff5-a570-2ccc8467a57e",
   "metadata": {},
   "outputs": [
    {
     "name": "stdout",
     "output_type": "stream",
     "text": [
      "Training Size: (499916, 84741)\n",
      "Testing Size: (105924, 84741)\n"
     ]
    }
   ],
   "source": [
    "print(\"Training Size:\", X_train.shape)\n",
    "print(\"Testing Size:\", X_test.shape)"
   ]
  },
  {
   "cell_type": "code",
   "execution_count": 28,
   "id": "88d1816f-ba2c-4e12-8236-942504147442",
   "metadata": {},
   "outputs": [
    {
     "name": "stdout",
     "output_type": "stream",
     "text": [
      "Prevalence on total dataset: 0.1715\n",
      "Prevalence on training dataset: 0.1708\n",
      "Prevalence on testing dataset: 0.1653\n"
     ]
    }
   ],
   "source": [
    "print(\"Prevalence on total dataset:\", round(sum(labels)/len(labels), 4))\n",
    "print(\"Prevalence on training dataset:\", round(sum(y_train)/len(y_train), 4))\n",
    "print(\"Prevalence on testing dataset:\", round(sum(y_test)/len(y_test), 4))"
   ]
  },
  {
   "cell_type": "code",
   "execution_count": 35,
   "id": "1d7d861b-beb9-4fa4-9a26-d83b15a6e349",
   "metadata": {},
   "outputs": [
    {
     "name": "stderr",
     "output_type": "stream",
     "text": [
      "/home/rthapa84/.conda/envs/PITON_ENV/lib/python3.10/site-packages/sklearn/linear_model/_logistic.py:444: ConvergenceWarning: lbfgs failed to converge (status=1):\n",
      "STOP: TOTAL NO. of ITERATIONS REACHED LIMIT.\n",
      "\n",
      "Increase the number of iterations (max_iter) or scale the data as shown in:\n",
      "    https://scikit-learn.org/stable/modules/preprocessing.html\n",
      "Please also refer to the documentation for alternative solver options:\n",
      "    https://scikit-learn.org/stable/modules/linear_model.html#logistic-regression\n",
      "  n_iter_i = _check_optimize_result(\n"
     ]
    },
    {
     "name": "stdout",
     "output_type": "stream",
     "text": [
      "0.8951867139458299 0.7705493955475127\n"
     ]
    }
   ],
   "source": [
    "# Logistic Regresion\n",
    "model = LogisticRegression().fit(X_train, y_train)\n",
    "y_pred_proba = model.predict_proba(X_test)[::,1]\n",
    "auroc = metrics.roc_auc_score(y_test, y_pred_proba)\n",
    "precision, recall, thresholds = precision_recall_curve(y_test, y_pred_proba)\n",
    "auc_precision_recall = auc(recall, precision)\n",
    "print(auroc, auc_precision_recall)"
   ]
  },
  {
   "cell_type": "code",
   "execution_count": 36,
   "id": "bde1ce2f-9acd-4872-b615-164005a043de",
   "metadata": {},
   "outputs": [
    {
     "name": "stdout",
     "output_type": "stream",
     "text": [
      "0.9597899473675853 0.8752171354254592\n"
     ]
    }
   ],
   "source": [
    "model = xgb.XGBClassifier()\n",
    "model.fit(X_train, y_train)\n",
    "y_pred_proba = model.predict_proba(X_test)[::,1]\n",
    "auroc = metrics.roc_auc_score(y_test, y_pred_proba)\n",
    "precision, recall, thresholds = precision_recall_curve(y_test, y_pred_proba)\n",
    "auc_precision_recall = auc(recall, precision)\n",
    "print(auroc, auc_precision_recall)"
   ]
  },
  {
   "cell_type": "code",
   "execution_count": 37,
   "id": "f63c2260-dd0f-4980-8b7a-1911ea07cedd",
   "metadata": {},
   "outputs": [
    {
     "name": "stdout",
     "output_type": "stream",
     "text": [
      "0.9645770698195877 0.8826291947565964\n"
     ]
    }
   ],
   "source": [
    "model = lgbm.LGBMClassifier()\n",
    "model.fit(X_train, y_train)\n",
    "y_pred_proba = model.predict_proba(X_test)[::,1]\n",
    "auroc = metrics.roc_auc_score(y_test, y_pred_proba)\n",
    "precision, recall, thresholds = precision_recall_curve(y_test, y_pred_proba)\n",
    "auc_precision_recall = auc(recall, precision)\n",
    "print(auroc, auc_precision_recall)"
   ]
  },
  {
   "cell_type": "markdown",
   "id": "f4b1a3bb-e324-4ec8-9dc9-f11a01b710fd",
   "metadata": {},
   "source": [
    "On Training Set"
   ]
  },
  {
   "cell_type": "code",
   "execution_count": 40,
   "id": "af7cd29b-f842-48ad-8377-aa9c4749ea1b",
   "metadata": {},
   "outputs": [
    {
     "name": "stderr",
     "output_type": "stream",
     "text": [
      "/home/rthapa84/.conda/envs/PITON_ENV/lib/python3.10/site-packages/sklearn/linear_model/_logistic.py:444: ConvergenceWarning: lbfgs failed to converge (status=1):\n",
      "STOP: TOTAL NO. of ITERATIONS REACHED LIMIT.\n",
      "\n",
      "Increase the number of iterations (max_iter) or scale the data as shown in:\n",
      "    https://scikit-learn.org/stable/modules/preprocessing.html\n",
      "Please also refer to the documentation for alternative solver options:\n",
      "    https://scikit-learn.org/stable/modules/linear_model.html#logistic-regression\n",
      "  n_iter_i = _check_optimize_result(\n"
     ]
    },
    {
     "name": "stdout",
     "output_type": "stream",
     "text": [
      "0.9458851736876972 0.8625296935660999\n"
     ]
    }
   ],
   "source": [
    "# Logistic Regresion\n",
    "model = LogisticRegression().fit(X_train, y_train)\n",
    "y_pred_proba = model.predict_proba(X_train)[::,1]\n",
    "auroc = metrics.roc_auc_score(y_train, y_pred_proba)\n",
    "precision, recall, thresholds = precision_recall_curve(y_train, y_pred_proba)\n",
    "auc_precision_recall = auc(recall, precision)\n",
    "print(auroc, auc_precision_recall)"
   ]
  },
  {
   "cell_type": "code",
   "execution_count": 41,
   "id": "4907f2b3-552f-4fbb-bfff-9a90f039fbd4",
   "metadata": {},
   "outputs": [
    {
     "name": "stdout",
     "output_type": "stream",
     "text": [
      "0.9917347476093102 0.9722929534102924\n"
     ]
    }
   ],
   "source": [
    "model = xgb.XGBClassifier()\n",
    "model.fit(X_train, y_train)\n",
    "y_pred_proba = model.predict_proba(X_train)[::,1]\n",
    "auroc = metrics.roc_auc_score(y_train, y_pred_proba)\n",
    "precision, recall, thresholds = precision_recall_curve(y_train, y_pred_proba)\n",
    "auc_precision_recall = auc(recall, precision)\n",
    "print(auroc, auc_precision_recall)"
   ]
  },
  {
   "cell_type": "code",
   "execution_count": 42,
   "id": "a6457959-a56d-4ffa-b408-ea22f5a72416",
   "metadata": {},
   "outputs": [
    {
     "name": "stdout",
     "output_type": "stream",
     "text": [
      "0.9863995471868983 0.952022986630187\n"
     ]
    }
   ],
   "source": [
    "model = lgbm.LGBMClassifier()\n",
    "model.fit(X_train, y_train)\n",
    "y_pred_proba = model.predict_proba(X_train)[::,1]\n",
    "auroc = metrics.roc_auc_score(y_train, y_pred_proba)\n",
    "precision, recall, thresholds = precision_recall_curve(y_train, y_pred_proba)\n",
    "auc_precision_recall = auc(recall, precision)\n",
    "print(auroc, auc_precision_recall)"
   ]
  },
  {
   "cell_type": "code",
   "execution_count": null,
   "id": "7a869135-3614-497f-aa09-2e3dd0d08584",
   "metadata": {},
   "outputs": [],
   "source": []
  }
 ],
 "metadata": {
  "kernelspec": {
   "display_name": "Python 3 (ipykernel)",
   "language": "python",
   "name": "python3"
  },
  "language_info": {
   "codemirror_mode": {
    "name": "ipython",
    "version": 3
   },
   "file_extension": ".py",
   "mimetype": "text/x-python",
   "name": "python",
   "nbconvert_exporter": "python",
   "pygments_lexer": "ipython3",
   "version": "3.10.6"
  }
 },
 "nbformat": 4,
 "nbformat_minor": 5
}
