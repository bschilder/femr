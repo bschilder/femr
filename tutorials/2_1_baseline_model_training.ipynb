{
 "cells": [
  {
   "cell_type": "code",
   "execution_count": 1,
   "id": "3ff0e6ff-af85-4aac-86a2-36810a2d8438",
   "metadata": {},
   "outputs": [],
   "source": [
    "%load_ext autoreload\n",
    "%autoreload 2"
   ]
  },
  {
   "cell_type": "code",
   "execution_count": 2,
   "id": "d1253f50-3b39-404b-8ffc-1ae6b792aea7",
   "metadata": {},
   "outputs": [],
   "source": [
    "import datetime\n",
    "import os\n",
    "from typing import List, Tuple\n",
    "import pickle\n",
    "\n",
    "import numpy as np\n",
    "from sklearn import metrics\n",
    "\n",
    "import piton\n",
    "\n",
    "from sklearn.linear_model import LogisticRegression\n",
    "from sklearn.model_selection import train_test_split\n",
    "from sklearn.metrics import f1_score\n",
    "from tqdm import tqdm\n",
    "import xgboost as xgb\n",
    "import lightgbm as lgbm"
   ]
  },
  {
   "cell_type": "code",
   "execution_count": 3,
   "id": "b8b7e930-d71f-4cd8-b228-8804b4014b0e",
   "metadata": {},
   "outputs": [],
   "source": [
    "with open(\"/share/pi/nigam/rthapa84/data/test_diabetes_matrix.pickle\", \"rb\") as f:\n",
    "    featurized_data = pickle.load(f)"
   ]
  },
  {
   "cell_type": "code",
   "execution_count": 4,
   "id": "d556021c-a934-456e-b6eb-954a239dece5",
   "metadata": {},
   "outputs": [
    {
     "data": {
      "text/plain": [
       "4"
      ]
     },
     "execution_count": 4,
     "metadata": {},
     "output_type": "execute_result"
    }
   ],
   "source": [
    "len(featurized_data)"
   ]
  },
  {
   "cell_type": "code",
   "execution_count": 5,
   "id": "d93742c1-43bc-4296-950a-a445c34139a8",
   "metadata": {},
   "outputs": [],
   "source": [
    "feature_matrix = featurized_data[0]"
   ]
  },
  {
   "cell_type": "code",
   "execution_count": 6,
   "id": "d4f52119-5bcf-480a-8f11-bf532dbf63bf",
   "metadata": {},
   "outputs": [
    {
     "data": {
      "text/plain": [
       "<714493x84743 sparse matrix of type '<class 'numpy.float32'>'\n",
       "\twith 758328866 stored elements in Compressed Sparse Row format>"
      ]
     },
     "execution_count": 6,
     "metadata": {},
     "output_type": "execute_result"
    }
   ],
   "source": [
    "feature_matrix"
   ]
  },
  {
   "cell_type": "code",
   "execution_count": 7,
   "id": "1d27ac9c-b463-4eaf-aff8-a281373256f9",
   "metadata": {},
   "outputs": [
    {
     "data": {
      "text/plain": [
       "(714493, 84743)"
      ]
     },
     "execution_count": 7,
     "metadata": {},
     "output_type": "execute_result"
    }
   ],
   "source": [
    "feature_matrix.shape"
   ]
  },
  {
   "cell_type": "code",
   "execution_count": 8,
   "id": "2ccd4825-2af5-4d46-9e45-38888e30dfc8",
   "metadata": {},
   "outputs": [],
   "source": [
    "labels, patient_ids = featurized_data[1], featurized_data[2]"
   ]
  },
  {
   "cell_type": "code",
   "execution_count": 9,
   "id": "e8de5dd0-6999-4973-931d-bdf62ec1726b",
   "metadata": {},
   "outputs": [
    {
     "data": {
      "text/plain": [
       "714493"
      ]
     },
     "execution_count": 9,
     "metadata": {},
     "output_type": "execute_result"
    }
   ],
   "source": [
    "len(patient_ids)"
   ]
  },
  {
   "cell_type": "code",
   "execution_count": 10,
   "id": "427f8bac-e6a4-4c93-a3e8-fe1f56e1f275",
   "metadata": {},
   "outputs": [
    {
     "data": {
      "text/plain": [
       "236931"
      ]
     },
     "execution_count": 10,
     "metadata": {},
     "output_type": "execute_result"
    }
   ],
   "source": [
    "patient_ids_unique = list(set(patient_ids))\n",
    "len(patient_ids_unique)"
   ]
  },
  {
   "cell_type": "code",
   "execution_count": 11,
   "id": "44712dd1-2fa7-4840-bb48-12e3f1e05c6c",
   "metadata": {},
   "outputs": [],
   "source": [
    "train_patient_ids, test_patient_ids = train_test_split(patient_ids_unique, train_size = 0.8)"
   ]
  },
  {
   "cell_type": "code",
   "execution_count": 12,
   "id": "40b5f5c4-a11f-4aa5-85fc-443c2aae83af",
   "metadata": {},
   "outputs": [
    {
     "data": {
      "text/plain": [
       "714493"
      ]
     },
     "execution_count": 12,
     "metadata": {},
     "output_type": "execute_result"
    }
   ],
   "source": [
    "len(patient_ids)"
   ]
  },
  {
   "cell_type": "code",
   "execution_count": 13,
   "id": "8fee917f-ebb0-481b-8b1b-de4313df103a",
   "metadata": {},
   "outputs": [
    {
     "data": {
      "text/plain": [
       "array([2457392, 2457427, 2457427, 2457427, 2457427, 2457437, 2457437,\n",
       "       2457437, 2457437, 2457437], dtype=int32)"
      ]
     },
     "execution_count": 13,
     "metadata": {},
     "output_type": "execute_result"
    }
   ],
   "source": [
    "patient_ids[:10]"
   ]
  },
  {
   "cell_type": "code",
   "execution_count": 14,
   "id": "582972ca-5459-4172-a365-77bc951dd4dd",
   "metadata": {},
   "outputs": [],
   "source": [
    "train_bool_mask = np.in1d(patient_ids, train_patient_ids)\n",
    "test_bool_mask = np.in1d(patient_ids, test_patient_ids)"
   ]
  },
  {
   "cell_type": "code",
   "execution_count": null,
   "id": "bf68a63b-e29a-40d8-8392-1cb392be77bd",
   "metadata": {},
   "outputs": [],
   "source": [
    "X_train = feature_matrix[train_bool_mask]\n",
    "y_train = labels[train_bool_mask]"
   ]
  },
  {
   "cell_type": "code",
   "execution_count": null,
   "id": "b64897d8-705d-471e-9223-25076ff063b4",
   "metadata": {},
   "outputs": [],
   "source": [
    "X_train.shape"
   ]
  },
  {
   "cell_type": "code",
   "execution_count": null,
   "id": "3624f11d-c6d7-4d9f-a62f-dc57977cca91",
   "metadata": {},
   "outputs": [],
   "source": [
    "X_test = feature_matrix[test_bool_mask]\n",
    "y_test = labels[test_bool_mask]"
   ]
  },
  {
   "cell_type": "code",
   "execution_count": null,
   "id": "c0ae8d5b-cd17-47d0-aba4-9bab41cf604e",
   "metadata": {},
   "outputs": [],
   "source": [
    "X_train.shape, X_test.shape, y_train.shape, y_test.shape"
   ]
  },
  {
   "cell_type": "code",
   "execution_count": null,
   "id": "191dd403-1450-4e14-87c5-7a36061dacb5",
   "metadata": {},
   "outputs": [],
   "source": [
    "y_train.sum(), y_test.sum()"
   ]
  },
  {
   "cell_type": "code",
   "execution_count": null,
   "id": "4c4680ca-cba2-46db-9f47-dd63ccd82321",
   "metadata": {},
   "outputs": [],
   "source": [
    "print(\"Prevalence on total dataset:\", sum(labels)/len(labels))\n",
    "print(\"Prevalence on training dataset:\", sum(y_train)/len(y_train))\n",
    "print(\"Prevalence on testing dataset:\", sum(y_test)/len(y_test))"
   ]
  },
  {
   "cell_type": "code",
   "execution_count": null,
   "id": "8ab75d6c-5d04-46d0-9ad2-e7a68f002c4f",
   "metadata": {},
   "outputs": [],
   "source": [
    "# Logistic Regresion\n",
    "model = LogisticRegression().fit(X_train, y_train)\n",
    "y_pred_proba = model.predict_proba(X_test)[::,1]\n",
    "auc = metrics.roc_auc_score(y_test, y_pred_proba)\n",
    "print(auc)"
   ]
  },
  {
   "cell_type": "code",
   "execution_count": null,
   "id": "2ed9251f-6688-4103-a87e-0a4310969de6",
   "metadata": {},
   "outputs": [],
   "source": [
    "# XGBoost\n",
    "# params = {\n",
    "#     \"n_estimators\": 50, \n",
    "#     \"max_depth\": 2\n",
    "# }\n",
    "\n",
    "model = xgb.XGBClassifier()\n",
    "model.fit(X_train, y_train)\n",
    "y_pred_proba = model.predict_proba(X_test)[::,1]\n",
    "auc = metrics.roc_auc_score(y_test, y_pred_proba)\n",
    "print(auc)"
   ]
  },
  {
   "cell_type": "code",
   "execution_count": null,
   "id": "8bbb2be0-ed7b-4610-ba92-aa2ddeafb4a5",
   "metadata": {},
   "outputs": [],
   "source": [
    "# LightGBM\n"
   ]
  }
 ],
 "metadata": {
  "kernelspec": {
   "display_name": "Python 3 (ipykernel)",
   "language": "python",
   "name": "python3"
  },
  "language_info": {
   "codemirror_mode": {
    "name": "ipython",
    "version": 3
   },
   "file_extension": ".py",
   "mimetype": "text/x-python",
   "name": "python",
   "nbconvert_exporter": "python",
   "pygments_lexer": "ipython3",
   "version": "3.10.6"
  }
 },
 "nbformat": 4,
 "nbformat_minor": 5
}
