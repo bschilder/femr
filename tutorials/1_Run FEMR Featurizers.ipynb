{
 "cells": [
  {
   "attachments": {},
   "cell_type": "markdown",
   "metadata": {},
   "source": [
    "\n",
    "Prereq: you get a PatientDatabase by writing an ETL script. This is saved to disk\n",
    "\n",
    "First we label a PatientDatabase with Labelers. These labels are specific to a dataset, and you can define your own custom labeler\n",
    "\n",
    "Second we take labels and use a Featurizer on them."
   ]
  },
  {
   "cell_type": "code",
   "execution_count": null,
   "metadata": {},
   "outputs": [],
   "source": [
    "from femr import labelers as L\n",
    "\n",
    "L.omop_lab_values.AcuteKidneyInjuryLabValueLabeler"
   ]
  },
  {
   "cell_type": "markdown",
   "metadata": {},
   "source": []
  }
 ],
 "metadata": {
  "kernelspec": {
   "display_name": "FEMR_TEST_1",
   "language": "python",
   "name": "python3"
  },
  "language_info": {
   "codemirror_mode": {
    "name": "ipython",
    "version": 3
   },
   "file_extension": ".py",
   "mimetype": "text/x-python",
   "name": "python",
   "nbconvert_exporter": "python",
   "pygments_lexer": "ipython3",
   "version": "3.10.10"
  }
 },
 "nbformat": 4,
 "nbformat_minor": 2
}
