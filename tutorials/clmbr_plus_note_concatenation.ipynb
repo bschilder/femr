{
 "cells": [
  {
   "cell_type": "code",
   "execution_count": 1,
   "id": "21dbd6aa-b839-47c9-b6ee-41e5400cf867",
   "metadata": {},
   "outputs": [],
   "source": [
    "%load_ext autoreload\n",
    "%autoreload 2"
   ]
  },
  {
   "cell_type": "code",
   "execution_count": 2,
   "id": "57b23722-0cf5-49f2-a162-d8af8316ac3e",
   "metadata": {},
   "outputs": [],
   "source": [
    "import pickle\n",
    "import sklearn\n",
    "import piton.datasets\n",
    "import sklearn.linear_model\n",
    "import sklearn.metrics\n",
    "import numpy as np"
   ]
  },
  {
   "cell_type": "code",
   "execution_count": 6,
   "id": "c1e51abb-4ea7-4141-b62f-2c74cfcce4c9",
   "metadata": {},
   "outputs": [],
   "source": [
    "features_path = \"/local-scratch/nigam/projects/ethanid/piton/native/hba1c_reps\"\n",
    "labels_path = \"/local-scratch/nigam/projects/ethanid/gpu_experiments/mortality_labeled_patients_v1.pickle\"\n",
    "labels_path = \"/local-scratch/nigam/projects/ethanid/gpu_experiments/HighHbA1c_labeled_patients_v3.pickle\"\n",
    "data_path = \"/local-scratch/nigam/projects/ethanid/som-rit-phi-starr-prod.starr_omop_cdm5_deid_2022_09_05_extract2\""
   ]
  },
  {
   "cell_type": "code",
   "execution_count": 7,
   "id": "16c620a5-24fe-4e5c-892f-897f4a1b873f",
   "metadata": {},
   "outputs": [],
   "source": [
    "data = piton.datasets.PatientDatabase(data_path)"
   ]
  },
  {
   "cell_type": "code",
   "execution_count": 8,
   "id": "c18cac0a-b737-4bb2-a32c-4665bbbf2e09",
   "metadata": {},
   "outputs": [],
   "source": [
    "with open(features_path, \"rb\") as f:\n",
    "    features = pickle.load(f)"
   ]
  },
  {
   "cell_type": "code",
   "execution_count": 9,
   "id": "4e6990cf-b0e4-4123-98b1-3fa3cad8255d",
   "metadata": {},
   "outputs": [
    {
     "data": {
      "text/plain": [
       "dict_keys(['data_path', 'model', 'data_matrix', 'patient_ids', 'labeling_time'])"
      ]
     },
     "execution_count": 9,
     "metadata": {},
     "output_type": "execute_result"
    }
   ],
   "source": [
    "features.keys()"
   ]
  },
  {
   "cell_type": "code",
   "execution_count": 10,
   "id": "75e168fb-7366-48c7-9fd4-ffd56ee7d29f",
   "metadata": {},
   "outputs": [],
   "source": [
    "with open(labels_path, \"rb\") as f:\n",
    "    labeled_patients = pickle.load(f)"
   ]
  },
  {
   "cell_type": "code",
   "execution_count": 12,
   "id": "8aaf0df8-7e8e-4d70-921f-06ece6f70eaf",
   "metadata": {},
   "outputs": [],
   "source": [
    "data_matrix, patient_ids, labeling_time = [\n",
    "    features[k] for k in (\"data_matrix\", \"patient_ids\", \"labeling_time\")\n",
    "]\n",
    "labels = []\n",
    "for pid, time in zip(patient_ids, labeling_time):\n",
    "    raw_labels = [\n",
    "        label.value for label in labeled_patients[pid] if label.time == time\n",
    "    ]\n",
    "    assert len(raw_labels) == 1\n",
    "    labels.append(raw_labels[0])\n",
    "\n",
    "labels = np.array(labels)"
   ]
  },
  {
   "cell_type": "code",
   "execution_count": 13,
   "id": "5881468e-ff64-472b-ac9d-725c9a262bda",
   "metadata": {},
   "outputs": [
    {
     "ename": "AttributeError",
     "evalue": "'piton.extension.datasets.PatientDatabase' object has no attribute 'compute_split'",
     "output_type": "error",
     "traceback": [
      "\u001b[0;31m---------------------------------------------------------------------------\u001b[0m",
      "\u001b[0;31mAttributeError\u001b[0m                            Traceback (most recent call last)",
      "Cell \u001b[0;32mIn [13], line 1\u001b[0m\n\u001b[0;32m----> 1\u001b[0m hashes \u001b[38;5;241m=\u001b[39m np\u001b[38;5;241m.\u001b[39marray([data\u001b[38;5;241m.\u001b[39mcompute_split(\u001b[38;5;241m97\u001b[39m, pid) \u001b[38;5;28;01mfor\u001b[39;00m pid \u001b[38;5;129;01min\u001b[39;00m patient_ids])\n\u001b[1;32m      2\u001b[0m train_pids \u001b[38;5;241m=\u001b[39m hashes \u001b[38;5;241m<\u001b[39m \u001b[38;5;241m70\u001b[39m\n\u001b[1;32m      3\u001b[0m val_pids \u001b[38;5;241m=\u001b[39m (hashes \u001b[38;5;241m>\u001b[39m\u001b[38;5;241m=\u001b[39m \u001b[38;5;241m70\u001b[39m) \u001b[38;5;241m&\u001b[39m (hashes \u001b[38;5;241m<\u001b[39m \u001b[38;5;241m85\u001b[39m)\n",
      "Cell \u001b[0;32mIn [13], line 1\u001b[0m, in \u001b[0;36m<listcomp>\u001b[0;34m(.0)\u001b[0m\n\u001b[0;32m----> 1\u001b[0m hashes \u001b[38;5;241m=\u001b[39m np\u001b[38;5;241m.\u001b[39marray([\u001b[43mdata\u001b[49m\u001b[38;5;241;43m.\u001b[39;49m\u001b[43mcompute_split\u001b[49m(\u001b[38;5;241m97\u001b[39m, pid) \u001b[38;5;28;01mfor\u001b[39;00m pid \u001b[38;5;129;01min\u001b[39;00m patient_ids])\n\u001b[1;32m      2\u001b[0m train_pids \u001b[38;5;241m=\u001b[39m hashes \u001b[38;5;241m<\u001b[39m \u001b[38;5;241m70\u001b[39m\n\u001b[1;32m      3\u001b[0m val_pids \u001b[38;5;241m=\u001b[39m (hashes \u001b[38;5;241m>\u001b[39m\u001b[38;5;241m=\u001b[39m \u001b[38;5;241m70\u001b[39m) \u001b[38;5;241m&\u001b[39m (hashes \u001b[38;5;241m<\u001b[39m \u001b[38;5;241m85\u001b[39m)\n",
      "\u001b[0;31mAttributeError\u001b[0m: 'piton.extension.datasets.PatientDatabase' object has no attribute 'compute_split'"
     ]
    }
   ],
   "source": [
    "hashes = np.array([data.compute_split(97, pid) for pid in patient_ids])\n",
    "train_pids = hashes < 70\n",
    "val_pids = (hashes >= 70) & (hashes < 85)"
   ]
  },
  {
   "cell_type": "code",
   "execution_count": null,
   "id": "09f23fb6-203b-4cbb-91c4-9e5dac5b4720",
   "metadata": {},
   "outputs": [],
   "source": []
  }
 ],
 "metadata": {
  "kernelspec": {
   "display_name": "Python 3 (ipykernel)",
   "language": "python",
   "name": "python3"
  },
  "language_info": {
   "codemirror_mode": {
    "name": "ipython",
    "version": 3
   },
   "file_extension": ".py",
   "mimetype": "text/x-python",
   "name": "python",
   "nbconvert_exporter": "python",
   "pygments_lexer": "ipython3",
   "version": "3.10.6"
  }
 },
 "nbformat": 4,
 "nbformat_minor": 5
}
