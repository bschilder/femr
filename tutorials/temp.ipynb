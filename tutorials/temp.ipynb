{
 "cells": [
  {
   "cell_type": "code",
   "execution_count": 1,
   "id": "1991f4e1-d83d-480f-ad52-7110a4605dc5",
   "metadata": {},
   "outputs": [],
   "source": [
    "import json\n",
    "import piton.datasets\n",
    "import collections\n",
    "\n",
    "data = piton.datasets.PatientDatabase('/local-scratch/nigam/projects/ethanid/piton_1_extract')\n",
    "\n",
    "d = data.get_code_dictionary()"
   ]
  },
  {
   "cell_type": "code",
   "execution_count": 2,
   "id": "79af8336-9f15-4d09-bd11-625928a84293",
   "metadata": {},
   "outputs": [],
   "source": [
    "dictionary = json.load(open(\"/local-scratch/nigam/projects/ethanid/piton/native/results/dict_entries\"))"
   ]
  },
  {
   "cell_type": "code",
   "execution_count": 5,
   "id": "cb679e84-610c-4b8f-943d-5a5c91c65a1d",
   "metadata": {},
   "outputs": [
    {
     "name": "stdout",
     "output_type": "stream",
     "text": [
      "ontology\n",
      "385009\n",
      "defaultdict(<class 'int'>, {0: 16166, 2: 19751, 1: 14083})\n",
      "defaultdict(<class 'int'>, {0: 75343, 2: 237795, 1: 71871})\n",
      "regular\n",
      "349715\n",
      "defaultdict(<class 'int'>, {0: 15313, 2: 20301, 1: 14386})\n",
      "defaultdict(<class 'int'>, {0: 40049, 2: 237795, 1: 71871})\n"
     ]
    }
   ],
   "source": [
    "for name, dicti in dictionary.items():\n",
    "    print(name)\n",
    "\n",
    "    print(len(dicti))\n",
    "\n",
    "    type_count = collections.defaultdict(int)\n",
    "\n",
    "    for i, entry in enumerate(dicti[:50_000]):\n",
    "        type_count[entry['type']] += 1\n",
    "\n",
    "    print(type_count)\n",
    "\n",
    "    type_count = collections.defaultdict(int)\n",
    "\n",
    "    for i, entry in enumerate(dicti):\n",
    "        type_count[entry['type']] += 1\n",
    "\n",
    "    print(type_count)"
   ]
  },
  {
   "cell_type": "code",
   "execution_count": null,
   "id": "58f4c27e-1737-4506-bc66-cc5394b79769",
   "metadata": {},
   "outputs": [],
   "source": [
    "total_events = 0\n",
    "\n",
    "\n",
    "\n",
    "for event in data[0].events:\n",
    "    if 'STANFORD_OBS' in bytes(d[event.code]).decode('utf8'):\n",
    "        continue\n",
    "    \n",
    "    total_events += 1\n",
    "    print(event)\n",
    "    \n",
    "print(len(data[0].events))\n",
    "print(total_events)"
   ]
  },
  {
   "cell_type": "code",
   "execution_count": 8,
   "id": "b670cc72-1fa0-4c4f-8f7f-3d62be28d3ee",
   "metadata": {},
   "outputs": [
    {
     "name": "stdout",
     "output_type": "stream",
     "text": [
      "SNOMED/138875005\n",
      "-0.37756210565567017 51747 0 0.0 0.0\n",
      "SNOMED/71388002\n",
      "-0.08683542162179947 49325 0 0.0 0.0\n",
      "SNOMED/404684003\n",
      "-0.0866445004940033 6849 0 0.0 0.0\n",
      "SNOMED/250171008\n",
      "-0.040391478687524796 50918 0 0.0 0.0\n",
      "SNOMED/118234003\n",
      "-0.040338028222322464 50674 0 0.0 0.0\n",
      "SNOMED/64572001\n",
      "-0.04031822457909584 49701 0 0.0 0.0\n",
      "SNOMED/108252007\n",
      "-0.03662176430225372 776 0 0.0 0.0\n",
      "SNOMED/122869004\n",
      "-0.02812344953417778 49489 0 0.0 0.0\n",
      "SNOMED/128927009\n",
      "-0.02468879520893097 49534 0 0.0 0.0\n",
      "SNOMED/74040009\n",
      "-0.02347121760249138 2320 0 0.0 0.0\n",
      "SNOMED/362958002\n",
      "-0.020607510581612587 52373 0 0.0 0.0\n",
      "SNOMED/243796009\n",
      "-0.019363095983862877 72129 0 0.0 0.0\n",
      "SNOMED/363679005\n",
      "-0.016260676085948944 49759 0 0.0 0.0\n",
      "SNOMED/102957003\n",
      "-0.015267092734575272 54075 0 0.0 0.0\n",
      "SNOMED/308335008\n",
      "-0.015255212783813477 148 0 0.0 0.0\n",
      "SNOMED/433441002\n",
      "-0.01503671333193779 50029 0 0.0 0.0\n",
      "SNOMED/248982007\n",
      "-0.014915882609784603 49723 0 0.0 0.0\n",
      "SNOMED/301857004\n",
      "-0.01434195414185524 50467 0 0.0 0.0\n",
      "SNOMED/302292003\n",
      "-0.014176985248923302 27738 0 0.0 0.0\n",
      "SNOMED/123946008\n",
      "-0.014161366969347 45969 0 0.0 0.0\n",
      "SNOMED/248402002\n",
      "-0.013274481520056725 50098 0 0.0 0.0\n",
      "SNOMED/406123005\n",
      "-0.013052444905042648 54468 0 0.0 0.0\n",
      "SNOMED/118222006\n",
      "-0.012298904359340668 4847 0 0.0 0.0\n",
      "SNOMED/118254002\n",
      "-0.012174646370112896 7082 0 0.0 0.0\n",
      "SNOMED/106063007\n",
      "-0.011537187732756138 53105 0 0.0 0.0\n",
      "SNOMED/386053000\n",
      "-0.011217357590794563 14520 0 0.0 0.0\n",
      "SNOMED/106028002\n",
      "-0.010645531117916107 4214 0 0.0 0.0\n",
      "SNOMED/441742003\n",
      "-0.010525545105338097 51033 0 0.0 0.0\n",
      "SNOMED/122445005\n",
      "-0.010340041480958462 39154 0 0.0 0.0\n",
      "SNOMED/363691001\n",
      "-0.010127628222107887 49548 0 0.0 0.0\n",
      "SNOMED/33468001\n",
      "-0.009983452036976814 49378 0 0.0 0.0\n",
      "SNOMED/3950001\n",
      "-0.09177964925765991 269 0 0.0 0.0\n",
      "SNOMED/308335008\n",
      "-0.026965996250510216 148 0 0.0 0.0\n",
      "SNOMED/417662000\n",
      "-0.022886164486408234 55 0 0.0 0.0\n",
      "SNOMED/39104002\n",
      "-0.0166343804448843 200 0 0.0 0.0\n",
      "SNOMED/43396009\n",
      "-0.01470070518553257 341 0 0.0 0.0\n",
      "SNOMED/387713003\n",
      "-0.00840555690228939 799 0 0.0 0.0\n",
      "SNOMED/446914005\n",
      "-0.008020834997296333 1153 0 0.0 0.0\n"
     ]
    }
   ],
   "source": [
    "for name, dicti in dictionary.items():\n",
    "    codes = {a['code']:i for i, a in enumerate(dicti)}\n",
    "\n",
    "    for i, entry in enumerate(dicti[:100]):\n",
    "        # type_count[entry['type']] += 1\n",
    "        if entry['type'] != 0:\n",
    "            continue\n",
    "        c = bytes(d[entry['code']]).decode('utf8')\n",
    "        if 'SNOMED' not in c:\n",
    "            continue\n",
    "        print(c)\n",
    "        print(entry['weight'], entry['code'], entry['type'], entry['val_start'], entry['val_end'])\n"
   ]
  },
  {
   "cell_type": "code",
   "execution_count": null,
   "id": "d442dd07-d7ba-4aac-adcf-025d178731ce",
   "metadata": {},
   "outputs": [],
   "source": [
    "p = data[3100]\n",
    "\n",
    "print(data.get_original_patient_id(2))\n",
    "\n",
    "found_it = 0\n",
    "total = 0\n",
    "found_indirect = 0\n",
    "\n",
    "for event in p.events:\n",
    "    if event.value is not None:\n",
    "        continue\n",
    "    text = bytes(d[event.code]).decode('utf8')\n",
    "    total += 1\n",
    "    if codes[event.code] < 50000:\n",
    "        found_it += 1\n",
    "    found_indirectly = False\n",
    "    # for parent in data.get_ontology().get_all_parents(event.code):\n",
    "    #     if parent not in codes or codes[parent] > 50000:\n",
    "    #             continue\n",
    "    #     found_indirectly = True\n",
    "    found_indirect += found_indirectly\n",
    "    \n",
    "    if codes[event.code] >= 50000 and not found_indirectly:\n",
    "        print(\"Lost\", event, text, codes[event.code])\n",
    "    else:\n",
    "        print(\"Found\", event, text, codes[event.code])\n",
    "    \n",
    "    # if text == \"SNOMED/21719001\":\n",
    "    #     for parent in data.get_ontology().get_all_parents(event.code):\n",
    "    #         if parent not in codes or codes[parent] > 50000:\n",
    "    #             continue\n",
    "    #         print(bytes(d[parent]).decode('utf8'), codes[parent])\n",
    "    #     print(event, codes[event.code], text)\n",
    "    \n",
    "print(found_it)\n",
    "print(found_indirect)\n",
    "print(total)"
   ]
  },
  {
   "cell_type": "code",
   "execution_count": 26,
   "id": "8086a2d4-e5db-490a-bd64-54f70f7c7473",
   "metadata": {},
   "outputs": [],
   "source": [
    "import numpy as np\n",
    "import matplotlib.pyplot as plt\n",
    "\n",
    "blah = np.array(json.load(open(\"/local-scratch/nigam/projects/ethanid/piton/native/results/shoot\")))\n"
   ]
  },
  {
   "cell_type": "code",
   "execution_count": 30,
   "id": "eca35e8c-ede9-422e-aad7-bd71dfd200de",
   "metadata": {},
   "outputs": [
    {
     "name": "stdout",
     "output_type": "stream",
     "text": [
      "[13705.5         1566.13300744   800.05607033   527.80793083\n",
      " 27774.73325551   104.09295199]\n"
     ]
    }
   ],
   "source": [
    "print(blah.mean(axis=0))"
   ]
  },
  {
   "cell_type": "code",
   "execution_count": 47,
   "id": "7f34fe03-890b-415a-aa90-944f93ea7b55",
   "metadata": {},
   "outputs": [
    {
     "name": "stdout",
     "output_type": "stream",
     "text": [
      "[0.36480374 0.96968481 0.98781556 0.99551291 0.7596673  0.9998176 ]\n"
     ]
    }
   ],
   "source": [
    "print((blah < 10000).mean(axis=0))"
   ]
  },
  {
   "cell_type": "code",
   "execution_count": 59,
   "id": "20cf2502-24d8-4419-aebd-e0313b4321b0",
   "metadata": {},
   "outputs": [],
   "source": [
    "def weighted_percentile(data, percents, weights=None):\n",
    "    ''' percents in units of 1%\n",
    "        weights specifies the frequency (count) of data.\n",
    "    '''\n",
    "    if weights is None:\n",
    "        return np.percentile(data, percents)\n",
    "    ind=np.argsort(data)\n",
    "    d=data[ind]\n",
    "    w=weights[ind]\n",
    "    p=1.*w.cumsum()/w.sum()*100\n",
    "    y=np.interp(percents, p, d)\n",
    "    return y"
   ]
  },
  {
   "cell_type": "code",
   "execution_count": 80,
   "id": "49d6f762-5b9f-42ac-90fb-c426cbf2b520",
   "metadata": {},
   "outputs": [],
   "source": [
    "bins = [[] for i in range(13)]\n",
    "\n",
    "for row in blah:\n",
    "    for i in range(13):\n",
    "        if row[3] <= (1 << i):\n",
    "            bins[i].append(row)\n",
    "            break\n",
    "    else:\n",
    "        bins[-1].append(row)"
   ]
  },
  {
   "cell_type": "code",
   "execution_count": null,
   "id": "8fb5b9fa-0f28-4492-b2cf-64c3a57d2614",
   "metadata": {},
   "outputs": [],
   "source": []
  },
  {
   "cell_type": "code",
   "execution_count": 94,
   "id": "f8744074-6a23-4242-9a13-e6e3f14e3038",
   "metadata": {},
   "outputs": [
    {
     "data": {
      "text/plain": [
       "(array([1.416e+03, 5.100e+01, 5.000e+00, 1.000e+00, 2.000e+00, 1.000e+00,\n",
       "        0.000e+00, 0.000e+00, 0.000e+00, 1.000e+00]),\n",
       " array([  115. ,  2954.1,  5793.2,  8632.3, 11471.4, 14310.5, 17149.6,\n",
       "        19988.7, 22827.8, 25666.9, 28506. ]),\n",
       " <BarContainer object of 10 artists>)"
      ]
     },
     "execution_count": 94,
     "metadata": {},
     "output_type": "execute_result"
    },
    {
     "data": {
      "image/png": "[encoded data removed]",
      "text/plain": [
       "<Figure size 640x480 with 1 Axes>"
      ]
     },
     "metadata": {},
     "output_type": "display_data"
    }
   ],
   "source": [
    "plt.hist(np.array(bins[12])[:, -1])"
   ]
  },
  {
   "cell_type": "code",
   "execution_count": 82,
   "id": "f42130c3-6605-4376-a8c8-a4d0ba4d1b53",
   "metadata": {},
   "outputs": [
    {
     "name": "stdout",
     "output_type": "stream",
     "text": [
      "[0, 11, 269, 1317, 1996, 2474, 3852, 4037, 3944, 3676, 2687, 1672, 1477]\n"
     ]
    }
   ],
   "source": [
    "print([len(b) for b in bins])"
   ]
  }
 ],
 "metadata": {
  "kernelspec": {
   "display_name": "Python 3",
   "language": "python",
   "name": "python3"
  },
  "language_info": {
   "codemirror_mode": {
    "name": "ipython",
    "version": 3
   },
   "file_extension": ".py",
   "mimetype": "text/x-python",
   "name": "python",
   "nbconvert_exporter": "python",
   "pygments_lexer": "ipython3",
   "version": "3.10.6"
  }
 },
 "nbformat": 4,
 "nbformat_minor": 5
}
