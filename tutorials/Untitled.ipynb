{
 "cells": [
  {
   "cell_type": "code",
   "execution_count": 1,
   "id": "cc38162b-8b3f-4ec7-a0ad-e36bc29635cb",
   "metadata": {},
   "outputs": [
    {
     "name": "stdout",
     "output_type": "stream",
     "text": [
      "Ready to go!\n",
      "1552\n"
     ]
    }
   ],
   "source": [
    "import piton.extension.dataloader\n",
    "import piton.models.transformer\n",
    "\n",
    "data_path = '/local-scratch/nigam/projects/ethanid/piton_1_extract'\n",
    "\n",
    "dictionary_path =  \"/local-scratch/nigam/projects/ethanid/piton/native/results/dict_entries\"\n",
    "\n",
    "import piton.datasets\n",
    "\n",
    "data = piton.datasets.PatientDatabase(data_path)\n",
    "\n",
    "import json\n",
    "\n",
    "config = {\n",
    "    \"seed\": 97,\n",
    "    \"vocab_size\": 50000,\n",
    "    \"dictionary\": json.load(open(dictionary_path)),\n",
    "    \"max_size\": 13,\n",
    "    \"splits\": [[\"train\", 0, 70], [\"dev\", 70, 85], [\"test\", 85, 100]],\n",
    "    \n",
    "    'hidden_size': 768,\n",
    "    'intermediate_size': 3072,\n",
    "    'n_heads': 12,\n",
    "    'n_layers': 0,\n",
    "    \n",
    "    'n_classes': 2,\n",
    "    'learning_rate': 1.2e-5,\n",
    "    'max_grad_norm': 1.0,\n",
    "    'l2': 0,\n",
    "}\n",
    "\n",
    "with open(\"trash/config.json\", 'w') as f:\n",
    "    json.dump(config, f)\n",
    "\n",
    "loader = piton.extension.dataloader.BatchCreator(data_path, \"trash/config.json\")\n",
    "\n",
    "print(\"Ready to go!\")\n",
    "print(loader.get_number_of_batches(\"train\"))"
   ]
  },
  {
   "cell_type": "code",
   "execution_count": 2,
   "id": "50a16679-a236-45fe-a420-03b04c6107a6",
   "metadata": {},
   "outputs": [
    {
     "data": {
      "text/plain": [
       "{'patient_ids': array([22860,  2650, 15714, 22997,  2287, 11128, 16926, 12311, 25280,\n",
       "        24419,   416,  8083,  8897,  2725, 21079, 23524,   118,  2586,\n",
       "        19853,  4723, 26547,  7062, 15185,  2363,  7663, 13579, 17388,\n",
       "        19857,  9094, 19979, 19186, 22020], dtype=uint32),\n",
       " 'tokens': array([[   1,    0,    5, ...,    0,    0,    0],\n",
       "        [   1,    5,   53, ...,    0,    0,    0],\n",
       "        [   1,    5,  245, ...,    0,    0,    0],\n",
       "        ...,\n",
       "        [   1,   13,    4, ...,    0,    0,    0],\n",
       "        [   1,  245,    4, ...,    0,    0,    0],\n",
       "        [   1,    5,  245, ...,  200, 8725,    0]], dtype=uint32),\n",
       " 'ages': array([[0.0000000e+00, 2.7378234e-03, 2.7378234e-03, ..., 0.0000000e+00,\n",
       "         0.0000000e+00, 0.0000000e+00],\n",
       "        [0.0000000e+00, 2.7378234e-03, 1.5097034e+01, ..., 0.0000000e+00,\n",
       "         0.0000000e+00, 0.0000000e+00],\n",
       "        [0.0000000e+00, 2.7378234e-03, 2.7378234e-03, ..., 0.0000000e+00,\n",
       "         0.0000000e+00, 0.0000000e+00],\n",
       "        ...,\n",
       "        [0.0000000e+00, 2.7378234e-03, 2.7378234e-03, ..., 0.0000000e+00,\n",
       "         0.0000000e+00, 0.0000000e+00],\n",
       "        [0.0000000e+00, 2.7378234e-03, 2.7378234e-03, ..., 0.0000000e+00,\n",
       "         0.0000000e+00, 0.0000000e+00],\n",
       "        [0.0000000e+00, 2.7378234e-03, 2.7378234e-03, ..., 6.4687668e+01,\n",
       "         6.4687668e+01, 0.0000000e+00]], dtype=float32)}"
      ]
     },
     "execution_count": 2,
     "metadata": {},
     "output_type": "execute_result"
    }
   ],
   "source": [
    "loader.get_batch(\"train\", 1)"
   ]
  },
  {
   "cell_type": "code",
   "execution_count": 3,
   "id": "f8e39e00-b666-47d8-bc30-0c363c26d70b",
   "metadata": {},
   "outputs": [],
   "source": [
    "import piton.models.transformer\n",
    "import haiku as hk\n",
    "import jax\n",
    "import jax.numpy as jnp\n",
    "\n",
    "import jmp\n",
    "policy = jmp.get_policy('params=float32,compute=float16,output=float16')\n",
    "hk.mixed_precision.set_policy(piton.models.transformer.RobertaClassifier, policy)\n",
    "\n",
    "def roberta_classification_fn(batch):\n",
    "    model = piton.models.transformer.RobertaClassifier(config)(batch)\n",
    "    return model\n",
    "\n",
    "rng = jax.random.PRNGKey(42)\n",
    "roberta_classifier = hk.transform(roberta_classification_fn, apply_rng=True)\n",
    "params = roberta_classifier.init(\n",
    "    rng, \n",
    "    batch={a:jnp.array(b) for a, b in loader.get_batch(\"train\", 1).items()},\n",
    ")"
   ]
  },
  {
   "cell_type": "code",
   "execution_count": 4,
   "id": "e2060d30-61de-4c79-8703-a1d3038f1553",
   "metadata": {},
   "outputs": [],
   "source": [
    "# print(params)"
   ]
  },
  {
   "cell_type": "code",
   "execution_count": 5,
   "id": "c9851e68-9aad-4225-8194-52728a5a7ce0",
   "metadata": {},
   "outputs": [],
   "source": [
    "def loss(params, loss_scale, rng, batch):\n",
    "    logits = roberta_classifier.apply(params, rng, batch)\n",
    "    labels = hk.one_hot(batch['batch_labels'], config['n_classes'])\n",
    "    softmax_xent = -jnp.sum(labels * jax.nn.log_softmax(logits))\n",
    "    softmax_xent /= labels.shape[0]\n",
    "    softmax_xent = loss_scale.scale(softmax_xent)\n",
    "    \n",
    "    # debug.print(\"Got loss {a} {b}\", a=logits, b=labels)\n",
    "    return softmax_xent\n",
    "\n",
    "# @jax.jit\n",
    "def accuracy(params, rng, batch):\n",
    "    predictions = roberta_classifier.apply(params, rng, batch, training=False)\n",
    "    return jnp.mean(jnp.argmax(predictions, axis=-1) == batch['batch_labels'])\n",
    "\n",
    "def apply_optimizer(params, grads, opt_state):\n",
    "    updates, opt_state = opt.update(grads, opt_state)\n",
    "    new_params = optax.apply_updates(params, updates)\n",
    "    return new_params, opt_state\n",
    "\n",
    "from jax import debug\n",
    "from typing import TypeVar\n",
    "\n",
    "T = TypeVar(\"T\")\n",
    "\n",
    "def _cast_floating_to(tree: T, dtype: jnp.dtype) -> T:\n",
    "  def conditional_cast(x):\n",
    "    if (isinstance(x, (np.ndarray, jnp.ndarray)) and\n",
    "        jnp.issubdtype(x.dtype, jnp.floating)):\n",
    "      x = x.astype(dtype)\n",
    "    return x\n",
    "  return jax.tree_util.tree_map(conditional_cast, tree)\n",
    "\n",
    "\n",
    "@jax.jit\n",
    "def update(params, loss_scale, rng, opt_state, batch):\n",
    "    batch_loss, grads = jax.value_and_grad(loss)(params, loss_scale, rng, batch)\n",
    "    batch_loss = loss_scale.unscale(batch_loss)\n",
    "    grads = loss_scale.unscale(_cast_floating_to(grads, jnp.float32))\n",
    "    \n",
    "    # debug.print(\"Working through {a}\", a=grads)\n",
    "    \n",
    "    grads_finite = jmp.all_finite(grads)\n",
    "    \n",
    "    loss_scale = loss_scale.adjust(grads_finite)\n",
    "    \n",
    "    new_params, opt_state = jmp.select_tree(grads_finite, apply_optimizer(params, grads, opt_state), (params, opt_state))\n",
    "    \n",
    "    return new_params, opt_state, batch_loss, loss_scale\n",
    "\n"
   ]
  },
  {
   "cell_type": "code",
   "execution_count": 6,
   "id": "4a3c859d-545b-4b30-8431-03db4e3abc0a",
   "metadata": {},
   "outputs": [
    {
     "name": "stdout",
     "output_type": "stream",
     "text": [
      "1000\n"
     ]
    }
   ],
   "source": [
    "import optax \n",
    "\n",
    "def make_lr_schedule(warmup_percentage, total_steps):\n",
    "    def lr_schedule(step):\n",
    "        percent_complete = step / total_steps\n",
    "        before_peak = jax.lax.convert_element_type(\n",
    "            (percent_complete <= warmup_percentage),\n",
    "            np.float32\n",
    "        )\n",
    "        scale = (\n",
    "            (before_peak * (percent_complete / warmup_percentage) + (1 - before_peak))\n",
    "            * (1 - percent_complete)\n",
    "        )\n",
    "        return scale\n",
    "    return lr_schedule\n",
    "\n",
    "\n",
    "total_steps = 1000 # config['n_epochs'] * (n_examples // config['batch_size'])\n",
    "print(total_steps)\n",
    "lr_schedule = make_lr_schedule(warmup_percentage=0.1, total_steps=total_steps)\n",
    "opt = optax.chain(\n",
    "    optax.clip_by_global_norm(config['max_grad_norm']),\n",
    "    optax.adam(learning_rate=config['learning_rate']),\n",
    "    optax.scale_by_schedule(lr_schedule)\n",
    ")\n",
    "opt_state = opt.init(params)\n"
   ]
  },
  {
   "cell_type": "code",
   "execution_count": null,
   "id": "0e1cf418-cb88-4e09-9786-39c3cf3ed2be",
   "metadata": {},
   "outputs": [
    {
     "name": "stdout",
     "output_type": "stream",
     "text": [
      "DynamicLossScale(loss_scale=DeviceArray(32768., dtype=float16), counter=array(0, dtype=int32), period=2000, factor=2, min_loss_scale=array(1, dtype=int32))\n",
      "0.0\n",
      "[Step 0]\n",
      "Ready to go {'patient_ids': (4,), 'tokens': (4, 2048), 'ages': (4, 2048), 'batch_labels': (4,)}\n"
     ]
    },
    {
     "name": "stderr",
     "output_type": "stream",
     "text": [
      "/home/ethanid/miniconda3/envs/piton/lib/python3.10/site-packages/jmp/_src/loss_scale.py:179: FutureWarning: jax.tree_leaves is deprecated, and will be removed in a future release. Use jax.tree_util.tree_leaves instead.\n",
      "  leaves = jax.tree_leaves(tree)\n"
     ]
    },
    {
     "name": "stdout",
     "output_type": "stream",
     "text": [
      "Got it! 0.31054688 DynamicLossScale(loss_scale=DeviceArray(16384., dtype=float16), counter=DeviceArray(0, dtype=int32), period=2000, factor=2, min_loss_scale=array(1, dtype=int32))\n",
      "Ready to go {'patient_ids': (32,), 'tokens': (32, 256), 'ages': (32, 256), 'batch_labels': (32,)}\n"
     ]
    },
    {
     "name": "stderr",
     "output_type": "stream",
     "text": [
      "/home/ethanid/miniconda3/envs/piton/lib/python3.10/site-packages/jmp/_src/loss_scale.py:179: FutureWarning: jax.tree_leaves is deprecated, and will be removed in a future release. Use jax.tree_util.tree_leaves instead.\n",
      "  leaves = jax.tree_leaves(tree)\n"
     ]
    },
    {
     "name": "stdout",
     "output_type": "stream",
     "text": [
      "Got it! 0.31054688 DynamicLossScale(loss_scale=DeviceArray(8192., dtype=float16), counter=DeviceArray(0, dtype=int32), period=2000, factor=2, min_loss_scale=array(1, dtype=int32))\n",
      "Ready to go {'patient_ids': (1,), 'tokens': (1, 8192), 'ages': (1, 8192), 'batch_labels': (1,)}\n"
     ]
    },
    {
     "name": "stderr",
     "output_type": "stream",
     "text": [
      "/home/ethanid/miniconda3/envs/piton/lib/python3.10/site-packages/jmp/_src/loss_scale.py:179: FutureWarning: jax.tree_leaves is deprecated, and will be removed in a future release. Use jax.tree_util.tree_leaves instead.\n",
      "  leaves = jax.tree_leaves(tree)\n"
     ]
    },
    {
     "name": "stdout",
     "output_type": "stream",
     "text": [
      "Got it! 0.31054688 DynamicLossScale(loss_scale=DeviceArray(4096., dtype=float16), counter=DeviceArray(0, dtype=int32), period=2000, factor=2, min_loss_scale=array(1, dtype=int32))\n",
      "Ready to go {'patient_ids': (4,), 'tokens': (4, 2048), 'ages': (4, 2048), 'batch_labels': (4,)}\n",
      "Got it! 0.31054688 DynamicLossScale(loss_scale=DeviceArray(2048., dtype=float16), counter=DeviceArray(0, dtype=int32), period=2000, factor=2, min_loss_scale=array(1, dtype=int32))\n",
      "Ready to go {'patient_ids': (4,), 'tokens': (4, 2048), 'ages': (4, 2048), 'batch_labels': (4,)}\n",
      "Got it! 0.31054688 DynamicLossScale(loss_scale=DeviceArray(1024., dtype=float16), counter=DeviceArray(0, dtype=int32), period=2000, factor=2, min_loss_scale=array(1, dtype=int32))\n",
      "Ready to go {'patient_ids': (1,), 'tokens': (1, 8192), 'ages': (1, 8192), 'batch_labels': (1,)}\n",
      "Got it! 0.31054688 DynamicLossScale(loss_scale=DeviceArray(512., dtype=float16), counter=DeviceArray(0, dtype=int32), period=2000, factor=2, min_loss_scale=array(1, dtype=int32))\n",
      "Ready to go {'patient_ids': (4,), 'tokens': (4, 2048), 'ages': (4, 2048), 'batch_labels': (4,)}\n",
      "Got it! 0.31054688 DynamicLossScale(loss_scale=DeviceArray(512., dtype=float16), counter=DeviceArray(1, dtype=int32), period=2000, factor=2, min_loss_scale=array(1, dtype=int32))\n",
      "Ready to go {'patient_ids': (1,), 'tokens': (1, 8192), 'ages': (1, 8192), 'batch_labels': (1,)}\n",
      "Got it! 0.31054688 DynamicLossScale(loss_scale=DeviceArray(256., dtype=float16), counter=DeviceArray(0, dtype=int32), period=2000, factor=2, min_loss_scale=array(1, dtype=int32))\n",
      "Ready to go {'patient_ids': (4,), 'tokens': (4, 2048), 'ages': (4, 2048), 'batch_labels': (4,)}\n",
      "Got it! 0.31054688 DynamicLossScale(loss_scale=DeviceArray(256., dtype=float16), counter=DeviceArray(1, dtype=int32), period=2000, factor=2, min_loss_scale=array(1, dtype=int32))\n",
      "Ready to go {'patient_ids': (4,), 'tokens': (4, 2048), 'ages': (4, 2048), 'batch_labels': (4,)}\n",
      "Got it! 0.31054688 DynamicLossScale(loss_scale=DeviceArray(256., dtype=float16), counter=DeviceArray(2, dtype=int32), period=2000, factor=2, min_loss_scale=array(1, dtype=int32))\n",
      "Ready to go {'patient_ids': (2,), 'tokens': (2, 4096), 'ages': (2, 4096), 'batch_labels': (2,)}\n"
     ]
    }
   ],
   "source": [
    "import numpy as np\n",
    "\n",
    "loss_scale = jmp.DynamicLossScale(jmp.half_dtype()(2 ** 15))\n",
    "# loss_scale = jmp.DynamicLossScale(jmp.half_dtype()(2))\n",
    "print(loss_scale)\n",
    "\n",
    "import time\n",
    "total_batch = jnp.array(0)\n",
    "\n",
    "for step in range(1000):\n",
    "    if step % 100 == 0:\n",
    "        print(total_batch/ 100)\n",
    "        total_batch *= 0\n",
    "        print(f\"[Step {step}]\")\n",
    "        \n",
    "    if step % 1000 == 1:\n",
    "        start = time.time()\n",
    "        \n",
    "    if step % 1000 == 999:\n",
    "        end = time.time()\n",
    "        print(end - start)\n",
    "    \n",
    "    # print(f\"[Step {step}]\")\n",
    "    if step % 1000 == 0 and step != 0:\n",
    "        print(loss_scale)\n",
    "        measure_current_performance(params, n_examples=100)\n",
    "        \n",
    "    # print(loss_scale)\n",
    "    batch = {a:jnp.array(b) for a, b in loader.get_batch(\"train\", step).items()}\n",
    "    batch['batch_labels'] = jnp.zeros((batch['tokens'].shape[0],))\n",
    "    print(\"Ready to go\", {a:b.shape for a,b in batch.items()})\n",
    "    # Perform adam update\n",
    "    # print(batch_labels)\n",
    "    params, opt_state, batch_loss, loss_scale = update(\n",
    "        params, loss_scale, rng, opt_state, batch\n",
    "    )\n",
    "    print(\"Got it!\", batch_loss, loss_scale)\n",
    "    total_batch += batch_loss\n"
   ]
  }
 ],
 "metadata": {
  "kernelspec": {
   "display_name": "Python 3",
   "language": "python",
   "name": "python3"
  },
  "language_info": {
   "codemirror_mode": {
    "name": "ipython",
    "version": 3
   },
   "file_extension": ".py",
   "mimetype": "text/x-python",
   "name": "python",
   "nbconvert_exporter": "python",
   "pygments_lexer": "ipython3",
   "version": "3.10.6"
  }
 },
 "nbformat": 4,
 "nbformat_minor": 5
}
