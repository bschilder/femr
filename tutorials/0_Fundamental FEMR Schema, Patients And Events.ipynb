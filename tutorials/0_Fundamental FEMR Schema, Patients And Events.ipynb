{
 "cells": [
  {
   "cell_type": "markdown",
   "metadata": {},
   "source": [
    "# Fundamental FEMR Schema: Patients And Events\n",
    "\n",
    "In this notebook, we go through the core FEMR schema of Patients and Events.\n",
    "\n",
    "Before going through this tutorial, please make sure you've installed **FEMR** as detailed in the [README.md](https://github.com/som-shahlab/femr)"
   ]
  },
  {
   "cell_type": "markdown",
   "metadata": {},
   "source": [
    "# Overview of **FEMR**\n",
    "\n",
    "FEMR is a framework for processing patient data. The core idea is to provide Python APIs for efficiently processing patient data, in the form of Patients and Events."
   ]
  },
  {
   "cell_type": "markdown",
   "metadata": {},
   "source": [
    "#### Patients\n",
    "\n",
    "FEMR represents every patient with the `Patient` class. \n",
    "\n",
    "A `Patient` object contains the following two attributes:\n",
    "\n",
    "* `patient_id` (str): a unique identifier for the patient\n",
    "* `events` (list): a list of `Event` objects associated with that patient\n",
    "\n",
    "The definition of the `Patient` class can be [found here](https://github.com/som-shahlab/femr/blob/main/src/femr/__init__.py#L11)\n",
    "\n",
    "#### Events\n",
    "\n",
    "FEMR represents clinical events with the `Event` object.\n",
    "\n",
    "An `Event` object can contain any number of arbitrary attributes, but it must have at least the following two attributes:\n",
    "\n",
    "* `start` (datetime.datetime): the start time of the event\n",
    "* `code` (int): the code that FEMR associates with events of the same type\n",
    "\n",
    "The definition of the `Event` class can be [found here](https://github.com/som-shahlab/femr/blob/main/src/femr/__init__.py#L22)\n"
   ]
  },
  {
   "cell_type": "markdown",
   "metadata": {},
   "source": [
    "Below, we'll create some events for some fictional patients."
   ]
  },
  {
   "cell_type": "code",
   "execution_count": null,
   "metadata": {},
   "outputs": [],
   "source": [
    "import femr\n",
    "import datetime\n",
    "\n",
    "events = [\n",
    "    # This event contains the bare minimum attributes -- start and code.\n",
    "    femr.Event(\n",
    "        start=datetime.datetime(2010, 1, 5),\n",
    "        code=2,\n",
    "    ),\n",
    "    # This event contains a couple custom attributes -- value and source_table.\n",
    "    femr.Event(\n",
    "        start=datetime.datetime(2010, 1, 3, hour=10, minute=45),\n",
    "        code=2,\n",
    "        value=\"test_value\",\n",
    "        source_table=None,\n",
    "    ),\n",
    "    # This event contains even more attributes.\n",
    "    femr.Event(\n",
    "        start=datetime.datetime(2010, 1, 3, hour=10, minute=30),\n",
    "        code=0,\n",
    "        value=34.0,\n",
    "        source_table='visit',\n",
    "        extra_attr=True,\n",
    "    ),\n",
    "]"
   ]
  },
  {
   "cell_type": "markdown",
   "metadata": {},
   "source": [
    "Now that we have our events, let's create a couple fictional patients."
   ]
  },
  {
   "cell_type": "code",
   "execution_count": null,
   "metadata": {},
   "outputs": [],
   "source": [
    "patients = [\n",
    "    # Let's assign each patient a subset of our events for example purposes.\n",
    "    femr.Patient(patient_id=0, events=events[:2]),\n",
    "    femr.Patient(patient_id=1, events=events[1:]),\n",
    "    femr.Patient(patient_id=10, events=events),\n",
    "]"
   ]
  },
  {
   "cell_type": "markdown",
   "metadata": {},
   "source": [
    "We can access a specific event's attributes as follows. Note that accessing an attribute that wasn't defined on an event will return `None` by default (rather than raise an exception)."
   ]
  },
  {
   "cell_type": "code",
   "execution_count": null,
   "metadata": {},
   "outputs": [],
   "source": [
    "print(patients[2].patient_id)\n",
    "print(patients[2].events)"
   ]
  },
  {
   "attachments": {},
   "cell_type": "markdown",
   "metadata": {},
   "source": [
    "As-is, the `Patient` and `Event` types are most just there to structure the data for FEMR pipelines.\n",
    "\n",
    "This structure will be important for processing data later on!"
   ]
  },
  {
   "cell_type": "code",
   "execution_count": null,
   "metadata": {},
   "outputs": [],
   "source": [
    "for i, p in enumerate(patients):\n",
    "    print(f\"Patient {i}: {p.__dict__}\")"
   ]
  },
  {
   "attachments": {},
   "cell_type": "markdown",
   "metadata": {},
   "source": [
    "#### PatientDatabase\n",
    "\n",
    "For runtime performance, a `PatientDatabase` is needed to run many of the models. This represents a serialized collection of patients.\n",
    "\n",
    "To make a `PatientDatabase`, "
   ]
  },
  {
   "cell_type": "code",
   "execution_count": null,
   "metadata": {},
   "outputs": [],
   "source": [
    "from femr.datasets import PatientDatabase"
   ]
  }
 ],
 "metadata": {
  "kernelspec": {
   "display_name": "Python 3 (ipykernel)",
   "language": "python",
   "name": "python3"
  },
  "language_info": {
   "codemirror_mode": {
    "name": "ipython",
    "version": 3
   },
   "file_extension": ".py",
   "mimetype": "text/x-python",
   "name": "python",
   "nbconvert_exporter": "python",
   "pygments_lexer": "ipython3",
   "version": "3.10.10"
  },
  "vscode": {
   "interpreter": {
    "hash": "5381b9feecc5c483a184cec838fb477b45f42c56cf211446745f1ac91a2d5966"
   }
  }
 },
 "nbformat": 4,
 "nbformat_minor": 4
}
