{
 "cells": [
  {
   "cell_type": "markdown",
   "id": "4764ef2d",
   "metadata": {},
   "source": [
    "# Reading data formatted in the Event Stream Data Standard\n",
    "\n",
    "In this tutorial, we will walk through how to generate a FEMR PatientDatabase using data stored in the Event Stream Data Standard (ESDS) format.\n",
    "\n",
    "ESDS is a simple format for patient data supported by several other EHR analysis libraries.\n",
   ]
  },
  {
   "cell_type": "code",
   "execution_count": 1,
   "id": "07674f0d",
   "metadata": {},
   "outputs": [],
   "source": [
    "import os\n",
    "import csv\n",
    "import shutil\n",
    "import pyarrow.parquet as pq\n",
    "\n",
    "INPUT_DIR = 'input/esds'\n",
    "\n",
    "# Import the example dataset \n",
    "example_data = pq.read_table('input/esds/0.parquet')"
   ]
  },
  {
   "cell_type": "markdown",
   "id": "ea2f835d-8c0a-4bdc-abc5-b10ce8e20329",
   "metadata": {},
   "source": [
    "## 1. Inspect the data\n",
    "\n",
    "We have created an example synthetic ESDS dataset. This can be inspected manually using parquet"
   ]
  },
  {
   "cell_type": "code",
   "execution_count": 2,
   "id": "8a134a45-215f-42f3-81e3-f2b79ee508ff",
   "metadata": {},
   "outputs": [
    {
     "name": "stdout",
     "output_type": "stream",
     "text": [
      "{'subject_id': 3, 'static_measurements': [{'code': 'Birth/Birth', 'numeric_value': None, 'text_value': None, 'datetime_value': datetime.datetime(1970, 1, 7, 0, 0)}], 'events': [{'time': datetime.datetime(1970, 1, 7, 0, 0), 'measurements': []}, {'time': datetime.datetime(1990, 1, 7, 0, 0), 'measurements': [{'code': 'Gender/Gender', 'numeric_value': None, 'text_value': 'Female', 'datetime_value': None}, {'code': 'Race/Race', 'numeric_value': None, 'text_value': 'White', 'datetime_value': None}]}, {'time': datetime.datetime(2020, 7, 9, 0, 0), 'measurements': [{'code': 'Vitals/Blood Pressure', 'numeric_value': 160.0, 'text_value': None, 'datetime_value': None}]}, {'time': datetime.datetime(2020, 8, 9, 0, 0), 'measurements': [{'code': 'Vitals/HbA1c', 'numeric_value': 7.0, 'text_value': None, 'datetime_value': None}]}, {'time': datetime.datetime(2022, 5, 3, 0, 0), 'measurements': [{'code': 'ICD10CM/E11.4', 'numeric_value': None, 'text_value': None, 'datetime_value': None}]}, {'time': datetime.datetime(2022, 6, 5, 0, 0), 'measurements': [{'code': 'ICD10CM/E10.1', 'numeric_value': None, 'text_value': None, 'datetime_value': None}, {'code': 'Note/ProgressNote', 'numeric_value': None, 'text_value': 'Patient Bob came to the clinic today', 'datetime_value': None}, {'code': 'Drug/Atorvastatin', 'numeric_value': None, 'text_value': None, 'datetime_value': None}]}, {'time': datetime.datetime(2022, 6, 6, 0, 0), 'measurements': [{'code': 'Note/ProgressNote', 'numeric_value': None, 'text_value': 'Complicated notes generally need escaping , \"\\n example', 'datetime_value': None}]}, {'time': datetime.datetime(2022, 7, 6, 0, 0), 'measurements': [{'code': 'Drug/Multivitamins', 'numeric_value': None, 'text_value': None, 'datetime_value': None}]}]}\n"
     ]
    }
   ],
   "source": [
    "patients = example_data.to_pylist()\n",
    "\n",
    "print(patients[0])"
   ]
  },
  {
   "cell_type": "markdown",
   "id": "66bb61c9",
   "metadata": {},
   "source": [
    "## 2. Convert the ESDS dataset to an extract\n",
    "We now convert the dataset we loaded above to an extract using the function [etl_esds](https://github.com/som-shahlab/femr/blob/main/src/femr/etl_pipelines/esds.py#L66) from the femr repo\n",
    "\n",
    "We need to first create folders to save the dataset and associated files "
   ]
  },
  {
   "cell_type": "code",
   "execution_count": 3,
   "id": "56b79539",
   "metadata": {},
   "outputs": [],
   "source": [
    "import shutil\n",
    "import os\n",
    "\n",
    "TARGET_DIR = 'trash/tutorial_2b'\n",
    "\n",
    "if os.path.exists(TARGET_DIR):\n",
    "    shutil.rmtree(TARGET_DIR)\n",
    "\n",
    "os.mkdir(TARGET_DIR)"
   ]
  },
  {
   "cell_type": "markdown",
   "id": "aadbb464",
   "metadata": {},
   "source": [
    "We now move/copy the `example.csv` into the `INPUT_DIR` folder\n",
    "\n",
    "The output extract is a femr [PatientDatabase](https://github.com/som-shahlab/femr/blob/Miking98-patch-1/tutorials/0_How%20FEMR%20Works%20%2B%20Toy%20Example.ipynb) that can be directly used by the femr pipeline"
   ]
  },
  {
   "cell_type": "code",
   "execution_count": 4,
   "id": "11a961b6",
   "metadata": {},
   "outputs": [
    {
     "name": "stderr",
     "output_type": "stream",
     "text": [
      "2023-09-15 23:59:34,314 [MainThread  ] [INFO ]  Extracting from OMOP with arguments Namespace(esds_source='input/esds', target_location='/share/pi/nigam/ethanid/mimic_etl/femr/tutorials/trash/tutorial_2b/extract', temp_location='/share/pi/nigam/ethanid/mimic_etl/femr/tutorials/trash/tutorial_2b/logs', num_threads=2, athena_download=None)\n",
      "2023-09-15 23:59:34,315 [MainThread  ] [INFO ]  Converting to events\n",
      "2023-09-15 23:59:34,622 [MainThread  ] [INFO ]  Converting to patients\n",
      "2023-09-15 23:59:34,714 [MainThread  ] [INFO ]  Converting to extract\n"
     ]
    },
    {
     "name": "stdout",
     "output_type": "stream",
     "text": [
      "Done with main 2023-09-15T23:59:34.85932994+00:00\n",
      "Done with meta 2023-09-15T23:59:34.860242203+00:00\n",
      "Converting to extract 2023-09-15 23:59:34.714758\n"
     ]
    },
    {
     "data": {
      "text/plain": [
       "0"
      ]
     },
     "execution_count": 4,
     "metadata": {},
     "output_type": "execute_result"
    }
   ],
   "source": [
    "# Create directories for storing the extract and extract log\n",
    "LOG_DIR = os.path.join(TARGET_DIR, \"logs\")\n",
    "EXTRACT_DIR = os.path.join(TARGET_DIR, \"extract\")\n",
    "\n",
    "import femr\n",
    "os.system(f\"etl_esds {INPUT_DIR} {EXTRACT_DIR} {LOG_DIR} --num_threads 2\")"
   ]
  },
  {
   "cell_type": "markdown",
   "id": "eb90d476",
   "metadata": {},
   "source": [
    "# 3. Open and view the data\n",
    "We now open and take a look at the femr extract we generated in the last step using the [PatientDatabase](https://github.com/som-shahlab/femr/blob/main/src/femr/extension/datasets.pyi#L24) class"
   ]
  },
  {
   "cell_type": "code",
   "execution_count": 8,
   "id": "da3aac36",
   "metadata": {},
   "outputs": [
    {
     "name": "stdout",
     "output_type": "stream",
     "text": [
      "Num patients 201\n",
      "Patient(patient_id=3, events=(Event(start=1970-01-07 00:00:00, code=Birth/Birth, value=0.0), Event(start=1990-01-07 00:00:00, code=Gender/Gender, value=Female), Event(start=1990-01-07 00:00:00, code=Race/Race, value=White), Event(start=2020-07-09 00:00:00, code=Vitals/Blood Pressure, value=160.0), Event(start=2020-08-09 00:00:00, code=Vitals/HbA1c, value=7.0), Event(start=2022-05-03 00:00:00, code=ICD10CM/E11.4), Event(start=2022-06-05 00:00:00, code=Note/ProgressNote, value=Patient Bob came to the clinic today), Event(start=2022-06-05 00:00:00, code=ICD10CM/E10.1), Event(start=2022-06-05 00:00:00, code=Drug/Atorvastatin), Event(start=2022-06-06 00:00:00, code=Note/ProgressNote, value=Complicated notes generally need escaping , \"\n",
      " example), Event(start=2022-07-06 00:00:00, code=Drug/Multivitamins)))\n"
     ]
    }
   ],
   "source": [
    "import femr.datasets\n",
    "\n",
    "database = femr.datasets.PatientDatabase(EXTRACT_DIR)\n",
    "\n",
    "# Number of patients\n",
    "print(\"Num patients\", len(database))\n",
    "\n",
    "# Print out patient_id 3 (the first example patient in our synthetic dataset)\n",
    "patient = database[3]\n",
    "print(patient)"
   ]
  }
 ],
 "metadata": {
  "kernelspec": {
   "display_name": "Python 3 (ipykernel)",
   "language": "python",
   "name": "python3"
  },
  "language_info": {
   "codemirror_mode": {
    "name": "ipython",
    "version": 3
   },
   "file_extension": ".py",
   "mimetype": "text/x-python",
   "name": "python",
   "nbconvert_exporter": "python",
   "pygments_lexer": "ipython3",
   "version": "3.10.12"
  }
 },
 "nbformat": 4,
 "nbformat_minor": 5
}
