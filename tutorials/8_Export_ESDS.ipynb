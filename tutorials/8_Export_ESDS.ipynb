{
 "cells": [
  {
   "cell_type": "markdown",
   "id": "82bc1c35-2dde-4e18-8547-c905c7429c5e",
   "metadata": {},
   "source": [
    "# Exporting Patient timelines from FEMR to the Event Stream Data Standard\n",
    "\n",
    "Given a FEMR PatientDatabase, it can sometimes be useful to export that data to the Event Stream Data Standard (ESDS) so that other tools can use it.\n",
    "\n",
    "See (TODO) for more details on the ESDS format and what libraries support it.\n",
    "\n",
    "This notebook provides an example of invoking our export tool."
   ]
  },
  {
   "cell_type": "code",
   "execution_count": 7,
   "id": "e21a76ff-113c-4a72-a466-87943135a9cb",
   "metadata": {},
   "outputs": [
    {
     "name": "stdout",
     "output_type": "stream",
     "text": [
      "Processing patient 0 out of 201\n",
      "We created the following files: ['0.parquet']\n",
      "The following is the first patient that was generated\n",
      "{'subject_id': 3, 'static_measurements': [{'code': 'Birth/Birth', 'numeric_value': None, 'text_value': None, 'datetime_value': datetime.datetime(1970, 1, 7, 0, 0)}], 'events': [{'time': datetime.datetime(1970, 1, 7, 0, 0), 'measurements': []}, {'time': datetime.datetime(1990, 1, 7, 0, 0), 'measurements': [{'code': 'Gender/Gender', 'numeric_value': None, 'text_value': 'Female', 'datetime_value': None}, {'code': 'Race/Race', 'numeric_value': None, 'text_value': 'White', 'datetime_value': None}]}, {'time': datetime.datetime(2020, 7, 9, 0, 0), 'measurements': [{'code': 'Vitals/Blood Pressure', 'numeric_value': 160.0, 'text_value': None, 'datetime_value': None}]}, {'time': datetime.datetime(2020, 8, 9, 0, 0), 'measurements': [{'code': 'Vitals/HbA1c', 'numeric_value': 7.0, 'text_value': None, 'datetime_value': None}]}, {'time': datetime.datetime(2022, 5, 3, 0, 0), 'measurements': [{'code': 'ICD10CM/E11.4', 'numeric_value': None, 'text_value': None, 'datetime_value': None}]}, {'time': datetime.datetime(2022, 6, 5, 0, 0), 'measurements': [{'code': 'ICD10CM/E10.1', 'numeric_value': None, 'text_value': None, 'datetime_value': None}, {'code': 'Note/ProgressNote', 'numeric_value': None, 'text_value': 'Patient Bob came to the clinic today', 'datetime_value': None}, {'code': 'Drug/Atorvastatin', 'numeric_value': None, 'text_value': None, 'datetime_value': None}]}, {'time': datetime.datetime(2022, 6, 6, 0, 0), 'measurements': [{'code': 'Note/ProgressNote', 'numeric_value': None, 'text_value': 'Complicated notes generally need escaping , \"\\n example', 'datetime_value': None}]}, {'time': datetime.datetime(2022, 7, 6, 0, 0), 'measurements': [{'code': 'Drug/Multivitamins', 'numeric_value': None, 'text_value': None, 'datetime_value': None}]}]}\n"
     ]
    }
   ],
   "source": [
    "# Exporting is very simple, we just need to invoke export_esds\n",
    "\n",
    "import shutil\n",
    "import os\n",
    "import pyarrow.parquet as pq\n",
    "\n",
    "TARGET_DIR = 'trash/tutorial_7'\n",
    "\n",
    "if os.path.exists(TARGET_DIR):\n",
    "    shutil.rmtree(TARGET_DIR)\n",
    "\n",
    "os.mkdir(TARGET_DIR)\n",
    "\n",
    "# Create directories for storing the extract and extract log\n",
    "EXTRACT_LOCATION = \"input/extract\"\n",
    "\n",
    "\n",
    "import femr\n",
    "os.system(f\"export_esds {EXTRACT_LOCATION} {TARGET_DIR}\")\n",
    "\n",
    "print(\"We created the following files:\", os.listdir(TARGET_DIR))\n",
    "\n",
    "\n",
    "result = pq.read_table(TARGET_DIR + '/0.parquet')\n",
    "\n",
    "print(\"The following is the first patient that was generated\")\n",
    "print(result.to_pylist()[0])"
   ]
  },
  {
   "cell_type": "code",
   "execution_count": null,
   "id": "a71ea8d0-dca4-4aff-818d-1bdb5d76d34b",
   "metadata": {},
   "outputs": [],
   "source": []
  }
 ],
 "metadata": {
  "kernelspec": {
   "display_name": "Python 3 (ipykernel)",
   "language": "python",
   "name": "python3"
  },
  "language_info": {
   "codemirror_mode": {
    "name": "ipython",
    "version": 3
   },
   "file_extension": ".py",
   "mimetype": "text/x-python",
   "name": "python",
   "nbconvert_exporter": "python",
   "pygments_lexer": "ipython3",
   "version": "3.10.12"
  }
 },
 "nbformat": 4,
 "nbformat_minor": 5
}
