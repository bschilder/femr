{
 "cells": [
  {
   "cell_type": "code",
   "execution_count": 2,
   "id": "078f6203-85ae-43a5-aee5-9b99bd96d864",
   "metadata": {},
   "outputs": [],
   "source": [
    "\n",
    "import numpy as np\n",
    "import pandas as pd \n",
    "import random\n",
    "import os\n",
    "import pickle\n",
    "from tqdm import tqdm"
   ]
  },
  {
   "cell_type": "code",
   "execution_count": 3,
   "id": "607f6a4e",
   "metadata": {},
   "outputs": [],
   "source": [
    "def reservoir_sampling(iterable, n, seed=1234):\n",
    "    np.random.seed(seed)\n",
    "    i = 0\n",
    "    pool = []\n",
    "    for item in iterable:\n",
    "        if len(pool) < n:\n",
    "            pool.append(item)\n",
    "        else:\n",
    "            k = np.random.randint(0, i)\n",
    "            if k < n:\n",
    "                pool[k] = item\n",
    "\n",
    "        i += 1\n",
    "    return pool"
   ]
  },
  {
   "cell_type": "code",
   "execution_count": 4,
   "id": "19a20e5f",
   "metadata": {},
   "outputs": [],
   "source": [
    "class ReservoirSampler:\n",
    "    def __init__(self, k, rng_seed):\n",
    "        self.k = k\n",
    "        self.total = 0\n",
    "        self.values = []\n",
    "        self.rng = random.Random(rng_seed)\n",
    "\n",
    "    def add(self, value):\n",
    "        if len(self.values) < self.k:\n",
    "            self.values.append(value)\n",
    "        else:\n",
    "            r = self.rng.randint(0, self.total)\n",
    "            if r < self.k:\n",
    "                self.values[r] = value\n",
    "\n",
    "        self.total += 1"
   ]
  },
  {
   "cell_type": "code",
   "execution_count": 5,
   "id": "645458dc",
   "metadata": {},
   "outputs": [
    {
     "name": "stderr",
     "output_type": "stream",
     "text": [
      "100%|██████████| 8841/8841 [00:00<00:00, 1275736.80it/s]\n"
     ]
    }
   ],
   "source": [
    "def sample_from_lumia(all_gz_ls, i):\n",
    "\n",
    "    '''\n",
    "    all_gz_ls : str\n",
    "        The list of jsonl.gz files.\n",
    "    i : int\n",
    "        Thread index\n",
    "    '''\n",
    "\n",
    "\n",
    "    exlude_shard = ['train.0.1684831482.jsonl.gz', 'train.1.1684831482.jsonl.gz']\n",
    "\n",
    "    all_train_ls = []\n",
    "    for gz_file in all_gz_ls:\n",
    "        if 'train' in gz_file:\n",
    "            if gz_file not in exlude_shard:\n",
    "                all_train_ls.append(gz_file)\n",
    "\n",
    "    k = 10000\n",
    "    seed = 1234\n",
    "    reservior_sampler = ReservoirSampler(k, seed)\n",
    "\n",
    "    for train_file in all_train_ls:\n",
    "        print(train_file)\n",
    "        df = pd.read_json(os.path.join(path, train_file), lines=True, compression='gzip')\n",
    "\n",
    "        for text in tqdm(df['text']):\n",
    "            reservior_sampler.add(text)\n",
    "\n",
    "    results = reservior_sampler.values\n",
    "\n",
    "\n",
    "    path_to_save = '/local-scratch/nigam/projects/zphuo/data/medical_instruction/'\n",
    "    with open(path_to_save + 'lumia_pretraining_data.pkl', 'wb') as f:\n",
    "        pickle.dump(results, f)\n",
    "    "
   ]
  },
  {
   "cell_type": "code",
   "execution_count": null,
   "id": "861312e4",
   "metadata": {},
   "outputs": [],
   "source": [
    "path = '/local-scratch/nigam/projects/jfries/crfm/datasets/pretraining/shc/markup_codes_notes_desc_dedup_x8_v1'\n",
    "\n",
    "tasks = [(path, \n",
    "                header_list, path_list[i], \n",
    "                omop_ids_chunks[i], \n",
    "                secret, top_k_set) for i in range(len(omop_ids_chunks))]"
   ]
  },
  {
   "cell_type": "raw",
   "id": "c7151e23",
   "metadata": {},
   "source": [
    "with open(path_to_save + 'lumia_pretraining_data.pkl', 'rb') as f:\n",
    "    results1 = pickle.load(f)"
   ]
  },
  {
   "cell_type": "code",
   "execution_count": null,
   "id": "2ad9cada",
   "metadata": {},
   "outputs": [],
   "source": []
  }
 ],
 "metadata": {
  "kernelspec": {
   "display_name": "FEMR_ENV",
   "language": "python",
   "name": "femr_env"
  },
  "language_info": {
   "codemirror_mode": {
    "name": "ipython",
    "version": 3
   },
   "file_extension": ".py",
   "mimetype": "text/x-python",
   "name": "python",
   "nbconvert_exporter": "python",
   "pygments_lexer": "ipython3",
   "version": "3.10.6"
  },
  "vscode": {
   "interpreter": {
    "hash": "9be4083a165d9f7c60bfb77d9c61c87cd0e7404c5f6b77c29da6da9ebfe2f072"
   }
  }
 },
 "nbformat": 4,
 "nbformat_minor": 5
}
