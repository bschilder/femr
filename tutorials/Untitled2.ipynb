{
 "cells": [
  {
   "cell_type": "code",
   "execution_count": 1,
   "id": "c691b4b4-a187-44db-a2d2-79565c80cc72",
   "metadata": {},
   "outputs": [
    {
     "name": "stderr",
     "output_type": "stream",
     "text": [
      "/home/rthapa84/.conda/envs/env_piton/lib/python3.10/site-packages/tqdm/auto.py:22: TqdmWarning: IProgress not found. Please update jupyter and ipywidgets. See https://ipywidgets.readthedocs.io/en/stable/user_install.html\n",
      "  from .autonotebook import tqdm as notebook_tqdm\n"
     ]
    }
   ],
   "source": [
    "import piton\n",
    "import piton.datasets\n",
    "import pickle\n",
    "import numpy as np\n",
    "\n",
    "from transformers import AutoModel, AutoTokenizer, AutoModelForMaskedLM\n",
    "from piton.featurizers import save_to_file, load_from_file\n",
    "from piton.featurizers.featurizers import TextFeaturizer, _get_text_embeddings\n",
    "from typing import Tuple, List\n",
    "import multiprocessing\n",
    "import datetime\n",
    "import os"
   ]
  },
  {
   "cell_type": "code",
   "execution_count": 2,
   "id": "6156fd6c-5daa-4ac9-81b7-0561bca9dd88",
   "metadata": {},
   "outputs": [],
   "source": [
    "def save_to_file(object_to_save, path_to_file: str):\n",
    "    \"\"\"Save object to Pickle file.\"\"\"\n",
    "    os.makedirs(os.path.dirname(path_to_file), exist_ok=True)\n",
    "    with open(path_to_file, \"wb\") as fd:\n",
    "        pickle.dump(object_to_save, fd)\n",
    "\n",
    "def load_from_file(path_to_file: str):\n",
    "    \"\"\"Load object from Pickle file.\"\"\"\n",
    "    with open(path_to_file, \"rb\") as fd:\n",
    "        result = pickle.load(fd)\n",
    "    return result"
   ]
  },
  {
   "cell_type": "code",
   "execution_count": 3,
   "id": "7f2c4f60-cded-48dc-b2ce-0e77b26b68fc",
   "metadata": {},
   "outputs": [],
   "source": [
    "# Please update this path with your extract of piton as noted in previous notebook. \n",
    "# PATH_TO_PITON_DB= '/share/pi/nigam/data/som-rit-phi-starr-prod.starr_omop_cdm5_deid_2022_09_05_extract2'\n",
    "PATH_TO_SAVE_MATRIX = \"/local-scratch/nigam/projects/rthapa84/data\"\n",
    "TEXT_EMBEDDINGS_PATH = \"test_diabetes_text_embeddings.pickle\"\n",
    "\n",
    "path_to_model = \"/local-scratch/nigam/projects/clmbr_text_assets/models/Clinical-Longformer\"\n",
    "# path_to_model = \"/local-scratch/nigam/projects/clmbr_text_assets/models/Bio_ClinicalBERT\"\n",
    "path_to_labeled_patients = \"/local-scratch/nigam/projects/rthapa84/data/HighHbA1c_labeled_patients_v3.pickle\"\n",
    "database_path = \"/local-scratch/nigam/projects/ethanid/som-rit-phi-starr-prod.starr_omop_cdm5_deid_2022_09_05_extract2\"\n",
    "path_to_save = \"/local-scratch/nigam/projects/rthapa84/data/\"\n",
    "num_threads = 20\n",
    "num_threads_gpu = 2\n",
    "min_char = 100\n",
    "max_char = 10000\n",
    "max_length = 1024\n",
    "padding = True\n",
    "truncation = True\n",
    "chunk_size = 10\n",
    "num_patients = None"
   ]
  },
  {
   "cell_type": "code",
   "execution_count": 4,
   "id": "2651d68e-342f-4d32-b756-f519acb418de",
   "metadata": {},
   "outputs": [
    {
     "name": "stdout",
     "output_type": "stream",
     "text": [
      "5\n"
     ]
    }
   ],
   "source": [
    "tokenized_text_list = load_from_file(os.path.join(path_to_save, \"temp_tokenized_text.pickle\"))\n",
    "print(len(tokenized_text_list))"
   ]
  },
  {
   "cell_type": "code",
   "execution_count": 12,
   "id": "6fd67d4b-3cfd-4ab7-a3e1-b55f063fbc0e",
   "metadata": {},
   "outputs": [
    {
     "name": "stderr",
     "output_type": "stream",
     "text": [
      "Some weights of the model checkpoint at /local-scratch/nigam/projects/clmbr_text_assets/models/Clinical-Longformer were not used when initializing LongformerModel: ['lm_head.bias', 'lm_head.decoder.weight', 'lm_head.dense.bias', 'lm_head.decoder.bias', 'lm_head.layer_norm.weight', 'lm_head.layer_norm.bias', 'lm_head.dense.weight']\n",
      "- This IS expected if you are initializing LongformerModel from the checkpoint of a model trained on another task or with another architecture (e.g. initializing a BertForSequenceClassification model from a BertForPreTraining model).\n",
      "- This IS NOT expected if you are initializing LongformerModel from the checkpoint of a model that you expect to be exactly identical (initializing a BertForSequenceClassification model from a BertForSequenceClassification model).\n",
      "Some weights of LongformerModel were not initialized from the model checkpoint at /local-scratch/nigam/projects/clmbr_text_assets/models/Clinical-Longformer and are newly initialized: ['longformer.pooler.dense.weight', 'longformer.pooler.dense.bias']\n",
      "You should probably TRAIN this model on a down-stream task to be able to use it for predictions and inference.\n"
     ]
    }
   ],
   "source": [
    "model = AutoModel.from_pretrained(path_to_model)"
   ]
  },
  {
   "cell_type": "code",
   "execution_count": 15,
   "id": "6d29060e-b277-459f-ba5f-69b9f93b7d98",
   "metadata": {},
   "outputs": [
    {
     "name": "stderr",
     "output_type": "stream",
     "text": [
      "100%|████████████████████████████████████████████████████████████████████████████████████████████████████████████████████████████████████████████████████████████████████████████████████████████████████████████████████████████| 5/5 [02:31<00:00, 30.27s/it]\n"
     ]
    }
   ],
   "source": [
    "from tqdm import tqdm\n",
    "embeddings = []\n",
    "for tokenized_data in tqdm(tokenized_text_list):\n",
    "    outputs = model(**tokenized_data)\n",
    "    batch_embedding_tensor = outputs.last_hidden_state[:, 0, :].squeeze()\n",
    "    batch_embedding_numpy = batch_embedding_tensor.cpu().detach().numpy()\n",
    "    embeddings.append(batch_embedding_numpy)\n",
    "\n",
    "embeddings = np.concatenate(embeddings)"
   ]
  },
  {
   "cell_type": "code",
   "execution_count": 16,
   "id": "7698ecf7-fcb8-4a06-b669-fe6d39e1d28f",
   "metadata": {},
   "outputs": [
    {
     "data": {
      "text/plain": [
       "(50, 768)"
      ]
     },
     "execution_count": 16,
     "metadata": {},
     "output_type": "execute_result"
    }
   ],
   "source": [
    "embeddings.shape"
   ]
  },
  {
   "cell_type": "code",
   "execution_count": null,
   "id": "06f6bc99-6728-4010-bfe5-96354aab31ec",
   "metadata": {},
   "outputs": [],
   "source": []
  }
 ],
 "metadata": {
  "kernelspec": {
   "display_name": "Python 3 (ipykernel)",
   "language": "python",
   "name": "python3"
  },
  "language_info": {
   "codemirror_mode": {
    "name": "ipython",
    "version": 3
   },
   "file_extension": ".py",
   "mimetype": "text/x-python",
   "name": "python",
   "nbconvert_exporter": "python",
   "pygments_lexer": "ipython3",
   "version": "3.10.6"
  }
 },
 "nbformat": 4,
 "nbformat_minor": 5
}
