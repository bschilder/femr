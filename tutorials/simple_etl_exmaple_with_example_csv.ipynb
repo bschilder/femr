{
 "cells": [
  {
   "cell_type": "code",
   "execution_count": null,
   "metadata": {},
   "outputs": [],
   "source": [
    "# Goal: Start with the CSV, and end with a dict of Patients and events"
   ]
  },
  {
   "cell_type": "code",
   "execution_count": null,
   "metadata": {},
   "outputs": [],
   "source": [
    "!pip install pandas\n",
    "!pip install femr==0.1.0 # Since this is pip-installable now, we can fix tutorials to a specific version"
   ]
  },
  {
   "cell_type": "code",
   "execution_count": 3,
   "metadata": {},
   "outputs": [
    {
     "data": {
      "text/html": [
       "<div>\n",
       "<style scoped>\n",
       "    .dataframe tbody tr th:only-of-type {\n",
       "        vertical-align: middle;\n",
       "    }\n",
       "\n",
       "    .dataframe tbody tr th {\n",
       "        vertical-align: top;\n",
       "    }\n",
       "\n",
       "    .dataframe thead th {\n",
       "        text-align: right;\n",
       "    }\n",
       "</style>\n",
       "<table border=\"1\" class=\"dataframe\">\n",
       "  <thead>\n",
       "    <tr style=\"text-align: right;\">\n",
       "      <th></th>\n",
       "      <th>patient_id</th>\n",
       "      <th>start</th>\n",
       "      <th>code</th>\n",
       "      <th>value</th>\n",
       "      <th>units</th>\n",
       "      <th>dosage</th>\n",
       "    </tr>\n",
       "  </thead>\n",
       "  <tbody>\n",
       "    <tr>\n",
       "      <th>0</th>\n",
       "      <td>3</td>\n",
       "      <td>1970-01-07</td>\n",
       "      <td>Birth/Birth</td>\n",
       "      <td>NaN</td>\n",
       "      <td>NaN</td>\n",
       "      <td>NaN</td>\n",
       "    </tr>\n",
       "    <tr>\n",
       "      <th>1</th>\n",
       "      <td>3</td>\n",
       "      <td>1990-01-07</td>\n",
       "      <td>Gender/Gender</td>\n",
       "      <td>Female</td>\n",
       "      <td>NaN</td>\n",
       "      <td>NaN</td>\n",
       "    </tr>\n",
       "    <tr>\n",
       "      <th>2</th>\n",
       "      <td>3</td>\n",
       "      <td>1990-01-07</td>\n",
       "      <td>Race/Race</td>\n",
       "      <td>White</td>\n",
       "      <td>NaN</td>\n",
       "      <td>NaN</td>\n",
       "    </tr>\n",
       "    <tr>\n",
       "      <th>3</th>\n",
       "      <td>3</td>\n",
       "      <td>2022-05-03</td>\n",
       "      <td>ICD10CM/E11.4</td>\n",
       "      <td>NaN</td>\n",
       "      <td>NaN</td>\n",
       "      <td>NaN</td>\n",
       "    </tr>\n",
       "    <tr>\n",
       "      <th>4</th>\n",
       "      <td>3</td>\n",
       "      <td>2022-06-05</td>\n",
       "      <td>ICD10CM/E10.1</td>\n",
       "      <td>NaN</td>\n",
       "      <td>NaN</td>\n",
       "      <td>NaN</td>\n",
       "    </tr>\n",
       "  </tbody>\n",
       "</table>\n",
       "</div>"
      ],
      "text/plain": [
       "   patient_id       start           code   value units dosage\n",
       "0           3  1970-01-07    Birth/Birth     NaN   NaN    NaN\n",
       "1           3  1990-01-07  Gender/Gender  Female   NaN    NaN\n",
       "2           3  1990-01-07      Race/Race   White   NaN    NaN\n",
       "3           3  2022-05-03  ICD10CM/E11.4     NaN   NaN    NaN\n",
       "4           3  2022-06-05  ICD10CM/E10.1     NaN   NaN    NaN"
      ]
     },
     "execution_count": 3,
     "metadata": {},
     "output_type": "execute_result"
    }
   ],
   "source": [
    "import pandas as pd\n",
    "\n",
    "input_df = pd.read_csv(\"example.csv\")\n",
    "input_df.head()"
   ]
  },
  {
   "cell_type": "code",
   "execution_count": 14,
   "metadata": {},
   "outputs": [
    {
     "data": {
      "text/plain": [
       "Patient(patient_id=3, events=[Event(start=1970-01-07 00:01:00, code=Birth/Birth, value=nan), Event(start=1990-01-07 00:01:00, code=Gender/Gender, value=Female), Event(start=1990-01-07 00:01:00, code=Race/Race, value=White), Event(start=2022-01-03 00:05:00, code=ICD10CM/E11.4, value=nan), Event(start=2022-01-05 00:06:00, code=ICD10CM/E10.1, value=nan), Event(start=2020-01-09 00:07:00, code=Vitals/Blood Pressure, value=160), Event(start=2020-01-09 00:08:00, code=Vitals/HbA1c, value=7), Event(start=2022-01-05 00:06:00, code=Drug/Atorvastatin, value=nan), Event(start=2022-01-06 00:07:00, code=Drug/Multivitamins, value=nan), Event(start=2022-01-05 00:06:00, code=Note/ProgressNote, value=Patient Bob came to the clinic today), Event(start=2022-01-06 00:06:00, code=Note/ProgressNote, value=Complicated notes generally need escaping , \" \n",
       " example)])"
      ]
     },
     "execution_count": 14,
     "metadata": {},
     "output_type": "execute_result"
    }
   ],
   "source": [
    "from femr import Patient, Event\n",
    "from datetime import datetime\n",
    "# Ok. This is the \"ETL\"\n",
    "\n",
    "def transform_fn(source: pd.DataFrame, patient_id: int) -> Patient:\n",
    "    events = []\n",
    "    # \"Query\" the dataset for events related to the patient\n",
    "    events_df = source[source[\"patient_id\"] == patient_id]\n",
    "    # For each row, create an Event object\n",
    "    for _, row in events_df.iterrows():\n",
    "        events.append(\n",
    "            # More code for null handling, though this is the rough idea.\n",
    "            # There are ways to abstract this based on data handling decisions.\n",
    "            Event(\n",
    "                datetime.strptime(row[\"start\"], \"%Y-%M-%d\"), \n",
    "                row[\"code\"], \n",
    "                row[\"value\"])\n",
    "            )\n",
    "    # Return a Patient object with the Events\n",
    "    return Patient(patient_id, events)\n",
    "\n",
    "transform_fn(input_df, 3)"
   ]
  },
  {
   "cell_type": "code",
   "execution_count": 15,
   "metadata": {},
   "outputs": [
    {
     "data": {
      "text/plain": [
       "[Patient(patient_id=3, events=[Event(start=1970-01-07 00:01:00, code=Birth/Birth, value=nan), Event(start=1990-01-07 00:01:00, code=Gender/Gender, value=Female), Event(start=1990-01-07 00:01:00, code=Race/Race, value=White), Event(start=2022-01-03 00:05:00, code=ICD10CM/E11.4, value=nan), Event(start=2022-01-05 00:06:00, code=ICD10CM/E10.1, value=nan), Event(start=2020-01-09 00:07:00, code=Vitals/Blood Pressure, value=160), Event(start=2020-01-09 00:08:00, code=Vitals/HbA1c, value=7), Event(start=2022-01-05 00:06:00, code=Drug/Atorvastatin, value=nan), Event(start=2022-01-06 00:07:00, code=Drug/Multivitamins, value=nan), Event(start=2022-01-05 00:06:00, code=Note/ProgressNote, value=Patient Bob came to the clinic today), Event(start=2022-01-06 00:06:00, code=Note/ProgressNote, value=Complicated notes generally need escaping , \" \n",
       "  example)])]"
      ]
     },
     "execution_count": 15,
     "metadata": {},
     "output_type": "execute_result"
    }
   ],
   "source": [
    "# If we had multiple patient IDs, we can do this:\n",
    "patient_ids = input_df[\"patient_id\"].unique()\n",
    "patients = [transform_fn(input_df, pid) for pid in patient_ids]\n",
    "patients"
   ]
  },
  {
   "cell_type": "code",
   "execution_count": null,
   "metadata": {},
   "outputs": [],
   "source": []
  }
 ],
 "metadata": {
  "kernelspec": {
   "display_name": "FEMR_TEST_1",
   "language": "python",
   "name": "python3"
  },
  "language_info": {
   "codemirror_mode": {
    "name": "ipython",
    "version": 3
   },
   "file_extension": ".py",
   "mimetype": "text/x-python",
   "name": "python",
   "nbconvert_exporter": "python",
   "pygments_lexer": "ipython3",
   "version": "3.10.10"
  },
  "orig_nbformat": 4
 },
 "nbformat": 4,
 "nbformat_minor": 2
}
